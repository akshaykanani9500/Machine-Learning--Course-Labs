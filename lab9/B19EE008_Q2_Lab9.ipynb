{
  "nbformat": 4,
  "nbformat_minor": 0,
  "metadata": {
    "colab": {
      "name": "B19EE008_Q2_Lab9.ipynb",
      "provenance": []
    },
    "kernelspec": {
      "name": "python3",
      "display_name": "Python 3"
    },
    "language_info": {
      "name": "python"
    }
  },
  "cells": [
    {
      "cell_type": "code",
      "metadata": {
        "id": "i5zKM08_gHJn"
      },
      "source": [
        "import numpy as np\n",
        "from sklearn import svm\n",
        "from sklearn import metrics\n",
        "import sklearn\n",
        "import pandas as pd\n",
        "\n",
        "import matplotlib.pyplot as plt\n",
        "%matplotlib inline\n",
        "import seaborn as sns\n",
        "from sklearn.svm import SVC\n",
        "from sklearn.metrics import accuracy_score\n",
        "from sklearn.model_selection import train_test_split\n",
        "from sklearn.model_selection import GridSearchCV\n",
        "\n",
        "from sklearn.pipeline import Pipeline"
      ],
      "execution_count": 9,
      "outputs": []
    },
    {
      "cell_type": "code",
      "metadata": {
        "id": "AKJX-PB1gRr1"
      },
      "source": [
        "data = pd.read_csv('/content/diabetes.csv')"
      ],
      "execution_count": 10,
      "outputs": []
    },
    {
      "cell_type": "code",
      "metadata": {
        "colab": {
          "base_uri": "https://localhost:8080/",
          "height": 194
        },
        "id": "z3ARawoOgRoX",
        "outputId": "8a22ee70-e657-46e1-b279-70957a54bdbf"
      },
      "source": [
        "data.head()"
      ],
      "execution_count": 11,
      "outputs": [
        {
          "output_type": "execute_result",
          "data": {
            "text/html": [
              "<div>\n",
              "<style scoped>\n",
              "    .dataframe tbody tr th:only-of-type {\n",
              "        vertical-align: middle;\n",
              "    }\n",
              "\n",
              "    .dataframe tbody tr th {\n",
              "        vertical-align: top;\n",
              "    }\n",
              "\n",
              "    .dataframe thead th {\n",
              "        text-align: right;\n",
              "    }\n",
              "</style>\n",
              "<table border=\"1\" class=\"dataframe\">\n",
              "  <thead>\n",
              "    <tr style=\"text-align: right;\">\n",
              "      <th></th>\n",
              "      <th>Pregnancies</th>\n",
              "      <th>Glucose</th>\n",
              "      <th>BloodPressure</th>\n",
              "      <th>SkinThickness</th>\n",
              "      <th>Insulin</th>\n",
              "      <th>BMI</th>\n",
              "      <th>DiabetesPedigreeFunction</th>\n",
              "      <th>Age</th>\n",
              "      <th>Outcome</th>\n",
              "    </tr>\n",
              "  </thead>\n",
              "  <tbody>\n",
              "    <tr>\n",
              "      <th>0</th>\n",
              "      <td>6</td>\n",
              "      <td>148</td>\n",
              "      <td>72</td>\n",
              "      <td>35</td>\n",
              "      <td>0</td>\n",
              "      <td>33.6</td>\n",
              "      <td>0.627</td>\n",
              "      <td>50</td>\n",
              "      <td>1</td>\n",
              "    </tr>\n",
              "    <tr>\n",
              "      <th>1</th>\n",
              "      <td>1</td>\n",
              "      <td>85</td>\n",
              "      <td>66</td>\n",
              "      <td>29</td>\n",
              "      <td>0</td>\n",
              "      <td>26.6</td>\n",
              "      <td>0.351</td>\n",
              "      <td>31</td>\n",
              "      <td>0</td>\n",
              "    </tr>\n",
              "    <tr>\n",
              "      <th>2</th>\n",
              "      <td>8</td>\n",
              "      <td>183</td>\n",
              "      <td>64</td>\n",
              "      <td>0</td>\n",
              "      <td>0</td>\n",
              "      <td>23.3</td>\n",
              "      <td>0.672</td>\n",
              "      <td>32</td>\n",
              "      <td>1</td>\n",
              "    </tr>\n",
              "    <tr>\n",
              "      <th>3</th>\n",
              "      <td>1</td>\n",
              "      <td>89</td>\n",
              "      <td>66</td>\n",
              "      <td>23</td>\n",
              "      <td>94</td>\n",
              "      <td>28.1</td>\n",
              "      <td>0.167</td>\n",
              "      <td>21</td>\n",
              "      <td>0</td>\n",
              "    </tr>\n",
              "    <tr>\n",
              "      <th>4</th>\n",
              "      <td>0</td>\n",
              "      <td>137</td>\n",
              "      <td>40</td>\n",
              "      <td>35</td>\n",
              "      <td>168</td>\n",
              "      <td>43.1</td>\n",
              "      <td>2.288</td>\n",
              "      <td>33</td>\n",
              "      <td>1</td>\n",
              "    </tr>\n",
              "  </tbody>\n",
              "</table>\n",
              "</div>"
            ],
            "text/plain": [
              "   Pregnancies  Glucose  BloodPressure  ...  DiabetesPedigreeFunction  Age  Outcome\n",
              "0            6      148             72  ...                     0.627   50        1\n",
              "1            1       85             66  ...                     0.351   31        0\n",
              "2            8      183             64  ...                     0.672   32        1\n",
              "3            1       89             66  ...                     0.167   21        0\n",
              "4            0      137             40  ...                     2.288   33        1\n",
              "\n",
              "[5 rows x 9 columns]"
            ]
          },
          "metadata": {
            "tags": []
          },
          "execution_count": 11
        }
      ]
    },
    {
      "cell_type": "code",
      "metadata": {
        "colab": {
          "base_uri": "https://localhost:8080/"
        },
        "id": "roUth2qTgRl4",
        "outputId": "34c541b2-57fd-4db8-ac52-b06baf8ec4cd"
      },
      "source": [
        "print(data.shape)"
      ],
      "execution_count": 12,
      "outputs": [
        {
          "output_type": "stream",
          "text": [
            "(768, 9)\n"
          ],
          "name": "stdout"
        }
      ]
    },
    {
      "cell_type": "code",
      "metadata": {
        "colab": {
          "base_uri": "https://localhost:8080/"
        },
        "id": "-rGvg38ugRjc",
        "outputId": "50ab82ce-3012-49c0-fea0-52b7a1c4e604"
      },
      "source": [
        "print(data.describe)\n"
      ],
      "execution_count": 13,
      "outputs": [
        {
          "output_type": "stream",
          "text": [
            "<bound method NDFrame.describe of      Pregnancies  Glucose  ...  Age  Outcome\n",
            "0              6      148  ...   50        1\n",
            "1              1       85  ...   31        0\n",
            "2              8      183  ...   32        1\n",
            "3              1       89  ...   21        0\n",
            "4              0      137  ...   33        1\n",
            "..           ...      ...  ...  ...      ...\n",
            "763           10      101  ...   63        0\n",
            "764            2      122  ...   27        0\n",
            "765            5      121  ...   30        0\n",
            "766            1      126  ...   47        1\n",
            "767            1       93  ...   23        0\n",
            "\n",
            "[768 rows x 9 columns]>\n"
          ],
          "name": "stdout"
        }
      ]
    },
    {
      "cell_type": "code",
      "metadata": {
        "id": "RUbrZC49gRgn"
      },
      "source": [
        "\n",
        "X = data.drop(columns=[\"Outcome\"])\n",
        "y = data[\"Outcome\"]"
      ],
      "execution_count": 14,
      "outputs": []
    },
    {
      "cell_type": "code",
      "metadata": {
        "id": "D19B2DdOgReM"
      },
      "source": [
        "X_train, X_test, y_train, y_test = train_test_split(X,y,test_size=0.1, random_state=30)"
      ],
      "execution_count": 15,
      "outputs": []
    },
    {
      "cell_type": "code",
      "metadata": {
        "colab": {
          "base_uri": "https://localhost:8080/"
        },
        "id": "tP-t-UBjgRbn",
        "outputId": "a0ccc3a7-a707-4f86-ad42-73da61e06dba"
      },
      "source": [
        "grid_parameter = {'C': [0.1, 1, 10, 100, 1000], 'kernel': ['linear','poly']}   \n",
        "grid = GridSearchCV(SVC(), grid_parameter, verbose = 3,cv =3)\n",
        "grid.fit(X_train, y_train)"
      ],
      "execution_count": 16,
      "outputs": [
        {
          "output_type": "stream",
          "text": [
            "Fitting 3 folds for each of 10 candidates, totalling 30 fits\n",
            "[CV] C=0.1, kernel=linear ............................................\n"
          ],
          "name": "stdout"
        },
        {
          "output_type": "stream",
          "text": [
            "[Parallel(n_jobs=1)]: Using backend SequentialBackend with 1 concurrent workers.\n"
          ],
          "name": "stderr"
        },
        {
          "output_type": "stream",
          "text": [
            "[CV] ................ C=0.1, kernel=linear, score=0.762, total=   0.3s\n",
            "[CV] C=0.1, kernel=linear ............................................\n"
          ],
          "name": "stdout"
        },
        {
          "output_type": "stream",
          "text": [
            "[Parallel(n_jobs=1)]: Done   1 out of   1 | elapsed:    0.3s remaining:    0.0s\n"
          ],
          "name": "stderr"
        },
        {
          "output_type": "stream",
          "text": [
            "[CV] ................ C=0.1, kernel=linear, score=0.774, total=   0.3s\n",
            "[CV] C=0.1, kernel=linear ............................................\n"
          ],
          "name": "stdout"
        },
        {
          "output_type": "stream",
          "text": [
            "[Parallel(n_jobs=1)]: Done   2 out of   2 | elapsed:    0.6s remaining:    0.0s\n"
          ],
          "name": "stderr"
        },
        {
          "output_type": "stream",
          "text": [
            "[CV] ................ C=0.1, kernel=linear, score=0.761, total=   0.2s\n",
            "[CV] C=0.1, kernel=poly ..............................................\n",
            "[CV] .................. C=0.1, kernel=poly, score=0.745, total=   0.0s\n",
            "[CV] C=0.1, kernel=poly ..............................................\n",
            "[CV] .................. C=0.1, kernel=poly, score=0.752, total=   0.0s\n",
            "[CV] C=0.1, kernel=poly ..............................................\n",
            "[CV] .................. C=0.1, kernel=poly, score=0.713, total=   0.0s\n",
            "[CV] C=1, kernel=linear ..............................................\n",
            "[CV] .................. C=1, kernel=linear, score=0.775, total=   2.3s\n",
            "[CV] C=1, kernel=linear ..............................................\n",
            "[CV] .................. C=1, kernel=linear, score=0.770, total=   2.7s\n",
            "[CV] C=1, kernel=linear ..............................................\n",
            "[CV] .................. C=1, kernel=linear, score=0.765, total=   2.1s\n",
            "[CV] C=1, kernel=poly ................................................\n",
            "[CV] .................... C=1, kernel=poly, score=0.766, total=   0.0s\n",
            "[CV] C=1, kernel=poly ................................................\n",
            "[CV] .................... C=1, kernel=poly, score=0.748, total=   0.0s\n",
            "[CV] C=1, kernel=poly ................................................\n",
            "[CV] .................... C=1, kernel=poly, score=0.726, total=   0.0s\n",
            "[CV] C=10, kernel=linear .............................................\n",
            "[CV] ................. C=10, kernel=linear, score=0.766, total=  19.6s\n",
            "[CV] C=10, kernel=linear .............................................\n",
            "[CV] ................. C=10, kernel=linear, score=0.765, total=  12.5s\n",
            "[CV] C=10, kernel=linear .............................................\n",
            "[CV] ................. C=10, kernel=linear, score=0.765, total=  16.3s\n",
            "[CV] C=10, kernel=poly ...............................................\n",
            "[CV] ................... C=10, kernel=poly, score=0.762, total=   0.0s\n",
            "[CV] C=10, kernel=poly ...............................................\n",
            "[CV] ................... C=10, kernel=poly, score=0.752, total=   0.0s\n",
            "[CV] C=10, kernel=poly ...............................................\n",
            "[CV] ................... C=10, kernel=poly, score=0.743, total=   0.0s\n",
            "[CV] C=100, kernel=linear ............................................\n",
            "[CV] ................ C=100, kernel=linear, score=0.749, total=  42.9s\n",
            "[CV] C=100, kernel=linear ............................................\n",
            "[CV] ................ C=100, kernel=linear, score=0.778, total= 1.4min\n",
            "[CV] C=100, kernel=linear ............................................\n",
            "[CV] ................ C=100, kernel=linear, score=0.774, total=  57.1s\n",
            "[CV] C=100, kernel=poly ..............................................\n",
            "[CV] .................. C=100, kernel=poly, score=0.740, total=   0.3s\n",
            "[CV] C=100, kernel=poly ..............................................\n",
            "[CV] .................. C=100, kernel=poly, score=0.739, total=   0.9s\n",
            "[CV] C=100, kernel=poly ..............................................\n",
            "[CV] .................. C=100, kernel=poly, score=0.761, total=   0.2s\n",
            "[CV] C=1000, kernel=linear ...........................................\n",
            "[CV] ............... C=1000, kernel=linear, score=0.762, total= 1.1min\n",
            "[CV] C=1000, kernel=linear ...........................................\n",
            "[CV] ............... C=1000, kernel=linear, score=0.761, total= 1.2min\n",
            "[CV] C=1000, kernel=linear ...........................................\n",
            "[CV] ............... C=1000, kernel=linear, score=0.748, total= 1.3min\n",
            "[CV] C=1000, kernel=poly .............................................\n",
            "[CV] ................. C=1000, kernel=poly, score=0.727, total=   5.4s\n",
            "[CV] C=1000, kernel=poly .............................................\n",
            "[CV] ................. C=1000, kernel=poly, score=0.743, total=   3.9s\n",
            "[CV] C=1000, kernel=poly .............................................\n",
            "[CV] ................. C=1000, kernel=poly, score=0.765, total=   3.9s\n"
          ],
          "name": "stdout"
        },
        {
          "output_type": "stream",
          "text": [
            "[Parallel(n_jobs=1)]: Done  30 out of  30 | elapsed:  7.8min finished\n"
          ],
          "name": "stderr"
        },
        {
          "output_type": "execute_result",
          "data": {
            "text/plain": [
              "GridSearchCV(cv=3, error_score=nan,\n",
              "             estimator=SVC(C=1.0, break_ties=False, cache_size=200,\n",
              "                           class_weight=None, coef0=0.0,\n",
              "                           decision_function_shape='ovr', degree=3,\n",
              "                           gamma='scale', kernel='rbf', max_iter=-1,\n",
              "                           probability=False, random_state=None, shrinking=True,\n",
              "                           tol=0.001, verbose=False),\n",
              "             iid='deprecated', n_jobs=None,\n",
              "             param_grid={'C': [0.1, 1, 10, 100, 1000],\n",
              "                         'kernel': ['linear', 'poly']},\n",
              "             pre_dispatch='2*n_jobs', refit=True, return_train_score=False,\n",
              "             scoring=None, verbose=3)"
            ]
          },
          "metadata": {
            "tags": []
          },
          "execution_count": 16
        }
      ]
    },
    {
      "cell_type": "code",
      "metadata": {
        "colab": {
          "base_uri": "https://localhost:8080/"
        },
        "id": "CYFf68jJgRY6",
        "outputId": "35fc3975-3987-4676-bb04-63921918d45b"
      },
      "source": [
        "print(\"score = %3.3f\" %(grid.score(X_test, y_test)))\n",
        "print(\"Best grid-parameters from train data: \", grid.best_params_)"
      ],
      "execution_count": 17,
      "outputs": [
        {
          "output_type": "stream",
          "text": [
            "score = 0.831\n",
            "Best grid-parameters from train data:  {'C': 1, 'kernel': 'linear'}\n"
          ],
          "name": "stdout"
        }
      ]
    },
    {
      "cell_type": "code",
      "metadata": {
        "colab": {
          "base_uri": "https://localhost:8080/"
        },
        "id": "SAd67LdFiUwH",
        "outputId": "f4cd2511-2db8-401b-9d56-be5345671834"
      },
      "source": [
        "grid_parameter = {'C': [0.1, 1, 10], 'kernel': ['rbf']} \n",
        "grid_ = GridSearchCV(SVC(), grid_parameter, verbose = 3,cv =3)\n",
        "grid_.fit(X_train, y_train)"
      ],
      "execution_count": 18,
      "outputs": [
        {
          "output_type": "stream",
          "text": [
            "Fitting 3 folds for each of 3 candidates, totalling 9 fits\n",
            "[CV] C=0.1, kernel=rbf ...............................................\n",
            "[CV] ................... C=0.1, kernel=rbf, score=0.649, total=   0.0s\n",
            "[CV] C=0.1, kernel=rbf ...............................................\n",
            "[CV] ................... C=0.1, kernel=rbf, score=0.652, total=   0.0s\n",
            "[CV] C=0.1, kernel=rbf ...............................................\n",
            "[CV] ................... C=0.1, kernel=rbf, score=0.661, total=   0.0s\n",
            "[CV] C=1, kernel=rbf .................................................\n",
            "[CV] ..................... C=1, kernel=rbf, score=0.762, total=   0.0s\n",
            "[CV] C=1, kernel=rbf .................................................\n",
            "[CV] ..................... C=1, kernel=rbf, score=0.752, total=   0.0s\n",
            "[CV] C=1, kernel=rbf .................................................\n",
            "[CV] ..................... C=1, kernel=rbf, score=0.722, total=   0.0s\n",
            "[CV] C=10, kernel=rbf ................................................\n",
            "[CV] .................... C=10, kernel=rbf, score=0.753, total=   0.0s\n",
            "[CV] C=10, kernel=rbf ................................................\n",
            "[CV] .................... C=10, kernel=rbf, score=0.757, total=   0.0s\n",
            "[CV] C=10, kernel=rbf ................................................\n",
            "[CV] .................... C=10, kernel=rbf, score=0.748, total=   0.0s\n"
          ],
          "name": "stdout"
        },
        {
          "output_type": "stream",
          "text": [
            "[Parallel(n_jobs=1)]: Using backend SequentialBackend with 1 concurrent workers.\n",
            "[Parallel(n_jobs=1)]: Done   1 out of   1 | elapsed:    0.0s remaining:    0.0s\n",
            "[Parallel(n_jobs=1)]: Done   2 out of   2 | elapsed:    0.0s remaining:    0.0s\n",
            "[Parallel(n_jobs=1)]: Done   9 out of   9 | elapsed:    0.1s finished\n"
          ],
          "name": "stderr"
        },
        {
          "output_type": "execute_result",
          "data": {
            "text/plain": [
              "GridSearchCV(cv=3, error_score=nan,\n",
              "             estimator=SVC(C=1.0, break_ties=False, cache_size=200,\n",
              "                           class_weight=None, coef0=0.0,\n",
              "                           decision_function_shape='ovr', degree=3,\n",
              "                           gamma='scale', kernel='rbf', max_iter=-1,\n",
              "                           probability=False, random_state=None, shrinking=True,\n",
              "                           tol=0.001, verbose=False),\n",
              "             iid='deprecated', n_jobs=None,\n",
              "             param_grid={'C': [0.1, 1, 10], 'kernel': ['rbf']},\n",
              "             pre_dispatch='2*n_jobs', refit=True, return_train_score=False,\n",
              "             scoring=None, verbose=3)"
            ]
          },
          "metadata": {
            "tags": []
          },
          "execution_count": 18
        }
      ]
    },
    {
      "cell_type": "code",
      "metadata": {
        "colab": {
          "base_uri": "https://localhost:8080/"
        },
        "id": "zhCvym3LiUsn",
        "outputId": "202cd108-79a7-42c4-dd94-4e169dd604be"
      },
      "source": [
        "print(\"score = %3.3f\" %(grid_.score(X_test, y_test)))\n",
        "print(\"Best grid-parameters from train data: \", grid_.best_params_)\n"
      ],
      "execution_count": 19,
      "outputs": [
        {
          "output_type": "stream",
          "text": [
            "score = 0.805\n",
            "Best grid-parameters from train data:  {'C': 10, 'kernel': 'rbf'}\n"
          ],
          "name": "stdout"
        }
      ]
    },
    {
      "cell_type": "code",
      "metadata": {
        "colab": {
          "base_uri": "https://localhost:8080/"
        },
        "id": "A18JqPitiUqS",
        "outputId": "6e00d062-3c29-4059-9994-350166387257"
      },
      "source": [
        "model = SVC(C = 1 ,kernel='linear')\n",
        "model.fit(X_test,y_test)\n"
      ],
      "execution_count": 20,
      "outputs": [
        {
          "output_type": "execute_result",
          "data": {
            "text/plain": [
              "SVC(C=1, break_ties=False, cache_size=200, class_weight=None, coef0=0.0,\n",
              "    decision_function_shape='ovr', degree=3, gamma='scale', kernel='linear',\n",
              "    max_iter=-1, probability=False, random_state=None, shrinking=True,\n",
              "    tol=0.001, verbose=False)"
            ]
          },
          "metadata": {
            "tags": []
          },
          "execution_count": 20
        }
      ]
    },
    {
      "cell_type": "code",
      "metadata": {
        "id": "LY81XhbtiUnQ"
      },
      "source": [
        "y_predicted = model.predict(X_test)\n"
      ],
      "execution_count": 21,
      "outputs": []
    },
    {
      "cell_type": "code",
      "metadata": {
        "colab": {
          "base_uri": "https://localhost:8080/"
        },
        "id": "Ef_P-YhsibUn",
        "outputId": "a01391c5-222c-432e-8449-60025caa1a62"
      },
      "source": [
        "acc_ = accuracy_score(y_predicted,y_test)\n",
        "acc_ "
      ],
      "execution_count": 22,
      "outputs": [
        {
          "output_type": "execute_result",
          "data": {
            "text/plain": [
              "0.8441558441558441"
            ]
          },
          "metadata": {
            "tags": []
          },
          "execution_count": 22
        }
      ]
    },
    {
      "cell_type": "code",
      "metadata": {
        "colab": {
          "base_uri": "https://localhost:8080/"
        },
        "id": "g1JfiKbPibAb",
        "outputId": "810c0a1a-0f91-4f12-e453-b9402d078748"
      },
      "source": [
        "model.support_vectors_\n"
      ],
      "execution_count": 23,
      "outputs": [
        {
          "output_type": "execute_result",
          "data": {
            "text/plain": [
              "array([[1.000e+01, 7.500e+01, 8.200e+01, 0.000e+00, 0.000e+00, 3.330e+01,\n",
              "        2.630e-01, 3.800e+01],\n",
              "       [1.000e+00, 1.440e+02, 8.200e+01, 4.000e+01, 0.000e+00, 4.130e+01,\n",
              "        6.070e-01, 2.800e+01],\n",
              "       [4.000e+00, 1.140e+02, 6.400e+01, 0.000e+00, 0.000e+00, 2.890e+01,\n",
              "        1.260e-01, 2.400e+01],\n",
              "       [1.000e+00, 1.360e+02, 7.400e+01, 5.000e+01, 2.040e+02, 3.740e+01,\n",
              "        3.990e-01, 2.400e+01],\n",
              "       [1.000e+00, 1.160e+02, 7.800e+01, 2.900e+01, 1.800e+02, 3.610e+01,\n",
              "        4.960e-01, 2.500e+01],\n",
              "       [1.000e+00, 1.400e+02, 7.400e+01, 2.600e+01, 1.800e+02, 2.410e+01,\n",
              "        8.280e-01, 2.300e+01],\n",
              "       [1.000e+01, 9.200e+01, 6.200e+01, 0.000e+00, 0.000e+00, 2.590e+01,\n",
              "        1.670e-01, 3.100e+01],\n",
              "       [1.000e+00, 1.240e+02, 6.000e+01, 3.200e+01, 0.000e+00, 3.580e+01,\n",
              "        5.140e-01, 2.100e+01],\n",
              "       [6.000e+00, 1.830e+02, 9.400e+01, 0.000e+00, 0.000e+00, 4.080e+01,\n",
              "        1.461e+00, 4.500e+01],\n",
              "       [4.000e+00, 1.440e+02, 5.800e+01, 2.800e+01, 1.400e+02, 2.950e+01,\n",
              "        2.870e-01, 3.700e+01],\n",
              "       [5.000e+00, 1.390e+02, 6.400e+01, 3.500e+01, 1.400e+02, 2.860e+01,\n",
              "        4.110e-01, 2.600e+01],\n",
              "       [1.000e+01, 1.390e+02, 8.000e+01, 0.000e+00, 0.000e+00, 2.710e+01,\n",
              "        1.441e+00, 5.700e+01],\n",
              "       [1.000e+00, 1.640e+02, 8.200e+01, 4.300e+01, 6.700e+01, 3.280e+01,\n",
              "        3.410e-01, 5.000e+01],\n",
              "       [6.000e+00, 1.070e+02, 8.800e+01, 0.000e+00, 0.000e+00, 3.680e+01,\n",
              "        7.270e-01, 3.100e+01],\n",
              "       [1.300e+01, 1.060e+02, 7.000e+01, 0.000e+00, 0.000e+00, 3.420e+01,\n",
              "        2.510e-01, 5.200e+01],\n",
              "       [1.000e+00, 1.510e+02, 6.000e+01, 0.000e+00, 0.000e+00, 2.610e+01,\n",
              "        1.790e-01, 2.200e+01],\n",
              "       [0.000e+00, 9.500e+01, 6.400e+01, 3.900e+01, 1.050e+02, 4.460e+01,\n",
              "        3.660e-01, 2.200e+01],\n",
              "       [7.000e+00, 9.700e+01, 7.600e+01, 3.200e+01, 9.100e+01, 4.090e+01,\n",
              "        8.710e-01, 3.200e+01],\n",
              "       [5.000e+00, 1.160e+02, 7.400e+01, 2.900e+01, 0.000e+00, 3.230e+01,\n",
              "        6.600e-01, 3.500e+01],\n",
              "       [1.000e+00, 1.280e+02, 4.800e+01, 4.500e+01, 1.940e+02, 4.050e+01,\n",
              "        6.130e-01, 2.400e+01],\n",
              "       [0.000e+00, 1.800e+02, 9.000e+01, 2.600e+01, 9.000e+01, 3.650e+01,\n",
              "        3.140e-01, 3.500e+01],\n",
              "       [8.000e+00, 1.200e+02, 8.600e+01, 0.000e+00, 0.000e+00, 2.840e+01,\n",
              "        2.590e-01, 2.200e+01],\n",
              "       [9.000e+00, 1.400e+02, 9.400e+01, 0.000e+00, 0.000e+00, 3.270e+01,\n",
              "        7.340e-01, 4.500e+01],\n",
              "       [0.000e+00, 1.380e+02, 0.000e+00, 0.000e+00, 0.000e+00, 3.630e+01,\n",
              "        9.330e-01, 2.500e+01],\n",
              "       [9.000e+00, 1.190e+02, 8.000e+01, 3.500e+01, 0.000e+00, 2.900e+01,\n",
              "        2.630e-01, 2.900e+01],\n",
              "       [2.000e+00, 1.340e+02, 7.000e+01, 0.000e+00, 0.000e+00, 2.890e+01,\n",
              "        5.420e-01, 2.300e+01],\n",
              "       [3.000e+00, 1.630e+02, 7.000e+01, 1.800e+01, 1.050e+02, 3.160e+01,\n",
              "        2.680e-01, 2.800e+01],\n",
              "       [0.000e+00, 1.130e+02, 7.600e+01, 0.000e+00, 0.000e+00, 3.330e+01,\n",
              "        2.780e-01, 2.300e+01],\n",
              "       [8.000e+00, 1.670e+02, 1.060e+02, 4.600e+01, 2.310e+02, 3.760e+01,\n",
              "        1.650e-01, 4.300e+01],\n",
              "       [8.000e+00, 1.760e+02, 9.000e+01, 3.400e+01, 3.000e+02, 3.370e+01,\n",
              "        4.670e-01, 5.800e+01],\n",
              "       [9.000e+00, 1.120e+02, 8.200e+01, 2.400e+01, 0.000e+00, 2.820e+01,\n",
              "        1.282e+00, 5.000e+01],\n",
              "       [6.000e+00, 1.040e+02, 7.400e+01, 1.800e+01, 1.560e+02, 2.990e+01,\n",
              "        7.220e-01, 4.100e+01],\n",
              "       [2.000e+00, 1.180e+02, 8.000e+01, 0.000e+00, 0.000e+00, 4.290e+01,\n",
              "        6.930e-01, 2.100e+01]])"
            ]
          },
          "metadata": {
            "tags": []
          },
          "execution_count": 23
        }
      ]
    }
  ]
}