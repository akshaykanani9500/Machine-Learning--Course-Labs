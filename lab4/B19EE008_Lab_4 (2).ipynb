{
  "nbformat": 4,
  "nbformat_minor": 0,
  "metadata": {
    "colab": {
      "name": "B19EE008_Lab_4.ipynb",
      "provenance": [],
      "collapsed_sections": []
    },
    "kernelspec": {
      "name": "python3",
      "display_name": "Python 3"
    },
    "language_info": {
      "name": "python"
    }
  },
  "cells": [
    {
      "cell_type": "markdown",
      "metadata": {
        "id": "pWh_IvaskTKS"
      },
      "source": [
        "Please copy the notebook to your drive and write your code in it."
      ]
    },
    {
      "cell_type": "markdown",
      "metadata": {
        "id": "vWet7nnnQReB"
      },
      "source": [
        "# New section"
      ]
    },
    {
      "cell_type": "markdown",
      "metadata": {
        "id": "K_PgySJunoX-"
      },
      "source": [
        "Import necessary libraries"
      ]
    },
    {
      "cell_type": "code",
      "metadata": {
        "id": "tWSAr9XukTbn"
      },
      "source": [
        "import pandas as pd \n",
        "import numpy as np \n",
        "from matplotlib import pyplot as plt\n",
        "from sklearn.model_selection import train_test_split\n",
        "from sklearn.tree import DecisionTreeClassifier\n",
        "from sklearn.preprocessing import OrdinalEncoder\n",
        "from sklearn.ensemble import AdaBoostClassifier\n",
        "from sklearn.model_selection import cross_val_score\n",
        "from sklearn.model_selection import RepeatedStratifiedKFold"
      ],
      "execution_count": 53,
      "outputs": []
    },
    {
      "cell_type": "markdown",
      "metadata": {
        "id": "5feEPRCSkTls"
      },
      "source": [
        "Read Dataset from csv file"
      ]
    },
    {
      "cell_type": "code",
      "metadata": {
        "id": "HoNvSh2LkTsa"
      },
      "source": [
        " filename='/content/Iris.csv'\n",
        " iris= pd.read_csv(filename)"
      ],
      "execution_count": 54,
      "outputs": []
    },
    {
      "cell_type": "markdown",
      "metadata": {
        "id": "yvDum9LekT0W"
      },
      "source": [
        "Preview dataset"
      ]
    },
    {
      "cell_type": "code",
      "metadata": {
        "id": "svknh4PmkT_c",
        "colab": {
          "base_uri": "https://localhost:8080/",
          "height": 194
        },
        "outputId": "99d695c4-7e76-402a-afc3-70bd7ea89270"
      },
      "source": [
        "iris.head()"
      ],
      "execution_count": 55,
      "outputs": [
        {
          "output_type": "execute_result",
          "data": {
            "text/html": [
              "<div>\n",
              "<style scoped>\n",
              "    .dataframe tbody tr th:only-of-type {\n",
              "        vertical-align: middle;\n",
              "    }\n",
              "\n",
              "    .dataframe tbody tr th {\n",
              "        vertical-align: top;\n",
              "    }\n",
              "\n",
              "    .dataframe thead th {\n",
              "        text-align: right;\n",
              "    }\n",
              "</style>\n",
              "<table border=\"1\" class=\"dataframe\">\n",
              "  <thead>\n",
              "    <tr style=\"text-align: right;\">\n",
              "      <th></th>\n",
              "      <th>Id</th>\n",
              "      <th>SepalLengthCm</th>\n",
              "      <th>SepalWidthCm</th>\n",
              "      <th>PetalLengthCm</th>\n",
              "      <th>PetalWidthCm</th>\n",
              "      <th>Species</th>\n",
              "    </tr>\n",
              "  </thead>\n",
              "  <tbody>\n",
              "    <tr>\n",
              "      <th>0</th>\n",
              "      <td>1</td>\n",
              "      <td>5.1</td>\n",
              "      <td>3.5</td>\n",
              "      <td>1.4</td>\n",
              "      <td>0.2</td>\n",
              "      <td>Iris-setosa</td>\n",
              "    </tr>\n",
              "    <tr>\n",
              "      <th>1</th>\n",
              "      <td>2</td>\n",
              "      <td>4.9</td>\n",
              "      <td>3.0</td>\n",
              "      <td>1.4</td>\n",
              "      <td>0.2</td>\n",
              "      <td>Iris-setosa</td>\n",
              "    </tr>\n",
              "    <tr>\n",
              "      <th>2</th>\n",
              "      <td>3</td>\n",
              "      <td>4.7</td>\n",
              "      <td>3.2</td>\n",
              "      <td>1.3</td>\n",
              "      <td>0.2</td>\n",
              "      <td>Iris-setosa</td>\n",
              "    </tr>\n",
              "    <tr>\n",
              "      <th>3</th>\n",
              "      <td>4</td>\n",
              "      <td>4.6</td>\n",
              "      <td>3.1</td>\n",
              "      <td>1.5</td>\n",
              "      <td>0.2</td>\n",
              "      <td>Iris-setosa</td>\n",
              "    </tr>\n",
              "    <tr>\n",
              "      <th>4</th>\n",
              "      <td>5</td>\n",
              "      <td>5.0</td>\n",
              "      <td>3.6</td>\n",
              "      <td>1.4</td>\n",
              "      <td>0.2</td>\n",
              "      <td>Iris-setosa</td>\n",
              "    </tr>\n",
              "  </tbody>\n",
              "</table>\n",
              "</div>"
            ],
            "text/plain": [
              "   Id  SepalLengthCm  SepalWidthCm  PetalLengthCm  PetalWidthCm      Species\n",
              "0   1            5.1           3.5            1.4           0.2  Iris-setosa\n",
              "1   2            4.9           3.0            1.4           0.2  Iris-setosa\n",
              "2   3            4.7           3.2            1.3           0.2  Iris-setosa\n",
              "3   4            4.6           3.1            1.5           0.2  Iris-setosa\n",
              "4   5            5.0           3.6            1.4           0.2  Iris-setosa"
            ]
          },
          "metadata": {
            "tags": []
          },
          "execution_count": 55
        }
      ]
    },
    {
      "cell_type": "code",
      "metadata": {
        "colab": {
          "base_uri": "https://localhost:8080/",
          "height": 294
        },
        "id": "xMKowkczdH7y",
        "outputId": "ce5f728f-f148-4786-d06a-3eb7fb15c320"
      },
      "source": [
        "#distribution of each class of target variable\n",
        "axis = iris[ 'Species'].value_counts().sort_values().plot(kind=\"barh\")\n",
        "totals= []\n",
        "for i in axis.patches:\n",
        "    totals.append(i.get_width())\n",
        "total = sum(totals)\n",
        "for i in axis.patches:\n",
        "     axis.text(i.get_width()+.3, i.get_y()+.20, \n",
        "     str(round((i.get_width()/total)*100, 2))+'%', \n",
        "     fontsize=10, color='black')\n",
        "axis.grid(axis=\"x\")\n",
        "plt.suptitle('Species', fontsize=20)\n",
        "plt.show()"
      ],
      "execution_count": 56,
      "outputs": [
        {
          "output_type": "display_data",
          "data": {
            "image/png": "[encoded data removed]",
            "text/plain": [
              "<Figure size 432x288 with 1 Axes>"
            ]
          },
          "metadata": {
            "tags": [],
            "needs_background": "light"
          }
        }
      ]
    },
    {
      "cell_type": "code",
      "metadata": {
        "colab": {
          "base_uri": "https://localhost:8080/",
          "height": 1000
        },
        "id": "2X6egfkxdfqa",
        "outputId": "08331054-8352-47aa-bf54-984130404b5a"
      },
      "source": [
        "# Visualize the distribution of data for every feature\n",
        "for x in iris.columns:\n",
        "  if x != \"Species\":\n",
        "    plt.xlabel(\"index\")\n",
        "    plt.ylabel(x)\n",
        "    plt.scatter(iris.index,iris[x])\n",
        "    plt.show()\n",
        "    print('\\n')"
      ],
      "execution_count": 57,
      "outputs": [
        {
          "output_type": "display_data",
          "data": {
            "image/png": "[encoded data removed]",
            "text/plain": [
              "<Figure size 432x288 with 1 Axes>"
            ]
          },
          "metadata": {
            "tags": [],
            "needs_background": "light"
          }
        },
        {
          "output_type": "stream",
          "text": [
            "\n",
            "\n"
          ],
          "name": "stdout"
        },
        {
          "output_type": "display_data",
          "data": {
            "image/png": "[encoded data removed]",
            "text/plain": [
              "<Figure size 432x288 with 1 Axes>"
            ]
          },
          "metadata": {
            "tags": [],
            "needs_background": "light"
          }
        },
        {
          "output_type": "stream",
          "text": [
            "\n",
            "\n"
          ],
          "name": "stdout"
        },
        {
          "output_type": "display_data",
          "data": {
            "image/png": "[encoded data removed]",
            "text/plain": [
              "<Figure size 432x288 with 1 Axes>"
            ]
          },
          "metadata": {
            "tags": [],
            "needs_background": "light"
          }
        },
        {
          "output_type": "stream",
          "text": [
            "\n",
            "\n"
          ],
          "name": "stdout"
        },
        {
          "output_type": "display_data",
          "data": {
            "image/png": "[encoded data removed]",
            "text/plain": [
              "<Figure size 432x288 with 1 Axes>"
            ]
          },
          "metadata": {
            "tags": [],
            "needs_background": "light"
          }
        },
        {
          "output_type": "stream",
          "text": [
            "\n",
            "\n"
          ],
          "name": "stdout"
        },
        {
          "output_type": "display_data",
          "data": {
            "image/png": "[encoded data removed]",
            "text/plain": [
              "<Figure size 432x288 with 1 Axes>"
            ]
          },
          "metadata": {
            "tags": [],
            "needs_background": "light"
          }
        },
        {
          "output_type": "stream",
          "text": [
            "\n",
            "\n"
          ],
          "name": "stdout"
        }
      ]
    },
    {
      "cell_type": "markdown",
      "metadata": {
        "id": "GmAit9xXkUGt"
      },
      "source": [
        "Declare feature vector and target variable"
      ]
    },
    {
      "cell_type": "code",
      "metadata": {
        "id": "B23DPIqCkUN5"
      },
      "source": [
        "y = iris[[\"Species\"]]\n",
        "X = iris[[\"SepalLengthCm\", \"SepalWidthCm\", \"PetalLengthCm\", \"PetalWidthCm\"]]"
      ],
      "execution_count": 58,
      "outputs": []
    },
    {
      "cell_type": "markdown",
      "metadata": {
        "id": "2XygJwltkUV8"
      },
      "source": [
        "Replace categorical data with numbers"
      ]
    },
    {
      "cell_type": "code",
      "metadata": {
        "id": "4Hm0QmE5kUcv",
        "colab": {
          "base_uri": "https://localhost:8080/",
          "height": 194
        },
        "outputId": "ebe3832a-59cb-4603-f113-b00cd3638d77"
      },
      "source": [
        "oe = OrdinalEncoder()\n",
        "iris[\"Species\"] = oe.fit_transform(iris[[\"Species\"]])\n",
        "iris.head()\n"
      ],
      "execution_count": 59,
      "outputs": [
        {
          "output_type": "execute_result",
          "data": {
            "text/html": [
              "<div>\n",
              "<style scoped>\n",
              "    .dataframe tbody tr th:only-of-type {\n",
              "        vertical-align: middle;\n",
              "    }\n",
              "\n",
              "    .dataframe tbody tr th {\n",
              "        vertical-align: top;\n",
              "    }\n",
              "\n",
              "    .dataframe thead th {\n",
              "        text-align: right;\n",
              "    }\n",
              "</style>\n",
              "<table border=\"1\" class=\"dataframe\">\n",
              "  <thead>\n",
              "    <tr style=\"text-align: right;\">\n",
              "      <th></th>\n",
              "      <th>Id</th>\n",
              "      <th>SepalLengthCm</th>\n",
              "      <th>SepalWidthCm</th>\n",
              "      <th>PetalLengthCm</th>\n",
              "      <th>PetalWidthCm</th>\n",
              "      <th>Species</th>\n",
              "    </tr>\n",
              "  </thead>\n",
              "  <tbody>\n",
              "    <tr>\n",
              "      <th>0</th>\n",
              "      <td>1</td>\n",
              "      <td>5.1</td>\n",
              "      <td>3.5</td>\n",
              "      <td>1.4</td>\n",
              "      <td>0.2</td>\n",
              "      <td>0.0</td>\n",
              "    </tr>\n",
              "    <tr>\n",
              "      <th>1</th>\n",
              "      <td>2</td>\n",
              "      <td>4.9</td>\n",
              "      <td>3.0</td>\n",
              "      <td>1.4</td>\n",
              "      <td>0.2</td>\n",
              "      <td>0.0</td>\n",
              "    </tr>\n",
              "    <tr>\n",
              "      <th>2</th>\n",
              "      <td>3</td>\n",
              "      <td>4.7</td>\n",
              "      <td>3.2</td>\n",
              "      <td>1.3</td>\n",
              "      <td>0.2</td>\n",
              "      <td>0.0</td>\n",
              "    </tr>\n",
              "    <tr>\n",
              "      <th>3</th>\n",
              "      <td>4</td>\n",
              "      <td>4.6</td>\n",
              "      <td>3.1</td>\n",
              "      <td>1.5</td>\n",
              "      <td>0.2</td>\n",
              "      <td>0.0</td>\n",
              "    </tr>\n",
              "    <tr>\n",
              "      <th>4</th>\n",
              "      <td>5</td>\n",
              "      <td>5.0</td>\n",
              "      <td>3.6</td>\n",
              "      <td>1.4</td>\n",
              "      <td>0.2</td>\n",
              "      <td>0.0</td>\n",
              "    </tr>\n",
              "  </tbody>\n",
              "</table>\n",
              "</div>"
            ],
            "text/plain": [
              "   Id  SepalLengthCm  SepalWidthCm  PetalLengthCm  PetalWidthCm  Species\n",
              "0   1            5.1           3.5            1.4           0.2      0.0\n",
              "1   2            4.9           3.0            1.4           0.2      0.0\n",
              "2   3            4.7           3.2            1.3           0.2      0.0\n",
              "3   4            4.6           3.1            1.5           0.2      0.0\n",
              "4   5            5.0           3.6            1.4           0.2      0.0"
            ]
          },
          "metadata": {
            "tags": []
          },
          "execution_count": 59
        }
      ]
    },
    {
      "cell_type": "code",
      "metadata": {
        "colab": {
          "base_uri": "https://localhost:8080/",
          "height": 296
        },
        "id": "P6svHXIoizIx",
        "outputId": "e1dc9784-fe81-4fdf-91c9-ad7eeff58464"
      },
      "source": [
        "#distribution of target variables\n",
        "plt.scatter(iris.index , iris['Species'])\n",
        "plt.xlabel(\"number_of_observations\")\n",
        "plt.ylabel(\"range_value\")\n",
        "plt.title(\"Target distribution\")\n",
        "\n",
        "\n",
        "plt.show()"
      ],
      "execution_count": 60,
      "outputs": [
        {
          "output_type": "display_data",
          "data": {
            "image/png": "[encoded data removed]",
            "text/plain": [
              "<Figure size 432x288 with 1 Axes>"
            ]
          },
          "metadata": {
            "tags": [],
            "needs_background": "light"
          }
        }
      ]
    },
    {
      "cell_type": "markdown",
      "metadata": {
        "id": "RI0h1oYZkUk3"
      },
      "source": [
        "Split data into train and test sets"
      ]
    },
    {
      "cell_type": "code",
      "metadata": {
        "id": "xw_HfqlPkUro"
      },
      "source": [
        "X_train,  X_test, y_train, y_test = train_test_split(X, y, test_size = 0.30, random_state = 24)"
      ],
      "execution_count": 61,
      "outputs": []
    },
    {
      "cell_type": "markdown",
      "metadata": {
        "id": "1z0gkDiNkUys"
      },
      "source": [
        "Base estimator(Decision Tree classifier) : a weak learner with max_depth=2"
      ]
    },
    {
      "cell_type": "code",
      "metadata": {
        "id": "7OaHtLK-kU5z"
      },
      "source": [
        "model = DecisionTreeClassifier(criterion='entropy',max_depth=2)\n"
      ],
      "execution_count": 62,
      "outputs": []
    },
    {
      "cell_type": "markdown",
      "metadata": {
        "id": "dO8d4jbfkVBo"
      },
      "source": [
        "Fit weak classifier"
      ]
    },
    {
      "cell_type": "code",
      "metadata": {
        "id": "-ajfhxelkVIc",
        "colab": {
          "base_uri": "https://localhost:8080/"
        },
        "outputId": "0ab37d25-5faa-4860-8eee-ecceb1402d9f"
      },
      "source": [
        "model.fit(X_train,y_train.values.ravel())"
      ],
      "execution_count": 63,
      "outputs": [
        {
          "output_type": "execute_result",
          "data": {
            "text/plain": [
              "DecisionTreeClassifier(ccp_alpha=0.0, class_weight=None, criterion='entropy',\n",
              "                       max_depth=2, max_features=None, max_leaf_nodes=None,\n",
              "                       min_impurity_decrease=0.0, min_impurity_split=None,\n",
              "                       min_samples_leaf=1, min_samples_split=2,\n",
              "                       min_weight_fraction_leaf=0.0, presort='deprecated',\n",
              "                       random_state=None, splitter='best')"
            ]
          },
          "metadata": {
            "tags": []
          },
          "execution_count": 63
        }
      ]
    },
    {
      "cell_type": "markdown",
      "metadata": {
        "id": "uDdLYjRnkVP2"
      },
      "source": [
        "Calculate the accuracy by the weak learner"
      ]
    },
    {
      "cell_type": "code",
      "metadata": {
        "id": "2kcMADUMkVXD",
        "colab": {
          "base_uri": "https://localhost:8080/"
        },
        "outputId": "52c17c8d-936b-4ba0-f628-622057b8c8b0"
      },
      "source": [
        "score = cross_val_score(model, X, y, cv=5)\n",
        "print(score.mean())"
      ],
      "execution_count": 64,
      "outputs": [
        {
          "output_type": "stream",
          "text": [
            "0.9333333333333332\n"
          ],
          "name": "stdout"
        }
      ]
    },
    {
      "cell_type": "markdown",
      "metadata": {
        "id": "v5d-qijEkVd1"
      },
      "source": [
        "Build the AdaBoost model with the the above decision tree and by increasing the number of trees from 1 to 5 with a step of 1 in the lines:\n",
        "\n",
        "Hint:   \n",
        "estimators = list(range(1, 5, 1))\n",
        "for n_est in estimators:\n",
        "\n"
      ]
    },
    {
      "cell_type": "code",
      "metadata": {
        "id": "ob26Gwx7kVjg",
        "colab": {
          "base_uri": "https://localhost:8080/"
        },
        "outputId": "7c22329b-6514-4ba9-f128-100dd947d3c1"
      },
      "source": [
        "models_adaB = dict()\n",
        "estimators = list(range(1,6,1))\n",
        "for n_est in estimators:\n",
        "  models_adaB[str(n_est)] = AdaBoostClassifier(base_estimator = model,n_estimators=n_est)\n",
        "models_adaB"
      ],
      "execution_count": 65,
      "outputs": [
        {
          "output_type": "execute_result",
          "data": {
            "text/plain": [
              "{'1': AdaBoostClassifier(algorithm='SAMME.R',\n",
              "                    base_estimator=DecisionTreeClassifier(ccp_alpha=0.0,\n",
              "                                                          class_weight=None,\n",
              "                                                          criterion='entropy',\n",
              "                                                          max_depth=2,\n",
              "                                                          max_features=None,\n",
              "                                                          max_leaf_nodes=None,\n",
              "                                                          min_impurity_decrease=0.0,\n",
              "                                                          min_impurity_split=None,\n",
              "                                                          min_samples_leaf=1,\n",
              "                                                          min_samples_split=2,\n",
              "                                                          min_weight_fraction_leaf=0.0,\n",
              "                                                          presort='deprecated',\n",
              "                                                          random_state=None,\n",
              "                                                          splitter='best'),\n",
              "                    learning_rate=1.0, n_estimators=1, random_state=None),\n",
              " '2': AdaBoostClassifier(algorithm='SAMME.R',\n",
              "                    base_estimator=DecisionTreeClassifier(ccp_alpha=0.0,\n",
              "                                                          class_weight=None,\n",
              "                                                          criterion='entropy',\n",
              "                                                          max_depth=2,\n",
              "                                                          max_features=None,\n",
              "                                                          max_leaf_nodes=None,\n",
              "                                                          min_impurity_decrease=0.0,\n",
              "                                                          min_impurity_split=None,\n",
              "                                                          min_samples_leaf=1,\n",
              "                                                          min_samples_split=2,\n",
              "                                                          min_weight_fraction_leaf=0.0,\n",
              "                                                          presort='deprecated',\n",
              "                                                          random_state=None,\n",
              "                                                          splitter='best'),\n",
              "                    learning_rate=1.0, n_estimators=2, random_state=None),\n",
              " '3': AdaBoostClassifier(algorithm='SAMME.R',\n",
              "                    base_estimator=DecisionTreeClassifier(ccp_alpha=0.0,\n",
              "                                                          class_weight=None,\n",
              "                                                          criterion='entropy',\n",
              "                                                          max_depth=2,\n",
              "                                                          max_features=None,\n",
              "                                                          max_leaf_nodes=None,\n",
              "                                                          min_impurity_decrease=0.0,\n",
              "                                                          min_impurity_split=None,\n",
              "                                                          min_samples_leaf=1,\n",
              "                                                          min_samples_split=2,\n",
              "                                                          min_weight_fraction_leaf=0.0,\n",
              "                                                          presort='deprecated',\n",
              "                                                          random_state=None,\n",
              "                                                          splitter='best'),\n",
              "                    learning_rate=1.0, n_estimators=3, random_state=None),\n",
              " '4': AdaBoostClassifier(algorithm='SAMME.R',\n",
              "                    base_estimator=DecisionTreeClassifier(ccp_alpha=0.0,\n",
              "                                                          class_weight=None,\n",
              "                                                          criterion='entropy',\n",
              "                                                          max_depth=2,\n",
              "                                                          max_features=None,\n",
              "                                                          max_leaf_nodes=None,\n",
              "                                                          min_impurity_decrease=0.0,\n",
              "                                                          min_impurity_split=None,\n",
              "                                                          min_samples_leaf=1,\n",
              "                                                          min_samples_split=2,\n",
              "                                                          min_weight_fraction_leaf=0.0,\n",
              "                                                          presort='deprecated',\n",
              "                                                          random_state=None,\n",
              "                                                          splitter='best'),\n",
              "                    learning_rate=1.0, n_estimators=4, random_state=None),\n",
              " '5': AdaBoostClassifier(algorithm='SAMME.R',\n",
              "                    base_estimator=DecisionTreeClassifier(ccp_alpha=0.0,\n",
              "                                                          class_weight=None,\n",
              "                                                          criterion='entropy',\n",
              "                                                          max_depth=2,\n",
              "                                                          max_features=None,\n",
              "                                                          max_leaf_nodes=None,\n",
              "                                                          min_impurity_decrease=0.0,\n",
              "                                                          min_impurity_split=None,\n",
              "                                                          min_samples_leaf=1,\n",
              "                                                          min_samples_split=2,\n",
              "                                                          min_weight_fraction_leaf=0.0,\n",
              "                                                          presort='deprecated',\n",
              "                                                          random_state=None,\n",
              "                                                          splitter='best'),\n",
              "                    learning_rate=1.0, n_estimators=5, random_state=None)}"
            ]
          },
          "metadata": {
            "tags": []
          },
          "execution_count": 65
        }
      ]
    },
    {
      "cell_type": "markdown",
      "metadata": {
        "id": "C4MBA8LVY9yx"
      },
      "source": [
        "define function to evaluate models\n"
      ]
    },
    {
      "cell_type": "code",
      "metadata": {
        "id": "SEk9SyJrZIsN"
      },
      "source": [
        "\n",
        "def evaluate_models(model,X,y):\n",
        "\tcv = RepeatedStratifiedKFold(n_splits=5, n_repeats=3, random_state=1)\n",
        "\tscores = cross_val_score(model, X, y, scoring='accuracy', cv=cv, n_jobs=-1)\n",
        "\treturn scores"
      ],
      "execution_count": 66,
      "outputs": []
    },
    {
      "cell_type": "markdown",
      "metadata": {
        "id": "k7u2bzw2lWPB"
      },
      "source": [
        "Plot the model performance"
      ]
    },
    {
      "cell_type": "code",
      "metadata": {
        "id": "_0IAGcgvlWW2",
        "colab": {
          "base_uri": "https://localhost:8080/",
          "height": 354
        },
        "outputId": "fa4a5874-a87d-44ff-aeac-1246669123a5"
      },
      "source": [
        "results, names = list(), list()\n",
        "for name, model in models_adaB.items():\n",
        "\tscores = evaluate_models(model, X, y.values.ravel())\n",
        "\tresults.append(scores)\n",
        "\tnames.append(name)\n",
        "\tprint('>%s %.3f (%.3f)' % (name, scores.mean(), scores.std()))\n",
        "plt.boxplot(results, labels=names, showmeans=True)\n",
        "plt.show()"
      ],
      "execution_count": 67,
      "outputs": [
        {
          "output_type": "stream",
          "text": [
            ">1 0.938 (0.038)\n",
            ">2 0.956 (0.040)\n",
            ">3 0.949 (0.036)\n",
            ">4 0.940 (0.033)\n",
            ">5 0.953 (0.034)\n"
          ],
          "name": "stdout"
        },
        {
          "output_type": "display_data",
          "data": {
            "image/png": "[encoded data removed]",
            "text/plain": [
              "<Figure size 432x288 with 1 Axes>"
            ]
          },
          "metadata": {
            "tags": [],
            "needs_background": "light"
          }
        }
      ]
    },
    {
      "cell_type": "markdown",
      "metadata": {
        "id": "q2q05WhRlWd8"
      },
      "source": [
        "#Bayes Classfication"
      ]
    },
    {
      "cell_type": "markdown",
      "metadata": {
        "id": "LNDGR9sJR5cS"
      },
      "source": [
        "# New Section"
      ]
    },
    {
      "cell_type": "code",
      "metadata": {
        "id": "tcjNXGi6lWlO"
      },
      "source": [
        ""
      ],
      "execution_count": 67,
      "outputs": []
    },
    {
      "cell_type": "markdown",
      "metadata": {
        "id": "Cx-Xp7XTlWrw"
      },
      "source": [
        "Import modules"
      ]
    },
    {
      "cell_type": "code",
      "metadata": {
        "id": "poC5HfP8lWyl"
      },
      "source": [
        "from sklearn.naive_bayes import GaussianNB\n",
        "from sklearn.naive_bayes import MultinomialNB\n",
        "from sklearn.naive_bayes import ComplementNB\n",
        "from sklearn.naive_bayes import BernoulliNB\n",
        "from sklearn.discriminant_analysis import LinearDiscriminantAnalysis\n",
        "from sklearn.model_selection import StratifiedKFold"
      ],
      "execution_count": 68,
      "outputs": []
    },
    {
      "cell_type": "markdown",
      "metadata": {
        "id": "ACOoeaIflW5H"
      },
      "source": [
        "Naive Bayes algorithm using 5-fold cross validation "
      ]
    },
    {
      "cell_type": "code",
      "metadata": {
        "id": "uiHdJrUclW-_",
        "colab": {
          "base_uri": "https://localhost:8080/"
        },
        "outputId": "eaaa6f98-4d33-489d-f05a-7a92063aad20"
      },
      "source": [
        "gnb=GaussianNB()\n",
        "mnb=MultinomialNB()\n",
        "cnb=ComplementNB()\n",
        "bnb=BernoulliNB()\n",
        "value_ = StratifiedKFold(n_splits=5, shuffle=True, random_state=0)\n",
        "gnb=gnb.fit(X_train,y_train)\n",
        "Ypredg=gnb.predict(X_test)\n",
        "cvsg=cross_val_score(gnb,X_train,y_train,cv=value_)\n",
        "print(\"Gaussian Naive Bayes accuracy = %.5f , standard deviation = %.5f , Variance = %.5f\" %(cvsg.mean(),cvsg.std(),cvsg.var()))\n",
        "mnb=mnb.fit(X_train,y_train)\n",
        "Ypredm=mnb.predict(X_test)\n",
        "cvsm=cross_val_score(mnb,X_train,y_train,cv=value_)\n",
        "print(\"Multinomial Naive Bayes accuracy = %.5f with standard deviation = %.5f, Variance = %.5f\" %(cvsm.mean(),cvsm.std(),cvsm.var()))\n",
        "cnb=cnb.fit(X_train,y_train)\n",
        "Ypredc=cnb.predict(X_test)\n",
        "cvsc=cross_val_score(cnb,X_train,y_train,cv=value_)\n",
        "print(\"Complement Naive Bayes accuracy = %.5f with standard deviation = %.5f , Variance = %.5f\" %(cvsc.mean(),cvsc.std(),cvsc.var()))\n",
        "bnb=bnb.fit(X_train,y_train)\n",
        "Ypredb=bnb.predict(X_test)\n",
        "cvsb=cross_val_score(bnb,X_train,y_train,cv=value_)\n",
        "print(\"Bernoulli Naive Bayes accuracy = %.5f with standard deviation = %.5f , Variance = %.5f\" %(cvsb.mean(),cvsb.std(),cvsb.var()))\n",
        "\n",
        "\n"
      ],
      "execution_count": 69,
      "outputs": [
        {
          "output_type": "stream",
          "text": [
            "Gaussian Naive Bayes accuracy = 0.92381 , standard deviation = 0.03810 , Variance = 0.00145\n",
            "Multinomial Naive Bayes accuracy = 0.73333 with standard deviation = 0.03810, Variance = 0.00145\n",
            "Complement Naive Bayes accuracy = 0.63810 with standard deviation = 0.02333 , Variance = 0.00054\n",
            "Bernoulli Naive Bayes accuracy = 0.36190 with standard deviation = 0.02333 , Variance = 0.00054\n"
          ],
          "name": "stdout"
        },
        {
          "output_type": "stream",
          "text": [
            "/usr/local/lib/python3.7/dist-packages/sklearn/naive_bayes.py:206: DataConversionWarning: A column-vector y was passed when a 1d array was expected. Please change the shape of y to (n_samples, ), for example using ravel().\n",
            "  y = column_or_1d(y, warn=True)\n",
            "/usr/local/lib/python3.7/dist-packages/sklearn/naive_bayes.py:206: DataConversionWarning: A column-vector y was passed when a 1d array was expected. Please change the shape of y to (n_samples, ), for example using ravel().\n",
            "  y = column_or_1d(y, warn=True)\n",
            "/usr/local/lib/python3.7/dist-packages/sklearn/naive_bayes.py:206: DataConversionWarning: A column-vector y was passed when a 1d array was expected. Please change the shape of y to (n_samples, ), for example using ravel().\n",
            "  y = column_or_1d(y, warn=True)\n",
            "/usr/local/lib/python3.7/dist-packages/sklearn/naive_bayes.py:206: DataConversionWarning: A column-vector y was passed when a 1d array was expected. Please change the shape of y to (n_samples, ), for example using ravel().\n",
            "  y = column_or_1d(y, warn=True)\n",
            "/usr/local/lib/python3.7/dist-packages/sklearn/naive_bayes.py:206: DataConversionWarning: A column-vector y was passed when a 1d array was expected. Please change the shape of y to (n_samples, ), for example using ravel().\n",
            "  y = column_or_1d(y, warn=True)\n",
            "/usr/local/lib/python3.7/dist-packages/sklearn/naive_bayes.py:206: DataConversionWarning: A column-vector y was passed when a 1d array was expected. Please change the shape of y to (n_samples, ), for example using ravel().\n",
            "  y = column_or_1d(y, warn=True)\n",
            "/usr/local/lib/python3.7/dist-packages/sklearn/utils/validation.py:760: DataConversionWarning: A column-vector y was passed when a 1d array was expected. Please change the shape of y to (n_samples, ), for example using ravel().\n",
            "  y = column_or_1d(y, warn=True)\n",
            "/usr/local/lib/python3.7/dist-packages/sklearn/utils/validation.py:760: DataConversionWarning: A column-vector y was passed when a 1d array was expected. Please change the shape of y to (n_samples, ), for example using ravel().\n",
            "  y = column_or_1d(y, warn=True)\n",
            "/usr/local/lib/python3.7/dist-packages/sklearn/utils/validation.py:760: DataConversionWarning: A column-vector y was passed when a 1d array was expected. Please change the shape of y to (n_samples, ), for example using ravel().\n",
            "  y = column_or_1d(y, warn=True)\n",
            "/usr/local/lib/python3.7/dist-packages/sklearn/utils/validation.py:760: DataConversionWarning: A column-vector y was passed when a 1d array was expected. Please change the shape of y to (n_samples, ), for example using ravel().\n",
            "  y = column_or_1d(y, warn=True)\n",
            "/usr/local/lib/python3.7/dist-packages/sklearn/utils/validation.py:760: DataConversionWarning: A column-vector y was passed when a 1d array was expected. Please change the shape of y to (n_samples, ), for example using ravel().\n",
            "  y = column_or_1d(y, warn=True)\n",
            "/usr/local/lib/python3.7/dist-packages/sklearn/utils/validation.py:760: DataConversionWarning: A column-vector y was passed when a 1d array was expected. Please change the shape of y to (n_samples, ), for example using ravel().\n",
            "  y = column_or_1d(y, warn=True)\n",
            "/usr/local/lib/python3.7/dist-packages/sklearn/utils/validation.py:760: DataConversionWarning: A column-vector y was passed when a 1d array was expected. Please change the shape of y to (n_samples, ), for example using ravel().\n",
            "  y = column_or_1d(y, warn=True)\n",
            "/usr/local/lib/python3.7/dist-packages/sklearn/utils/validation.py:760: DataConversionWarning: A column-vector y was passed when a 1d array was expected. Please change the shape of y to (n_samples, ), for example using ravel().\n",
            "  y = column_or_1d(y, warn=True)\n",
            "/usr/local/lib/python3.7/dist-packages/sklearn/utils/validation.py:760: DataConversionWarning: A column-vector y was passed when a 1d array was expected. Please change the shape of y to (n_samples, ), for example using ravel().\n",
            "  y = column_or_1d(y, warn=True)\n",
            "/usr/local/lib/python3.7/dist-packages/sklearn/utils/validation.py:760: DataConversionWarning: A column-vector y was passed when a 1d array was expected. Please change the shape of y to (n_samples, ), for example using ravel().\n",
            "  y = column_or_1d(y, warn=True)\n",
            "/usr/local/lib/python3.7/dist-packages/sklearn/utils/validation.py:760: DataConversionWarning: A column-vector y was passed when a 1d array was expected. Please change the shape of y to (n_samples, ), for example using ravel().\n",
            "  y = column_or_1d(y, warn=True)\n",
            "/usr/local/lib/python3.7/dist-packages/sklearn/utils/validation.py:760: DataConversionWarning: A column-vector y was passed when a 1d array was expected. Please change the shape of y to (n_samples, ), for example using ravel().\n",
            "  y = column_or_1d(y, warn=True)\n",
            "/usr/local/lib/python3.7/dist-packages/sklearn/utils/validation.py:760: DataConversionWarning: A column-vector y was passed when a 1d array was expected. Please change the shape of y to (n_samples, ), for example using ravel().\n",
            "  y = column_or_1d(y, warn=True)\n",
            "/usr/local/lib/python3.7/dist-packages/sklearn/utils/validation.py:760: DataConversionWarning: A column-vector y was passed when a 1d array was expected. Please change the shape of y to (n_samples, ), for example using ravel().\n",
            "  y = column_or_1d(y, warn=True)\n",
            "/usr/local/lib/python3.7/dist-packages/sklearn/utils/validation.py:760: DataConversionWarning: A column-vector y was passed when a 1d array was expected. Please change the shape of y to (n_samples, ), for example using ravel().\n",
            "  y = column_or_1d(y, warn=True)\n",
            "/usr/local/lib/python3.7/dist-packages/sklearn/utils/validation.py:760: DataConversionWarning: A column-vector y was passed when a 1d array was expected. Please change the shape of y to (n_samples, ), for example using ravel().\n",
            "  y = column_or_1d(y, warn=True)\n",
            "/usr/local/lib/python3.7/dist-packages/sklearn/utils/validation.py:760: DataConversionWarning: A column-vector y was passed when a 1d array was expected. Please change the shape of y to (n_samples, ), for example using ravel().\n",
            "  y = column_or_1d(y, warn=True)\n",
            "/usr/local/lib/python3.7/dist-packages/sklearn/utils/validation.py:760: DataConversionWarning: A column-vector y was passed when a 1d array was expected. Please change the shape of y to (n_samples, ), for example using ravel().\n",
            "  y = column_or_1d(y, warn=True)\n"
          ],
          "name": "stderr"
        }
      ]
    },
    {
      "cell_type": "markdown",
      "metadata": {
        "id": "kk1m1HOHlXGC"
      },
      "source": [
        "Plot the ROC AUC curve"
      ]
    },
    {
      "cell_type": "code",
      "metadata": {
        "id": "yvpGiFB1lXMr",
        "colab": {
          "base_uri": "https://localhost:8080/",
          "height": 457
        },
        "outputId": "698835f9-e5ec-403a-9d4f-087295fa5af1"
      },
      "source": [
        "from sklearn.multiclass import OneVsRestClassifier\n",
        "from sklearn.metrics import roc_curve,roc_auc_score\n",
        "clf_roc = OneVsRestClassifier(gnb)\n",
        "clf_roc.fit(X_train, y_train)\n",
        "pred = clf_roc.predict(X_test)\n",
        "pred_y= clf_roc.predict_proba(X_test)\n",
        "\n",
        "# roc curve for classes\n",
        "fpr = {}\n",
        "tpr = {}\n",
        "\n",
        "for i in range(3):    \n",
        "    fpr[i], tpr[i], _ = roc_curve(y_test, pred_y[:,i], pos_label=i)\n",
        "    \n",
        "# plot the curve    \n",
        "plt.figure(figsize=(12,6))\n",
        "plt.plot(fpr[0], tpr[0], linestyle='-',color='blue', label='Class 0 vs Rest')\n",
        "plt.plot(fpr[1], tpr[1], linestyle='--',color='green', label='Class 1 vs Rest')\n",
        "plt.plot(fpr[2], tpr[2], linestyle='--',color='yellow', label='Class 2 vs Rest')\n",
        "plt.plot((0,0),(1,1), color='red')\n",
        "plt.title('Multiclass Gaussian ROC curve')\n",
        "plt.xlabel('False Positive Rate')\n",
        "plt.ylabel('True Positive rate')\n",
        "plt.legend(loc='best')"
      ],
      "execution_count": 70,
      "outputs": [
        {
          "output_type": "stream",
          "text": [
            "/usr/local/lib/python3.7/dist-packages/sklearn/metrics/_ranking.py:808: UndefinedMetricWarning: No positive samples in y_true, true positive value should be meaningless\n",
            "  UndefinedMetricWarning)\n"
          ],
          "name": "stderr"
        },
        {
          "output_type": "execute_result",
          "data": {
            "text/plain": [
              "<matplotlib.legend.Legend at 0x7fdf7243e8d0>"
            ]
          },
          "metadata": {
            "tags": []
          },
          "execution_count": 70
        },
        {
          "output_type": "display_data",
          "data": {
            "image/png": "[encoded data removed]",
            "text/plain": [
              "<Figure size 864x432 with 1 Axes>"
            ]
          },
          "metadata": {
            "tags": [],
            "needs_background": "light"
          }
        }
      ]
    },
    {
      "cell_type": "markdown",
      "metadata": {
        "id": "ohy9xGBWlXTn"
      },
      "source": [
        "Use logarithmic discriminant function to compute accuracy"
      ]
    },
    {
      "cell_type": "code",
      "metadata": {
        "id": "XDp7T7FcmMEq",
        "colab": {
          "base_uri": "https://localhost:8080/"
        },
        "outputId": "7c5e73ea-5d6c-4dcb-97bf-a3c80180fefa"
      },
      "source": [
        "from sklearn.model_selection import train_test_split\n",
        "from sklearn.discriminant_analysis import LinearDiscriminantAnalysis as LDA\n",
        "X_tr,X_te,Y_tr,Y_te = train_test_split(X,y,test_size = 0.2)\n",
        "model = LDA()\n",
        "model.fit(X_tr,Y_tr.values.ravel())\n",
        "pd.DataFrame()['LDA'] = pd.Series(list(model.predict(X_te)).count(iii) for iii in set(y))\n",
        "print(model.score(X_te,Y_te))"
      ],
      "execution_count": 71,
      "outputs": [
        {
          "output_type": "stream",
          "text": [
            "1.0\n"
          ],
          "name": "stdout"
        }
      ]
    },
    {
      "cell_type": "markdown",
      "metadata": {
        "id": "IQIMOZUSmM8M"
      },
      "source": [
        "Bayes risk"
      ]
    },
    {
      "cell_type": "code",
      "metadata": {
        "id": "ctp78sYAlXYX",
        "colab": {
          "base_uri": "https://localhost:8080/"
        },
        "outputId": "7161e83b-4208-4b41-a932-8d6d67967e3e"
      },
      "source": [
        "predg = gnb.predict_proba(X_test)\n",
        "predm = mnb.predict_proba(X_test)\n",
        "predc= cnb.predict_proba(X_test)\n",
        "predb = bnb.predict_proba(X_test)\n",
        "model_pred = model.predict_proba(X_test) \n",
        "lst_1 =[]\n",
        "lst_2 = np.array([[1,2,3],[4,5,6],[7,8,9]])\n",
        "model_lst=[predg,predm,predc,predb,model_pred]\n",
        "for i in model_lst:\n",
        "  lst_1.append(np.sum(np.dot(i,lst_2.T),axis=0))\n",
        "print(\"Bayes risk for Gaussian = :\",lst_1[0])\n",
        "print(\"Bayes risk for Multinomial = :\",lst_1[1])\n",
        "print(\"Bayes risk for Categorical = :\",lst_1[2])\n",
        "print(\"Bayes risk for Bernoulli = :\",lst_1[3])\n",
        "print(\"Bayes risk for Linear Discriminant = :\",lst_1[4])"
      ],
      "execution_count": 72,
      "outputs": [
        {
          "output_type": "stream",
          "text": [
            "Bayes risk for Gaussian = : [ 93.3902827 228.3902827 363.3902827]\n",
            "Bayes risk for Multinomial = : [ 93.49073385 228.49073385 363.49073385]\n",
            "Bayes risk for Categorical = : [ 90.27496081 225.27496081 360.27496081]\n",
            "Bayes risk for Bernoulli = : [ 88.58039417 223.58039417 358.58039417]\n",
            "Bayes risk for Linear Discriminant = : [ 92.99622855 227.99622855 362.99622855]\n"
          ],
          "name": "stdout"
        }
      ]
    },
    {
      "cell_type": "markdown",
      "metadata": {
        "id": "NrPIsoKeTDpX"
      },
      "source": [
        "[Decision Tree](https://scikit-learn.org/stable/modules/generated/sklearn.tree.DecisionTreeClassifier.html)\n",
        "\n",
        "[Ensemble methods](https://towardsdatascience.com/ensemble-methods-bagging-boosting-and-stacking-c9214a10a205)\n",
        "\n",
        "[Adaboost Explaination](https://towardsdatascience.com/understanding-adaboost-2f94f22d5bfe)\n",
        "\n",
        "[Adaboost](https://scikit-learn.org/stable/modules/generated/sklearn.ensemble.AdaBoostClassifier.html)\n",
        "\n",
        "[Naive Bayes](https://scikit-learn.org/stable/modules/naive_bayes.html)\n",
        "\n",
        "\n",
        "[Bayes Risk](https://drive.google.com/file/d/14oDBVaOWt6y5kSceIPLK59v3iNu9PjWb/view)\n",
        "\n",
        "[Discriminant function](https://drive.google.com/file/d/1ggLEGpgcwEen1lec5VW1Gqjp9nQI0-rM/view)\n",
        "\n",
        "[Discriminant function analysis](https://scikit-learn.org/stable/modules/generated/sklearn.discriminant_analysis.LinearDiscriminantAnalysis.html)\n",
        "\n",
        "\n",
        "\n",
        "\n"
      ]
    }
  ]
}