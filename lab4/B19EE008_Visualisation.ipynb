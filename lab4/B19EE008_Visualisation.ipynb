{
  "nbformat": 4,
  "nbformat_minor": 0,
  "metadata": {
    "colab": {
      "name": "B19EE008_Visualisation.ipynb",
      "provenance": [],
      "collapsed_sections": []
    },
    "kernelspec": {
      "display_name": "visualise",
      "language": "python",
      "name": "visualise"
    },
    "language_info": {
      "codemirror_mode": {
        "name": "ipython",
        "version": 3
      },
      "file_extension": ".py",
      "mimetype": "text/x-python",
      "name": "python",
      "nbconvert_exporter": "python",
      "pygments_lexer": "ipython3",
      "version": "3.8.3"
    }
  },
  "cells": [
    {
      "cell_type": "markdown",
      "metadata": {
        "id": "izU8PETajYKi"
      },
      "source": [
        "Create two random data sets with two features and two classes"
      ]
    },
    {
      "cell_type": "markdown",
      "metadata": {
        "id": "Jzz_J_uiAAYZ"
      },
      "source": [
        "Dependencies"
      ]
    },
    {
      "cell_type": "code",
      "metadata": {
        "id": "fEMx2juljs4x"
      },
      "source": [
        "import numpy as np\n",
        "import pandas as pd\n",
        "import matplotlib.pyplot as plt\n",
        "import warnings\n",
        "warnings.filterwarnings('ignore')"
      ],
      "execution_count": 343,
      "outputs": []
    },
    {
      "cell_type": "markdown",
      "metadata": {
        "id": "tOL1rB9NAD-x"
      },
      "source": [
        "Consider that you are given a car height and you have the class label as 1 if cost of car is greater than 550 and 0 if it is less than or equal to 550."
      ]
    },
    {
      "cell_type": "code",
      "metadata": {
        "id": "cw-G401DAaTV",
        "colab": {
          "base_uri": "https://localhost:8080/",
          "height": 194
        },
        "outputId": "8b4a89e1-8840-4cb8-e3a8-81a8052b1a9b"
      },
      "source": [
        "file_path = 'Data.csv'\n",
        "df = pd.read_csv(file_path)\n",
        "df.head()"
      ],
      "execution_count": 344,
      "outputs": [
        {
          "output_type": "execute_result",
          "data": {
            "text/html": [
              "<div>\n",
              "<style scoped>\n",
              "    .dataframe tbody tr th:only-of-type {\n",
              "        vertical-align: middle;\n",
              "    }\n",
              "\n",
              "    .dataframe tbody tr th {\n",
              "        vertical-align: top;\n",
              "    }\n",
              "\n",
              "    .dataframe thead th {\n",
              "        text-align: right;\n",
              "    }\n",
              "</style>\n",
              "<table border=\"1\" class=\"dataframe\">\n",
              "  <thead>\n",
              "    <tr style=\"text-align: right;\">\n",
              "      <th></th>\n",
              "      <th>Height</th>\n",
              "      <th>Price</th>\n",
              "    </tr>\n",
              "  </thead>\n",
              "  <tbody>\n",
              "    <tr>\n",
              "      <th>0</th>\n",
              "      <td>1.0</td>\n",
              "      <td>550</td>\n",
              "    </tr>\n",
              "    <tr>\n",
              "      <th>1</th>\n",
              "      <td>3.0</td>\n",
              "      <td>566</td>\n",
              "    </tr>\n",
              "    <tr>\n",
              "      <th>2</th>\n",
              "      <td>4.0</td>\n",
              "      <td>558</td>\n",
              "    </tr>\n",
              "    <tr>\n",
              "      <th>3</th>\n",
              "      <td>3.0</td>\n",
              "      <td>784</td>\n",
              "    </tr>\n",
              "    <tr>\n",
              "      <th>4</th>\n",
              "      <td>5.0</td>\n",
              "      <td>333</td>\n",
              "    </tr>\n",
              "  </tbody>\n",
              "</table>\n",
              "</div>"
            ],
            "text/plain": [
              "   Height  Price\n",
              "0     1.0    550\n",
              "1     3.0    566\n",
              "2     4.0    558\n",
              "3     3.0    784\n",
              "4     5.0    333"
            ]
          },
          "metadata": {
            "tags": []
          },
          "execution_count": 344
        }
      ]
    },
    {
      "cell_type": "code",
      "metadata": {
        "colab": {
          "base_uri": "https://localhost:8080/"
        },
        "id": "mw9Cj-uzk5UN",
        "outputId": "74f568b7-85b0-4f37-cb9a-d7b5b98e0e7b"
      },
      "source": [
        "df.iloc[0, 0] "
      ],
      "execution_count": 345,
      "outputs": [
        {
          "output_type": "execute_result",
          "data": {
            "text/plain": [
              "1.0"
            ]
          },
          "metadata": {
            "tags": []
          },
          "execution_count": 345
        }
      ]
    },
    {
      "cell_type": "markdown",
      "metadata": {
        "id": "yj4KM4I2CA_L"
      },
      "source": [
        "# Create the labels from the data"
      ]
    },
    {
      "cell_type": "code",
      "metadata": {
        "id": "CTVzL0koBd_s"
      },
      "source": [
        "labels = []\n",
        "c1 = []\n",
        "c2 = []\n",
        "c1_count = 0\n",
        "c2_count = 0\n",
        "for i in range(df.shape[0]):\n",
        "  if(df.iloc[i, 1] > 550):\n",
        "    labels.append(1)\n",
        "    c1.append(df.iloc[i, 0])\n",
        "    c1_count += 1\n",
        "  else:\n",
        "    labels.append(0)\n",
        "    c2.append(df.iloc[i, 0])\n",
        "    c2_count += 1"
      ],
      "execution_count": 346,
      "outputs": []
    },
    {
      "cell_type": "code",
      "metadata": {
        "colab": {
          "base_uri": "https://localhost:8080/"
        },
        "id": "wen_hoAYmE14",
        "outputId": "51098f8c-5e4b-4ca7-8518-3d5dd5ae0b1b"
      },
      "source": [
        "labels"
      ],
      "execution_count": 347,
      "outputs": [
        {
          "output_type": "execute_result",
          "data": {
            "text/plain": [
              "[0,\n",
              " 1,\n",
              " 1,\n",
              " 1,\n",
              " 0,\n",
              " 1,\n",
              " 1,\n",
              " 1,\n",
              " 1,\n",
              " 1,\n",
              " 1,\n",
              " 1,\n",
              " 1,\n",
              " 1,\n",
              " 1,\n",
              " 0,\n",
              " 1,\n",
              " 1,\n",
              " 1,\n",
              " 1,\n",
              " 1,\n",
              " 1,\n",
              " 1,\n",
              " 0,\n",
              " 1,\n",
              " 1,\n",
              " 1]"
            ]
          },
          "metadata": {
            "tags": []
          },
          "execution_count": 347
        }
      ]
    },
    {
      "cell_type": "code",
      "metadata": {
        "colab": {
          "base_uri": "https://localhost:8080/",
          "height": 194
        },
        "id": "6BlkY01SmHU7",
        "outputId": "09b8fe9b-41a3-4b74-b295-ba5b394587b9"
      },
      "source": [
        "df['Label'] = labels\n",
        "df.head()"
      ],
      "execution_count": 348,
      "outputs": [
        {
          "output_type": "execute_result",
          "data": {
            "text/html": [
              "<div>\n",
              "<style scoped>\n",
              "    .dataframe tbody tr th:only-of-type {\n",
              "        vertical-align: middle;\n",
              "    }\n",
              "\n",
              "    .dataframe tbody tr th {\n",
              "        vertical-align: top;\n",
              "    }\n",
              "\n",
              "    .dataframe thead th {\n",
              "        text-align: right;\n",
              "    }\n",
              "</style>\n",
              "<table border=\"1\" class=\"dataframe\">\n",
              "  <thead>\n",
              "    <tr style=\"text-align: right;\">\n",
              "      <th></th>\n",
              "      <th>Height</th>\n",
              "      <th>Price</th>\n",
              "      <th>Label</th>\n",
              "    </tr>\n",
              "  </thead>\n",
              "  <tbody>\n",
              "    <tr>\n",
              "      <th>0</th>\n",
              "      <td>1.0</td>\n",
              "      <td>550</td>\n",
              "      <td>0</td>\n",
              "    </tr>\n",
              "    <tr>\n",
              "      <th>1</th>\n",
              "      <td>3.0</td>\n",
              "      <td>566</td>\n",
              "      <td>1</td>\n",
              "    </tr>\n",
              "    <tr>\n",
              "      <th>2</th>\n",
              "      <td>4.0</td>\n",
              "      <td>558</td>\n",
              "      <td>1</td>\n",
              "    </tr>\n",
              "    <tr>\n",
              "      <th>3</th>\n",
              "      <td>3.0</td>\n",
              "      <td>784</td>\n",
              "      <td>1</td>\n",
              "    </tr>\n",
              "    <tr>\n",
              "      <th>4</th>\n",
              "      <td>5.0</td>\n",
              "      <td>333</td>\n",
              "      <td>0</td>\n",
              "    </tr>\n",
              "  </tbody>\n",
              "</table>\n",
              "</div>"
            ],
            "text/plain": [
              "   Height  Price  Label\n",
              "0     1.0    550      0\n",
              "1     3.0    566      1\n",
              "2     4.0    558      1\n",
              "3     3.0    784      1\n",
              "4     5.0    333      0"
            ]
          },
          "metadata": {
            "tags": []
          },
          "execution_count": 348
        }
      ]
    },
    {
      "cell_type": "markdown",
      "metadata": {
        "id": "kaLcCoaVCN-v"
      },
      "source": [
        "# Plotting the distribution of samples."
      ]
    },
    {
      "cell_type": "code",
      "metadata": {
        "colab": {
          "base_uri": "https://localhost:8080/"
        },
        "id": "0JyycktemkOj",
        "outputId": "1cbc291c-65c1-492e-d062-af30751bea52"
      },
      "source": [
        "df.iloc[:,0]"
      ],
      "execution_count": 349,
      "outputs": [
        {
          "output_type": "execute_result",
          "data": {
            "text/plain": [
              "0     1.0\n",
              "1     3.0\n",
              "2     4.0\n",
              "3     3.0\n",
              "4     5.0\n",
              "5     2.0\n",
              "6     3.0\n",
              "7     3.0\n",
              "8     2.0\n",
              "9     1.0\n",
              "10    3.0\n",
              "11    2.0\n",
              "12    2.0\n",
              "13    1.0\n",
              "14    1.5\n",
              "15    3.0\n",
              "16    2.5\n",
              "17    1.5\n",
              "18    1.5\n",
              "19    3.0\n",
              "20    1.5\n",
              "21    1.0\n",
              "22    2.5\n",
              "23    2.5\n",
              "24    1.0\n",
              "25    1.5\n",
              "26    1.0\n",
              "Name: Height, dtype: float64"
            ]
          },
          "metadata": {
            "tags": []
          },
          "execution_count": 349
        }
      ]
    },
    {
      "cell_type": "code",
      "metadata": {
        "colab": {
          "base_uri": "https://localhost:8080/",
          "height": 297
        },
        "id": "YJUJkPO1CTGI",
        "outputId": "b6b61760-a3ad-454c-93ee-f741f3e3bbdc"
      },
      "source": [
        "import seaborn as sns\n",
        "x = df.iloc[:,0]\n",
        "sns.histplot(x)"
      ],
      "execution_count": 350,
      "outputs": [
        {
          "output_type": "execute_result",
          "data": {
            "text/plain": [
              "<matplotlib.axes._subplots.AxesSubplot at 0x7fbe1cbad9d0>"
            ]
          },
          "metadata": {
            "tags": []
          },
          "execution_count": 350
        },
        {
          "output_type": "display_data",
          "data": {
            "image/png": "[encoded data removed]",
            "text/plain": [
              "<Figure size 432x288 with 1 Axes>"
            ]
          },
          "metadata": {
            "tags": [],
            "needs_background": "light"
          }
        }
      ]
    },
    {
      "cell_type": "code",
      "metadata": {
        "colab": {
          "base_uri": "https://localhost:8080/",
          "height": 279
        },
        "id": "Oc5zBirFHbUN",
        "outputId": "7002e05e-b5b3-4730-df4c-a642c0ad2751"
      },
      "source": [
        "plt.hist(x)\n",
        "plt.xlabel(\"Height\")\n",
        "plt.ylabel(\"Count\")\n",
        "plt.show()"
      ],
      "execution_count": 351,
      "outputs": [
        {
          "output_type": "display_data",
          "data": {
            "image/png": "[encoded data removed]",
            "text/plain": [
              "<Figure size 432x288 with 1 Axes>"
            ]
          },
          "metadata": {
            "tags": [],
            "needs_background": "light"
          }
        }
      ]
    },
    {
      "cell_type": "markdown",
      "metadata": {
        "id": "x9jp64nSDLjp"
      },
      "source": [
        "# Prior Probabilities for both the classes"
      ]
    },
    {
      "cell_type": "code",
      "metadata": {
        "colab": {
          "base_uri": "https://localhost:8080/"
        },
        "id": "5rCzFekrDO0s",
        "outputId": "59ee976d-cbdc-4760-cda8-e598d20af582"
      },
      "source": [
        "len_samples = len(df)\n",
        "prob_c1 = c1_count/len_samples\n",
        "prob_c2 = c2_count/len_samples\n",
        "print(\"Prior Class 1:\",prob_c1)\n",
        "print(\"Prior Class 2:\",prob_c2)"
      ],
      "execution_count": 352,
      "outputs": [
        {
          "output_type": "stream",
          "text": [
            "Prior Class 1: 0.8518518518518519\n",
            "Prior Class 2: 0.14814814814814814\n"
          ],
          "name": "stdout"
        }
      ]
    },
    {
      "cell_type": "markdown",
      "metadata": {
        "id": "NxqjnXOQEWTd"
      },
      "source": [
        "# Unique Values"
      ]
    },
    {
      "cell_type": "code",
      "metadata": {
        "id": "z-lzaxRbFUpG"
      },
      "source": [
        "from collections import Counter\n",
        "unique_c1 = Counter(c1).keys() \n",
        "count_unique_c1 = list(Counter(c1).values()) \n",
        "unique_c2 = Counter(c2).keys() \n",
        "count_unique_c2 = list(Counter(c2).values()) "
      ],
      "execution_count": 353,
      "outputs": []
    },
    {
      "cell_type": "code",
      "metadata": {
        "colab": {
          "base_uri": "https://localhost:8080/"
        },
        "id": "s9k8PtEbQf0V",
        "outputId": "30aa355b-a338-40eb-fdee-637ff4cd10f5"
      },
      "source": [
        "no_of_samples = len(df)\n",
        "prob_c1 = c1_count/no_of_samples\n",
        "prob_c2 = c2_count/no_of_samples\n",
        "print(\"Prior Class 1:\",prob_c1)\n",
        "print(\"Prior Class 2:\",prob_c2)"
      ],
      "execution_count": 354,
      "outputs": [
        {
          "output_type": "stream",
          "text": [
            "Prior Class 1: 0.8518518518518519\n",
            "Prior Class 2: 0.14814814814814814\n"
          ],
          "name": "stdout"
        }
      ]
    },
    {
      "cell_type": "markdown",
      "metadata": {
        "id": "TKVN0qP8GpcF"
      },
      "source": [
        "Plot the count of each unique element of the feature"
      ]
    },
    {
      "cell_type": "code",
      "metadata": {
        "colab": {
          "base_uri": "https://localhost:8080/"
        },
        "id": "uMKviaLiJ02z",
        "outputId": "ffce4a42-45b3-4350-f453-9d7dc5dae78c"
      },
      "source": [
        "unique_c1"
      ],
      "execution_count": 355,
      "outputs": [
        {
          "output_type": "execute_result",
          "data": {
            "text/plain": [
              "dict_keys([3.0, 4.0, 2.0, 1.0, 1.5, 2.5])"
            ]
          },
          "metadata": {
            "tags": []
          },
          "execution_count": 355
        }
      ]
    },
    {
      "cell_type": "code",
      "metadata": {
        "colab": {
          "base_uri": "https://localhost:8080/"
        },
        "id": "-wXBQzOyRHgA",
        "outputId": "58a6d7fb-e2a0-480c-c550-1886c89fce3c"
      },
      "source": [
        "count_unique_c1"
      ],
      "execution_count": 356,
      "outputs": [
        {
          "output_type": "execute_result",
          "data": {
            "text/plain": [
              "[6, 1, 4, 5, 5, 2]"
            ]
          },
          "metadata": {
            "tags": []
          },
          "execution_count": 356
        }
      ]
    },
    {
      "cell_type": "code",
      "metadata": {
        "colab": {
          "base_uri": "https://localhost:8080/"
        },
        "id": "Xeq8wF6oWF-L",
        "outputId": "a0c62eba-7d8c-4df0-aaa2-a2d71d29830a"
      },
      "source": [
        "sum(count_unique_c1)"
      ],
      "execution_count": 357,
      "outputs": [
        {
          "output_type": "execute_result",
          "data": {
            "text/plain": [
              "23"
            ]
          },
          "metadata": {
            "tags": []
          },
          "execution_count": 357
        }
      ]
    },
    {
      "cell_type": "code",
      "metadata": {
        "colab": {
          "base_uri": "https://localhost:8080/"
        },
        "id": "PdgZc_d2RIAT",
        "outputId": "073433a5-1434-453b-902b-37a3a2c23dec"
      },
      "source": [
        "unique_c2"
      ],
      "execution_count": 358,
      "outputs": [
        {
          "output_type": "execute_result",
          "data": {
            "text/plain": [
              "dict_keys([1.0, 5.0, 3.0, 2.5])"
            ]
          },
          "metadata": {
            "tags": []
          },
          "execution_count": 358
        }
      ]
    },
    {
      "cell_type": "code",
      "metadata": {
        "colab": {
          "base_uri": "https://localhost:8080/"
        },
        "id": "zVrxG0XOJ30W",
        "outputId": "346193bc-e30b-4407-d2cd-c9dd3a5c1517"
      },
      "source": [
        "count_unique_c2"
      ],
      "execution_count": 359,
      "outputs": [
        {
          "output_type": "execute_result",
          "data": {
            "text/plain": [
              "[1, 1, 1, 1]"
            ]
          },
          "metadata": {
            "tags": []
          },
          "execution_count": 359
        }
      ]
    },
    {
      "cell_type": "code",
      "metadata": {
        "colab": {
          "base_uri": "https://localhost:8080/"
        },
        "id": "vvImY6XmdWDf",
        "outputId": "8a8c2a15-6caa-495e-8f64-ca932c914927"
      },
      "source": [
        "sum(count_unique_c2)"
      ],
      "execution_count": 360,
      "outputs": [
        {
          "output_type": "execute_result",
          "data": {
            "text/plain": [
              "4"
            ]
          },
          "metadata": {
            "tags": []
          },
          "execution_count": 360
        }
      ]
    },
    {
      "cell_type": "code",
      "metadata": {
        "colab": {
          "base_uri": "https://localhost:8080/",
          "height": 279
        },
        "id": "NMKYZoUQGq16",
        "outputId": "f5f81b6c-136d-433b-aeeb-deb5e0b61f11"
      },
      "source": [
        "#Not a preferred way to plot distribution\n",
        "plt.bar(unique_c1,count_unique_c1)\n",
        "plt.xlabel(\"Element in class\")\n",
        "plt.ylabel(\"Counts\")\n",
        "plt.show()"
      ],
      "execution_count": 361,
      "outputs": [
        {
          "output_type": "display_data",
          "data": {
            "image/png": "[encoded data removed]",
            "text/plain": [
              "<Figure size 432x288 with 1 Axes>"
            ]
          },
          "metadata": {
            "tags": [],
            "needs_background": "light"
          }
        }
      ]
    },
    {
      "cell_type": "code",
      "metadata": {
        "colab": {
          "base_uri": "https://localhost:8080/",
          "height": 279
        },
        "id": "GjcrMXXnKxq-",
        "outputId": "b1c0033d-7c2d-4d46-ec00-bf46f7d53ea9"
      },
      "source": [
        "sns.lineplot(list(unique_c1),count_unique_c1)\n",
        "plt.xlabel(\"Element in class\")\n",
        "plt.ylabel(\"Counts\")\n",
        "plt.show()"
      ],
      "execution_count": 362,
      "outputs": [
        {
          "output_type": "display_data",
          "data": {
            "image/png": "[encoded data removed]",
            "text/plain": [
              "<Figure size 432x288 with 1 Axes>"
            ]
          },
          "metadata": {
            "tags": [],
            "needs_background": "light"
          }
        }
      ]
    },
    {
      "cell_type": "code",
      "metadata": {
        "colab": {
          "base_uri": "https://localhost:8080/",
          "height": 279
        },
        "id": "QAmdvoVtWB1K",
        "outputId": "307c3aa4-7c2c-4858-d1ec-e31941eceacd"
      },
      "source": [
        "#Probability distribution of x_c2\n",
        "sns.distplot(c2)\n",
        "plt.xlabel(\"Element in class\")\n",
        "plt.ylabel(\"Counts\")\n",
        "plt.show()"
      ],
      "execution_count": 363,
      "outputs": [
        {
          "output_type": "display_data",
          "data": {
            "image/png": "[encoded data removed]",
            "text/plain": [
              "<Figure size 432x288 with 1 Axes>"
            ]
          },
          "metadata": {
            "tags": [],
            "needs_background": "light"
          }
        }
      ]
    },
    {
      "cell_type": "code",
      "metadata": {
        "colab": {
          "base_uri": "https://localhost:8080/",
          "height": 279
        },
        "id": "R6BHvHIpL1R1",
        "outputId": "cbeae965-7f2d-4e8b-d045-6429b0f079bb"
      },
      "source": [
        "#Plot for the unique values in class c2\n",
        "sns.scatterplot(list(unique_c2),count_unique_c2)\n",
        "plt.xlabel(\"Element in class\")\n",
        "plt.ylabel(\"Counts\")\n",
        "plt.show()"
      ],
      "execution_count": 364,
      "outputs": [
        {
          "output_type": "display_data",
          "data": {
            "image/png": "[encoded data removed]",
            "text/plain": [
              "<Figure size 432x288 with 1 Axes>"
            ]
          },
          "metadata": {
            "tags": [],
            "needs_background": "light"
          }
        }
      ]
    },
    {
      "cell_type": "markdown",
      "metadata": {
        "id": "gquCIUWrKnCZ"
      },
      "source": [
        "# Likelihood"
      ]
    },
    {
      "cell_type": "markdown",
      "metadata": {
        "id": "fb34_4t7Phao"
      },
      "source": [
        "Plot P(x|C1) and P(x|C2)"
      ]
    },
    {
      "cell_type": "code",
      "metadata": {
        "colab": {
          "base_uri": "https://localhost:8080/",
          "height": 279
        },
        "id": "bAWU2UelOclu",
        "outputId": "fe11f541-2b74-41a2-a4ca-0909b9af4b9c"
      },
      "source": [
        "#sns.color_palette(\"Paired\", 9)\n",
        "y1 = np.array(count_unique_c1)/len(c1)\n",
        "sns.pointplot(list(unique_c1),y1, linestyles=\"--\",markers =['x'] )\n",
        "y2 = np.array(count_unique_c2)/len(c2)\n",
        "sns.pointplot(list(unique_c2),y2,linestyles='-',markers=['o'])\n",
        "plt.xlabel(\"Class\")\n",
        "plt.ylabel(\"P(X|C)\")\n",
        "plt.show()"
      ],
      "execution_count": 365,
      "outputs": [
        {
          "output_type": "display_data",
          "data": {
            "image/png": "[encoded data removed]",
            "text/plain": [
              "<Figure size 432x288 with 1 Axes>"
            ]
          },
          "metadata": {
            "tags": [],
            "needs_background": "light"
          }
        }
      ]
    },
    {
      "cell_type": "markdown",
      "metadata": {
        "id": "n-aTLzeVEnvL"
      },
      "source": [
        "# Posterior Probability"
      ]
    },
    {
      "cell_type": "code",
      "metadata": {
        "colab": {
          "base_uri": "https://localhost:8080/"
        },
        "id": "GRWhWGr7QaYm",
        "outputId": "ad43dba4-ba8c-4d64-8955-d5c766ca0aa6"
      },
      "source": [
        "probability_of_x = {}\n",
        "\n",
        "for i in range(len(count_unique_c1)):\n",
        "  if list(unique_c1)[i] in dict(Counter(c2)):\n",
        "    val = Counter(c1)[list(unique_c1)[i]]*prob_c1/sum(count_unique_c1) + Counter(c2)[list(unique_c1)[i]]*prob_c2/sum(count_unique_c2)\n",
        "    probability_of_x.__setitem__(list(unique_c1)[i], val)\n",
        "  else:\n",
        "    val = Counter(c1)[list(unique_c1)[i]]*prob_c1/sum(count_unique_c1)\n",
        "    probability_of_x.__setitem__(list(unique_c1)[i], val)\n",
        "\n",
        "for i in range(len(count_unique_c2)):\n",
        "  if list(unique_c2)[i] not in dict(Counter(c1)):\n",
        "     val = Counter(c2)[list(unique_c2)[i]]*prob_c2/sum(count_unique_c2)\n",
        "     probability_of_x.__setitem__(list(unique_c2)[i], val)\n",
        "\n",
        "   \n",
        "\n",
        "probability_of_x"
      ],
      "execution_count": 366,
      "outputs": [
        {
          "output_type": "execute_result",
          "data": {
            "text/plain": [
              "{1.0: 0.22222222222222224,\n",
              " 1.5: 0.1851851851851852,\n",
              " 2.0: 0.14814814814814814,\n",
              " 2.5: 0.1111111111111111,\n",
              " 3.0: 0.25925925925925924,\n",
              " 4.0: 0.037037037037037035,\n",
              " 5.0: 0.037037037037037035}"
            ]
          },
          "metadata": {
            "tags": []
          },
          "execution_count": 366
        }
      ]
    },
    {
      "cell_type": "code",
      "metadata": {
        "colab": {
          "base_uri": "https://localhost:8080/"
        },
        "id": "0yUqE7_jci7g",
        "outputId": "75704ac5-2f34-4fc7-b355-27938f769312"
      },
      "source": [
        "sum(list(probability_of_x.values()))"
      ],
      "execution_count": 367,
      "outputs": [
        {
          "output_type": "execute_result",
          "data": {
            "text/plain": [
              "1.0"
            ]
          },
          "metadata": {
            "tags": []
          },
          "execution_count": 367
        }
      ]
    },
    {
      "cell_type": "code",
      "metadata": {
        "collapsed": true,
        "id": "jILlWDYyExKs"
      },
      "source": [
        "posterior_of_c1 = {}\n",
        "posterior_of_c2 = {}\n",
        "\n",
        "for i in range(len(count_unique_c1)):\n",
        "  val =  (Counter(c1)[list(unique_c1)[i]]/sum(count_unique_c1)) * (prob_c1/prob_x[list(unique_c1)[i]])\n",
        "  posterior_of_c1.__setitem__(list(unique_c1)[i], val)\n",
        "  if list(unique_c1)[i] not in dict(Counter(c2)):\n",
        "     posterior_of_c2.__setitem__(list(unique_c1)[i], 0)\n",
        "\n",
        "   \n",
        "for i in range(len(count_unique_c2)):\n",
        "  val =  (Counter(c2)[list(unique_c2)[i]]/sum(count_unique_c2)) * (prob_c2/prob_x[list(unique_c2)[i]])\n",
        "  posterior_of_c2.__setitem__(list(unique_c2)[i], val)\n",
        "  if list(unique_c2)[i] not in dict(Counter(c1)):\n",
        "     posterior_of_c1.__setitem__(list(unique_c2)[i], 0)\n",
        "    "
      ],
      "execution_count": 368,
      "outputs": []
    },
    {
      "cell_type": "code",
      "metadata": {
        "collapsed": true,
        "id": "DtcnOhq3Ipa3",
        "colab": {
          "base_uri": "https://localhost:8080/"
        },
        "outputId": "005129a9-76fa-4657-b6d5-4850b4b9a2d5"
      },
      "source": [
        "posterior_of_c1"
      ],
      "execution_count": 369,
      "outputs": [
        {
          "output_type": "execute_result",
          "data": {
            "text/plain": [
              "{1.0: 0.8333333333333333,\n",
              " 1.5: 0.9999999999999999,\n",
              " 2.0: 1.0,\n",
              " 2.5: 0.6666666666666666,\n",
              " 3.0: 0.8571428571428572,\n",
              " 4.0: 1.0,\n",
              " 5.0: 0}"
            ]
          },
          "metadata": {
            "tags": []
          },
          "execution_count": 369
        }
      ]
    },
    {
      "cell_type": "code",
      "metadata": {
        "colab": {
          "base_uri": "https://localhost:8080/"
        },
        "id": "-XczBIQmbkyk",
        "outputId": "753a30b3-4e44-49e4-9c8d-6d11864544d1"
      },
      "source": [
        "posterior_of_c2"
      ],
      "execution_count": 370,
      "outputs": [
        {
          "output_type": "execute_result",
          "data": {
            "text/plain": [
              "{1.0: 0.16666666666666666,\n",
              " 1.5: 0,\n",
              " 2.0: 0,\n",
              " 2.5: 0.3333333333333333,\n",
              " 3.0: 0.14285714285714285,\n",
              " 4.0: 0,\n",
              " 5.0: 1.0}"
            ]
          },
          "metadata": {
            "tags": []
          },
          "execution_count": 370
        }
      ]
    },
    {
      "cell_type": "markdown",
      "metadata": {
        "id": "9tNzBLq8PtDF"
      },
      "source": [
        "Plot P(C1|x) and P(C2|x)"
      ]
    },
    {
      "cell_type": "code",
      "metadata": {
        "collapsed": true,
        "id": "V4buNIKIIsjD",
        "colab": {
          "base_uri": "https://localhost:8080/",
          "height": 283
        },
        "outputId": "dbe63735-d18f-4e09-e577-cd95bd327aba"
      },
      "source": [
        "#Probability distribution of posterior c1\n",
        "sns.distplot(list(posterior_of_c1.values()))\n",
        "plt.xlabel(\"height\")\n",
        "plt.ylabel(\"Posterior of C1\")\n",
        "plt.show()"
      ],
      "execution_count": 371,
      "outputs": [
        {
          "output_type": "display_data",
          "data": {
            "image/png": "[encoded data removed]",
            "text/plain": [
              "<Figure size 432x288 with 1 Axes>"
            ]
          },
          "metadata": {
            "tags": [],
            "needs_background": "light"
          }
        }
      ]
    },
    {
      "cell_type": "code",
      "metadata": {
        "colab": {
          "base_uri": "https://localhost:8080/",
          "height": 283
        },
        "id": "IpdB_gBWgvRR",
        "outputId": "2c892d8c-f0e1-4f47-b2b6-02c9dbddd046"
      },
      "source": [
        "#Probability distribution of posterior c2\n",
        "sns.distplot(list(posterior_of_c2.values()))\n",
        "plt.xlabel(\"height\")\n",
        "plt.ylabel(\"Posterior of C2\")\n",
        "plt.show()"
      ],
      "execution_count": 372,
      "outputs": [
        {
          "output_type": "display_data",
          "data": {
            "image/png": "[encoded data removed]",
            "text/plain": [
              "<Figure size 432x288 with 1 Axes>"
            ]
          },
          "metadata": {
            "tags": [],
            "needs_background": "light"
          }
        }
      ]
    },
    {
      "cell_type": "code",
      "metadata": {
        "colab": {
          "base_uri": "https://localhost:8080/",
          "height": 279
        },
        "id": "2w1ONUqzf4o4",
        "outputId": "1f3eea10-fef5-44e9-ce73-f04f5bf1e6a2"
      },
      "source": [
        "y1 = np.array(list(posterior_of_c1.values()))\n",
        "sns.pointplot(list(posterior_of_c1.keys()),y1, linestyles=\"--\",markers =['x'] )\n",
        "y2 =  np.array(list(posterior_of_c2.values()))\n",
        "sns.pointplot(list(posterior_of_c2.keys()),y2,linestyles='-',markers=['o'])\n",
        "plt.xlabel(\"Class\")\n",
        "plt.ylabel(\"P(c|x)\")\n",
        "plt.show()"
      ],
      "execution_count": 373,
      "outputs": [
        {
          "output_type": "display_data",
          "data": {
            "image/png": "[encoded data removed]",
            "text/plain": [
              "<Figure size 432x288 with 1 Axes>"
            ]
          },
          "metadata": {
            "tags": [],
            "needs_background": "light"
          }
        }
      ]
    },
    {
      "cell_type": "markdown",
      "metadata": {
        "id": "PHufzKbiCF7Q"
      },
      "source": [
        "# Dataset 2"
      ]
    },
    {
      "cell_type": "markdown",
      "metadata": {
        "id": "wjmO4tOgJHxF"
      },
      "source": [
        "Read dataset. c1 contains two features of class 1 and c2 contains the two features for class 2. "
      ]
    },
    {
      "cell_type": "code",
      "metadata": {
        "id": "LFNPgrUtjI3l",
        "colab": {
          "base_uri": "https://localhost:8080/"
        },
        "outputId": "3ab97fe1-a945-47c1-e845-9f81e67480bf"
      },
      "source": [
        "df1_train = pd.read_csv('/content/c1')\n",
        "df2_train = pd.read_csv('/content/c2')\n",
        "class1_train = pd.read_csv('/content/c1').to_numpy()\n",
        "class2_train = pd.read_csv('/content/c2').to_numpy()\n",
        "\n",
        "bins = [-4, -3, -2, -1, 0, 1, 2, 3, 4]\n",
        "df1_train['x1_binned'] = pd.cut(df1_train['x1'], bins)\n",
        "df2_train['x1_binned'] = pd.cut(df2_train['x1'], bins)\n",
        "\n",
        "print(df1_train)\n",
        "print(df2_train)"
      ],
      "execution_count": 374,
      "outputs": [
        {
          "output_type": "stream",
          "text": [
            "           x1        x2 x1_binned\n",
            "0    0.320478  0.481092    (0, 1]\n",
            "1    0.050691  0.096400    (0, 1]\n",
            "2    3.748470  0.403931    (3, 4]\n",
            "3    2.256374  2.089962    (2, 3]\n",
            "4    1.421454  1.243629    (1, 2]\n",
            "..        ...       ...       ...\n",
            "155  3.834316  2.578794    (3, 4]\n",
            "156  1.690178  0.213917    (1, 2]\n",
            "157  0.610302  0.798047    (0, 1]\n",
            "158  1.645452  0.980061    (1, 2]\n",
            "159  2.186148  1.655246    (2, 3]\n",
            "\n",
            "[160 rows x 3 columns]\n",
            "          x1        x2 x1_binned\n",
            "0  -0.779019  1.163869   (-1, 0]\n",
            "1  -1.345146 -2.323707  (-2, -1]\n",
            "2  -0.528361 -1.594005   (-1, 0]\n",
            "3  -0.904174 -1.306116   (-1, 0]\n",
            "4  -1.019487 -1.336907  (-2, -1]\n",
            "5   0.401736 -0.192814    (0, 1]\n",
            "6   0.179973 -0.367843    (0, 1]\n",
            "7  -1.752192  0.234161  (-2, -1]\n",
            "8  -1.335903 -0.641210  (-2, -1]\n",
            "9  -1.843742 -1.153515  (-2, -1]\n",
            "10  0.235126 -0.482024    (0, 1]\n",
            "11 -0.832935 -1.156170   (-1, 0]\n",
            "12 -2.403137 -0.810731  (-3, -2]\n",
            "13 -0.201638  0.147118   (-1, 0]\n",
            "14 -1.425997 -2.384053  (-2, -1]\n",
            "15 -1.006180 -0.357675  (-2, -1]\n",
            "16 -0.094239 -1.452041   (-1, 0]\n",
            "17 -0.289918 -1.078261   (-1, 0]\n",
            "18 -2.447137 -1.156211  (-3, -2]\n",
            "19  0.598018 -0.321440    (0, 1]\n",
            "20 -1.006445 -1.030278  (-2, -1]\n",
            "21 -0.829708 -0.050445   (-1, 0]\n",
            "22 -0.762490 -0.843847   (-1, 0]\n",
            "23 -3.324713 -1.068138  (-4, -3]\n",
            "24 -1.485572 -1.875719  (-2, -1]\n",
            "25 -0.999629  0.582293   (-1, 0]\n",
            "26  0.855743  0.569506    (0, 1]\n",
            "27 -2.725207 -2.810354  (-3, -2]\n",
            "28 -3.702484 -1.812235  (-4, -3]\n",
            "29 -0.639451 -0.403065   (-1, 0]\n",
            "30 -1.014565 -1.986840  (-2, -1]\n",
            "31 -0.809744 -1.120476   (-1, 0]\n",
            "32 -2.182842  0.042649  (-3, -2]\n",
            "33 -3.117122 -2.846357  (-4, -3]\n",
            "34 -0.201574 -1.057435   (-1, 0]\n",
            "35 -1.124155 -0.488612  (-2, -1]\n",
            "36  0.600648 -0.382622    (0, 1]\n",
            "37  0.162933  0.200207    (0, 1]\n",
            "38 -0.867570 -2.730560   (-1, 0]\n"
          ],
          "name": "stdout"
        }
      ]
    },
    {
      "cell_type": "code",
      "metadata": {
        "colab": {
          "base_uri": "https://localhost:8080/"
        },
        "id": "prbyLeEr75sq",
        "outputId": "db3fe58b-79c0-4597-ee14-65cae79da120"
      },
      "source": [
        "print(class1_train.shape)\n",
        "print(class1_train)\n",
        "print(type(class2_train))\n",
        "print(class2_train.shape)\n",
        "print(type(class1_train))\n",
        "print(class2_train)"
      ],
      "execution_count": 375,
      "outputs": [
        {
          "output_type": "stream",
          "text": [
            "(160, 2)\n",
            "[[ 3.20478053e-01  4.81092097e-01]\n",
            " [ 5.06909985e-02  9.63995041e-02]\n",
            " [ 3.74846984e+00  4.03931041e-01]\n",
            " [ 2.25637447e+00  2.08996208e+00]\n",
            " [ 1.42145382e+00  1.24362901e+00]\n",
            " [ 4.08062705e-01  9.24810050e-01]\n",
            " [ 1.60681941e+00  4.75268430e-01]\n",
            " [ 1.57397678e+00  1.60394699e+00]\n",
            " [ 1.73121450e+00  2.43452464e+00]\n",
            " [ 9.30696141e-01  2.12345759e-01]\n",
            " [ 1.43750641e+00 -2.84913595e-01]\n",
            " [-4.91480512e-01  2.70506180e-01]\n",
            " [ 2.35052206e+00  2.34923853e+00]\n",
            " [ 1.06032568e+00  2.25909849e-01]\n",
            " [ 2.23321779e+00  1.18800751e+00]\n",
            " [-3.36602971e-01  8.26100949e-01]\n",
            " [ 1.21051794e+00  3.59324046e-01]\n",
            " [ 1.95878231e+00  2.81435856e+00]\n",
            " [ 5.35856323e-01 -1.54336636e-01]\n",
            " [ 2.89423945e+00  1.71311383e+00]\n",
            " [ 1.38569352e+00  1.74692600e+00]\n",
            " [ 1.27854113e+00 -3.70841388e-01]\n",
            " [-9.07354159e-02  2.42044784e+00]\n",
            " [ 9.07143282e-01  5.69730755e-01]\n",
            " [ 2.28848082e+00  1.68559588e+00]\n",
            " [-1.53479431e-01 -3.95808482e-01]\n",
            " [ 2.40208659e+00  4.41623125e-01]\n",
            " [ 1.21455553e+00  1.51675544e+00]\n",
            " [ 3.15059021e+00  2.15931522e+00]\n",
            " [ 1.61705139e-01  2.27584873e-01]\n",
            " [ 3.76563297e-01  2.39668017e+00]\n",
            " [-7.80093524e-02  1.29550862e+00]\n",
            " [ 7.93102203e-01  7.18138670e-01]\n",
            " [ 6.38655629e-01  1.71512068e+00]\n",
            " [ 1.17419310e+00  1.21156020e+00]\n",
            " [ 7.82910083e-01  1.83746859e+00]\n",
            " [ 1.56704382e+00  2.32571221e+00]\n",
            " [ 1.34640435e+00  1.53574863e+00]\n",
            " [ 1.48100091e+00  1.97369049e+00]\n",
            " [ 1.32115969e-01  3.72019145e+00]\n",
            " [ 6.47153893e-01  1.90929459e+00]\n",
            " [ 8.34537190e-01  4.36696082e-01]\n",
            " [ 1.79097819e+00  4.97727218e-01]\n",
            " [ 1.65613457e-01  4.48146568e-01]\n",
            " [ 1.77382987e+00  3.59584258e-01]\n",
            " [ 2.81055454e-01  1.86934895e+00]\n",
            " [-5.41514032e-01 -1.78206678e+00]\n",
            " [-3.17104082e-03  5.82448438e-01]\n",
            " [ 2.65977524e-01  7.45623206e-01]\n",
            " [ 1.67998755e+00  1.47524432e+00]\n",
            " [-7.69278364e-02  5.51096714e-01]\n",
            " [ 5.31289201e-01  1.23125697e+00]\n",
            " [-1.35464199e+00  2.31165217e+00]\n",
            " [ 1.86463296e+00  1.04276634e+00]\n",
            " [ 1.37080655e-01  9.59573148e-01]\n",
            " [ 6.72782686e-01  1.33101489e+00]\n",
            " [ 2.71373259e-01  2.09255502e+00]\n",
            " [ 4.90872899e-01  1.42871276e+00]\n",
            " [ 8.44245750e-01  1.45908004e+00]\n",
            " [-1.41755824e-01  1.60526601e+00]\n",
            " [-5.43108759e-01  2.55483216e+00]\n",
            " [ 1.86662852e+00 -4.95533153e-01]\n",
            " [ 1.62968289e+00 -2.07118592e-01]\n",
            " [-9.41519515e-02  1.63625097e+00]\n",
            " [-2.79426133e-01  1.41589476e+00]\n",
            " [-6.83401357e-01  9.43997185e-01]\n",
            " [ 2.84099543e+00  1.68822895e+00]\n",
            " [ 2.49599528e-01  1.30062987e+00]\n",
            " [ 7.00035666e-01 -2.71102265e-01]\n",
            " [-4.03926837e-01  2.10141031e+00]\n",
            " [ 1.06378846e-02  1.07368558e+00]\n",
            " [ 8.79023000e-01 -5.53299817e-01]\n",
            " [ 7.96222695e-01  2.03630162e+00]\n",
            " [ 1.63923033e+00  5.28634691e-01]\n",
            " [ 3.47535578e-01  2.31594124e+00]\n",
            " [ 1.09034673e+00  5.81402834e-01]\n",
            " [ 1.59950909e+00  1.57251835e+00]\n",
            " [ 1.71809918e+00  1.69350589e+00]\n",
            " [-3.26992419e-01  1.26337157e+00]\n",
            " [ 1.45715845e+00 -5.77884572e-01]\n",
            " [ 2.29163646e+00 -1.67802437e+00]\n",
            " [ 1.53354517e+00  1.41717632e+00]\n",
            " [ 1.25734675e+00  2.27775563e+00]\n",
            " [-3.97442350e-01  4.97510207e-01]\n",
            " [ 1.85502902e+00  1.63659070e+00]\n",
            " [ 1.66070698e+00  4.62049120e-01]\n",
            " [ 1.83500805e+00  4.78981246e-01]\n",
            " [-4.48501805e-01  6.91542368e-01]\n",
            " [ 1.33206620e+00  2.51223858e-01]\n",
            " [ 5.34460573e-01  1.36866125e+00]\n",
            " [ 3.08028369e+00  2.13323258e+00]\n",
            " [ 2.56037183e+00  1.20455583e+00]\n",
            " [-8.12853105e-01  6.72161126e-01]\n",
            " [ 6.08373202e-01  1.45279870e-01]\n",
            " [ 1.64903113e+00  1.84257012e+00]\n",
            " [ 7.64268036e-01  1.19328978e-01]\n",
            " [-1.54616074e+00  1.54949478e+00]\n",
            " [ 1.12912699e-01  5.20482737e-01]\n",
            " [ 6.26671034e-01  2.19932279e+00]\n",
            " [ 4.37228150e-01  1.51231575e+00]\n",
            " [ 6.20802826e-01 -3.75429035e-02]\n",
            " [-2.32788588e-01  1.16106876e+00]\n",
            " [ 5.47319033e-01  1.32959599e+00]\n",
            " [-5.08058110e-01  5.65862993e-01]\n",
            " [-1.12255957e-01  1.66569447e+00]\n",
            " [ 1.10432791e+00  1.45039760e-01]\n",
            " [ 4.76066716e-01  4.74144853e-01]\n",
            " [ 1.50196813e+00  1.84635107e+00]\n",
            " [ 2.23265492e+00  1.75318958e+00]\n",
            " [ 2.29377019e+00  1.30509813e+00]\n",
            " [ 9.07942796e-01  7.00611759e-01]\n",
            " [ 1.13254903e+00  1.02626596e+00]\n",
            " [ 8.54065000e-01  1.38844087e+00]\n",
            " [ 6.53905976e-01  2.38008826e-01]\n",
            " [ 1.71254571e+00  1.23857520e+00]\n",
            " [ 1.50098858e+00  1.38288967e+00]\n",
            " [ 4.78423464e-01  8.05416806e-01]\n",
            " [ 3.17753682e-01  1.13624769e+00]\n",
            " [ 1.50595214e+00  2.16815705e+00]\n",
            " [ 1.02321995e+00  4.24118866e-01]\n",
            " [ 8.91047866e-01  3.42817869e-01]\n",
            " [ 1.19797585e+00  1.46254751e+00]\n",
            " [ 1.29278402e+00  1.79121697e+00]\n",
            " [ 7.57546960e-01  5.19767193e-01]\n",
            " [ 1.21450536e+00  4.66844731e-01]\n",
            " [ 2.89530342e+00  3.02859786e+00]\n",
            " [ 1.88832348e-01  1.57914801e+00]\n",
            " [ 1.95222684e+00  2.00068827e+00]\n",
            " [ 3.16808561e-01 -4.96124630e-01]\n",
            " [ 8.98482736e-01  2.01440669e+00]\n",
            " [ 2.69468703e+00  2.18881682e-01]\n",
            " [ 1.94441669e-01  3.99373790e-01]\n",
            " [-1.64156190e-01  1.05062882e+00]\n",
            " [ 1.47536889e+00  6.46124625e-01]\n",
            " [ 1.07130560e-01  5.99864878e-01]\n",
            " [ 9.50165257e-01  2.29633934e+00]\n",
            " [ 3.69413795e-01  1.78269675e+00]\n",
            " [ 3.65390197e-01  1.71821839e+00]\n",
            " [ 1.83836715e+00 -1.54973354e-01]\n",
            " [-2.14790517e-01  8.24905710e-01]\n",
            " [ 1.85458954e+00  1.56737735e-01]\n",
            " [ 8.35193143e-01 -1.27234055e-01]\n",
            " [ 2.22949907e+00  7.09936040e-01]\n",
            " [ 1.21839345e+00  3.42619229e-01]\n",
            " [ 1.58295425e+00 -2.06538409e-01]\n",
            " [ 1.02094589e+00 -8.53956382e-02]\n",
            " [ 2.49658753e+00  2.34057083e+00]\n",
            " [ 6.11183752e-01  9.48687274e-01]\n",
            " [ 1.14635245e+00  5.81664167e-01]\n",
            " [ 2.13218993e+00  1.00272506e+00]\n",
            " [ 5.11547343e-01  7.53061210e-01]\n",
            " [ 1.41787065e-01  9.70052104e-01]\n",
            " [ 1.76369632e+00 -1.45803711e+00]\n",
            " [-1.15921000e+00  6.25002729e-01]\n",
            " [ 3.92831716e-01  5.79477737e-01]\n",
            " [ 3.83431563e+00  2.57879379e+00]\n",
            " [ 1.69017776e+00  2.13917001e-01]\n",
            " [ 6.10302214e-01  7.98047113e-01]\n",
            " [ 1.64545215e+00  9.80061156e-01]\n",
            " [ 2.18614787e+00  1.65524566e+00]]\n",
            "<class 'numpy.ndarray'>\n",
            "(39, 2)\n",
            "<class 'numpy.ndarray'>\n",
            "[[-0.7790189   1.16386885]\n",
            " [-1.34514566 -2.32370674]\n",
            " [-0.52836145 -1.59400495]\n",
            " [-0.90417352 -1.30611604]\n",
            " [-1.01948659 -1.33690662]\n",
            " [ 0.4017355  -0.1928143 ]\n",
            " [ 0.17997268 -0.36784276]\n",
            " [-1.75219243  0.23416112]\n",
            " [-1.33590287 -0.64121032]\n",
            " [-1.84374181 -1.15351502]\n",
            " [ 0.23512604 -0.4820237 ]\n",
            " [-0.83293518 -1.15616973]\n",
            " [-2.40313726 -0.81073131]\n",
            " [-0.20163836  0.1471181 ]\n",
            " [-1.42599684 -2.38405297]\n",
            " [-1.0061799  -0.35767457]\n",
            " [-0.09423858 -1.45204129]\n",
            " [-0.28991801 -1.0782606 ]\n",
            " [-2.44713737 -1.15621129]\n",
            " [ 0.59801799 -0.32144022]\n",
            " [-1.0064447  -1.030278  ]\n",
            " [-0.82970779 -0.05044485]\n",
            " [-0.76248959 -0.84384686]\n",
            " [-3.32471301 -1.06813795]\n",
            " [-1.48557176 -1.87571896]\n",
            " [-0.99962918  0.58229286]\n",
            " [ 0.8557429   0.56950641]\n",
            " [-2.72520704 -2.81035423]\n",
            " [-3.70248416 -1.81223506]\n",
            " [-0.63945063 -0.40306483]\n",
            " [-1.01456455 -1.98684012]\n",
            " [-0.80974435 -1.12047576]\n",
            " [-2.18284159  0.04264866]\n",
            " [-3.11712168 -2.84635664]\n",
            " [-0.20157447 -1.0574348 ]\n",
            " [-1.12415544 -0.48861234]\n",
            " [ 0.60064777 -0.38262217]\n",
            " [ 0.16293271  0.20020738]\n",
            " [-0.86757022 -2.73055969]]\n"
          ],
          "name": "stdout"
        }
      ]
    },
    {
      "cell_type": "code",
      "metadata": {
        "colab": {
          "base_uri": "https://localhost:8080/",
          "height": 194
        },
        "id": "B0oef60879z3",
        "outputId": "d36d204a-5cd0-4d14-90f5-4b4b77223d46"
      },
      "source": [
        "data = []\n",
        "for i in class1_train:\n",
        "  data.append([i[0],i[1],1])\n",
        "for i in class2_train:\n",
        "  data.append([i[0],i[1],2])\n",
        "df_c1_c2 = pd.DataFrame(data,columns=['x1','x2','class'])\n",
        "bins = [-4, -3, -2, -1, 0, 1, 2, 3, 4]\n",
        "df_c1_c2['x1_binned'] = pd.cut(df_c1_c2['x1'], bins)\n",
        "df_c1_c2.head()"
      ],
      "execution_count": 376,
      "outputs": [
        {
          "output_type": "execute_result",
          "data": {
            "text/html": [
              "<div>\n",
              "<style scoped>\n",
              "    .dataframe tbody tr th:only-of-type {\n",
              "        vertical-align: middle;\n",
              "    }\n",
              "\n",
              "    .dataframe tbody tr th {\n",
              "        vertical-align: top;\n",
              "    }\n",
              "\n",
              "    .dataframe thead th {\n",
              "        text-align: right;\n",
              "    }\n",
              "</style>\n",
              "<table border=\"1\" class=\"dataframe\">\n",
              "  <thead>\n",
              "    <tr style=\"text-align: right;\">\n",
              "      <th></th>\n",
              "      <th>x1</th>\n",
              "      <th>x2</th>\n",
              "      <th>class</th>\n",
              "      <th>x1_binned</th>\n",
              "    </tr>\n",
              "  </thead>\n",
              "  <tbody>\n",
              "    <tr>\n",
              "      <th>0</th>\n",
              "      <td>0.320478</td>\n",
              "      <td>0.481092</td>\n",
              "      <td>1</td>\n",
              "      <td>(0, 1]</td>\n",
              "    </tr>\n",
              "    <tr>\n",
              "      <th>1</th>\n",
              "      <td>0.050691</td>\n",
              "      <td>0.096400</td>\n",
              "      <td>1</td>\n",
              "      <td>(0, 1]</td>\n",
              "    </tr>\n",
              "    <tr>\n",
              "      <th>2</th>\n",
              "      <td>3.748470</td>\n",
              "      <td>0.403931</td>\n",
              "      <td>1</td>\n",
              "      <td>(3, 4]</td>\n",
              "    </tr>\n",
              "    <tr>\n",
              "      <th>3</th>\n",
              "      <td>2.256374</td>\n",
              "      <td>2.089962</td>\n",
              "      <td>1</td>\n",
              "      <td>(2, 3]</td>\n",
              "    </tr>\n",
              "    <tr>\n",
              "      <th>4</th>\n",
              "      <td>1.421454</td>\n",
              "      <td>1.243629</td>\n",
              "      <td>1</td>\n",
              "      <td>(1, 2]</td>\n",
              "    </tr>\n",
              "  </tbody>\n",
              "</table>\n",
              "</div>"
            ],
            "text/plain": [
              "         x1        x2  class x1_binned\n",
              "0  0.320478  0.481092      1    (0, 1]\n",
              "1  0.050691  0.096400      1    (0, 1]\n",
              "2  3.748470  0.403931      1    (3, 4]\n",
              "3  2.256374  2.089962      1    (2, 3]\n",
              "4  1.421454  1.243629      1    (1, 2]"
            ]
          },
          "metadata": {
            "tags": []
          },
          "execution_count": 376
        }
      ]
    },
    {
      "cell_type": "code",
      "metadata": {
        "id": "QjfG6YI98LC-"
      },
      "source": [
        ""
      ],
      "execution_count": 376,
      "outputs": []
    },
    {
      "cell_type": "markdown",
      "metadata": {
        "id": "R-wrTyMums4P"
      },
      "source": [
        "# Plotting the distribution of samples."
      ]
    },
    {
      "cell_type": "code",
      "metadata": {
        "colab": {
          "base_uri": "https://localhost:8080/",
          "height": 268
        },
        "id": "NcpXarchmsbk",
        "outputId": "165b4e26-d0a5-4dbb-c241-206d2f5a030a"
      },
      "source": [
        "import seaborn as sns\n",
        "sns.scatterplot(class1_train[:,0],class1_train[:,1],marker='.')\n",
        "sns.scatterplot(class2_train[:,0],class2_train[:,1],marker='x')\n",
        "plt.show()"
      ],
      "execution_count": 377,
      "outputs": [
        {
          "output_type": "display_data",
          "data": {
            "image/png": "[encoded data removed]",
            "text/plain": [
              "<Figure size 432x288 with 1 Axes>"
            ]
          },
          "metadata": {
            "tags": [],
            "needs_background": "light"
          }
        }
      ]
    },
    {
      "cell_type": "markdown",
      "metadata": {
        "id": "gIoL--pDl4CC"
      },
      "source": [
        "Determine Prior Probabilities"
      ]
    },
    {
      "cell_type": "code",
      "metadata": {
        "id": "7hLlZv9Ejv-r"
      },
      "source": [
        "no_of_samples = len(class1_train)+len(class2_train)"
      ],
      "execution_count": 378,
      "outputs": []
    },
    {
      "cell_type": "code",
      "metadata": {
        "colab": {
          "base_uri": "https://localhost:8080/"
        },
        "id": "6Qt2AcJgmGNl",
        "outputId": "08c73c3a-fc76-41a1-fabe-5472c7977599"
      },
      "source": [
        "prob_c1 = len(class1_train)/no_of_samples\n",
        "prob_c1"
      ],
      "execution_count": 379,
      "outputs": [
        {
          "output_type": "execute_result",
          "data": {
            "text/plain": [
              "0.8040201005025126"
            ]
          },
          "metadata": {
            "tags": []
          },
          "execution_count": 379
        }
      ]
    },
    {
      "cell_type": "code",
      "metadata": {
        "colab": {
          "base_uri": "https://localhost:8080/"
        },
        "id": "MPtKL9a1mHfj",
        "outputId": "376f0672-3737-4cd7-e615-4555c9d14442"
      },
      "source": [
        "prob_c2 = len(class2_train)/no_of_samples\n",
        "prob_c2"
      ],
      "execution_count": 380,
      "outputs": [
        {
          "output_type": "execute_result",
          "data": {
            "text/plain": [
              "0.19597989949748743"
            ]
          },
          "metadata": {
            "tags": []
          },
          "execution_count": 380
        }
      ]
    },
    {
      "cell_type": "markdown",
      "metadata": {
        "id": "rWiy1D4pajQk"
      },
      "source": [
        "Plotting the prior"
      ]
    },
    {
      "cell_type": "code",
      "metadata": {
        "colab": {
          "base_uri": "https://localhost:8080/",
          "height": 592
        },
        "id": "27dp41Fbai0D",
        "outputId": "09c16029-e084-42a2-8dec-a4d69d2e24ba"
      },
      "source": [
        "f = plt.figure()\n",
        "f.set_figwidth(10)\n",
        "f.set_figheight(10)\n",
        "sns.distplot(class1_train,label='C1')\n",
        "sns.distplot(class2_train)\n",
        "plt.show()"
      ],
      "execution_count": 381,
      "outputs": [
        {
          "output_type": "display_data",
          "data": {
            "image/png": "[encoded data removed]",
            "text/plain": [
              "<Figure size 720x720 with 1 Axes>"
            ]
          },
          "metadata": {
            "tags": [],
            "needs_background": "light"
          }
        }
      ]
    },
    {
      "cell_type": "markdown",
      "metadata": {
        "id": "e1o8kAn0Jer9"
      },
      "source": [
        "Plot the data distribution and the histogram of feature 1 and feature 2 in the x axis and the y -axis respectively. The distribution of feature 1 wil be along the top of the x-axis and feature 2 along the right of the y axis."
      ]
    },
    {
      "cell_type": "code",
      "metadata": {
        "id": "SYb5bxWh0Utl",
        "colab": {
          "base_uri": "https://localhost:8080/",
          "height": 459
        },
        "outputId": "ae481aaa-24e2-45aa-bd88-38f681594efd"
      },
      "source": [
        "sns.jointplot(data=df_c1_c2, x=\"x1\",color=\"red\", y=\"x2\", hue=\"class\")"
      ],
      "execution_count": 382,
      "outputs": [
        {
          "output_type": "execute_result",
          "data": {
            "text/plain": [
              "<seaborn.axisgrid.JointGrid at 0x7fbe1bc6ac50>"
            ]
          },
          "metadata": {
            "tags": []
          },
          "execution_count": 382
        },
        {
          "output_type": "display_data",
          "data": {
            "image/png": "[encoded data removed]",
            "text/plain": [
              "<Figure size 432x432 with 3 Axes>"
            ]
          },
          "metadata": {
            "tags": [],
            "needs_background": "light"
          }
        }
      ]
    },
    {
      "cell_type": "code",
      "metadata": {
        "colab": {
          "base_uri": "https://localhost:8080/"
        },
        "id": "ZqyKXNvpejD7",
        "outputId": "f23b324f-9a4f-4c06-d242-0dcd9386301a"
      },
      "source": [
        "from collections import Counter\n",
        "x = df1_train['x1_binned']\n",
        "print(x)\n",
        "unique_c1 = Counter(x).keys() \n",
        "count_unique_c1 = list(Counter(x).values()) \n",
        "x = df2_train['x1_binned']\n",
        "unique_c2 = Counter(x).keys() \n",
        "count_unique_c2 = list(Counter(x).values()) "
      ],
      "execution_count": 383,
      "outputs": [
        {
          "output_type": "stream",
          "text": [
            "0      (0, 1]\n",
            "1      (0, 1]\n",
            "2      (3, 4]\n",
            "3      (2, 3]\n",
            "4      (1, 2]\n",
            "        ...  \n",
            "155    (3, 4]\n",
            "156    (1, 2]\n",
            "157    (0, 1]\n",
            "158    (1, 2]\n",
            "159    (2, 3]\n",
            "Name: x1_binned, Length: 160, dtype: category\n",
            "Categories (8, interval[int64]): [(-4, -3] < (-3, -2] < (-2, -1] < (-1, 0] < (0, 1] < (1, 2] < (2, 3] <\n",
            "                                  (3, 4]]\n"
          ],
          "name": "stdout"
        }
      ]
    },
    {
      "cell_type": "code",
      "metadata": {
        "colab": {
          "base_uri": "https://localhost:8080/",
          "height": 313
        },
        "id": "18DuW_0kDiWZ",
        "outputId": "7bf82666-4aa3-4beb-ac18-72f9a8ff1ae5"
      },
      "source": [
        "y1 = np.array(count_unique_c1)/len(df1_train)\n",
        "sns.pointplot(list(unique_c1),y1, linestyles=\"--\",markers =['x'] )\n",
        "y2 = np.array(count_unique_c2)/len(df2_train)\n",
        "sns.pointplot(list(unique_c2),y2,linestyles='-',markers=['o'])\n",
        "plt.xlabel(\"Class\")\n",
        "plt.ylabel(\"P(x|c)\")\n",
        "plt.xticks(rotation=30)\n",
        "plt.figure(figsize=(25,25))\n",
        "plt.show()"
      ],
      "execution_count": 384,
      "outputs": [
        {
          "output_type": "display_data",
          "data": {
            "image/png": "[encoded data removed]",
            "text/plain": [
              "<Figure size 432x288 with 1 Axes>"
            ]
          },
          "metadata": {
            "tags": [],
            "needs_background": "light"
          }
        },
        {
          "output_type": "display_data",
          "data": {
            "text/plain": [
              "<Figure size 1800x1800 with 0 Axes>"
            ]
          },
          "metadata": {
            "tags": []
          }
        }
      ]
    },
    {
      "cell_type": "code",
      "metadata": {
        "colab": {
          "base_uri": "https://localhost:8080/"
        },
        "id": "KX4jsrCoDm-1",
        "outputId": "1cfca939-43d1-4473-83e3-e35f372b970e"
      },
      "source": [
        "count_x = Counter(df_c1_c2['x1_binned'])\n",
        "print(count_x)\n",
        "\n",
        "print(y1,y2)\n",
        "\n",
        "Post_c1_cnt = np.array(y1)*prob_c1\n",
        "Post_c2_cnt = np.array(y2)*prob_c2\n",
        "\n",
        "print(Post_c1_cnt, Post_c2_cnt)\n",
        "\n",
        "list_unique_c1 = list(unique_c1)\n",
        "list_unique_c2 = list(unique_c2)\n",
        "\n",
        "\n",
        "for i in range(0,len(unique_c1)):\n",
        "  Post_c1_cnt[i] = Post_c1_cnt[i]/(count_x[list_unique_c1[i]]/len(data))\n",
        "for i in range(0,len(unique_c2)):\n",
        "  Post_c2_cnt[i] = Post_c2_cnt[i]/(count_x[list_unique_c2[i]]/len(data))\n",
        "  \n",
        "print(Post_c1_cnt)\n",
        "print(Post_c2_cnt)"
      ],
      "execution_count": 385,
      "outputs": [
        {
          "output_type": "stream",
          "text": [
            "Counter({Interval(0, 1, closed='right'): 66, Interval(1, 2, closed='right'): 54, Interval(-1, 0, closed='right'): 37, Interval(2, 3, closed='right'): 17, Interval(-2, -1, closed='right'): 14, Interval(3, 4, closed='right'): 4, Interval(-3, -2, closed='right'): 4, Interval(-4, -3, closed='right'): 3})\n",
            "[0.36875 0.025   0.10625 0.3375  0.14375 0.01875] [0.35897436 0.28205128 0.17948718 0.1025641  0.07692308]\n",
            "[0.29648241 0.0201005  0.08542714 0.27135678 0.11557789 0.01507538] [0.07035176 0.05527638 0.03517588 0.0201005  0.01507538]\n",
            "[0.89393939 1.         1.         1.         0.62162162 0.21428571]\n",
            "[0.37837838 0.78571429 0.10606061 1.         1.        ]\n"
          ],
          "name": "stdout"
        }
      ]
    },
    {
      "cell_type": "code",
      "metadata": {
        "colab": {
          "base_uri": "https://localhost:8080/",
          "height": 297
        },
        "id": "qTstHVTbFzhe",
        "outputId": "8bf30004-a5f6-46c4-f4d2-355be1f47cd5"
      },
      "source": [
        "l1 = np.array(list_unique_c1,dtype='S')\n",
        "l2 = np.array(list_unique_c2,dtype='S')\n",
        "g1 = sns.scatterplot(x=l1,y=Post_c1_cnt,label='class1')\n",
        "g1 = sns.scatterplot(x=l2,y=Post_c2_cnt,label='class2')\n",
        "g1.set(xlabel=\"Interval\",ylabel=\"P(w/x)\")"
      ],
      "execution_count": 386,
      "outputs": [
        {
          "output_type": "execute_result",
          "data": {
            "text/plain": [
              "[Text(0, 0.5, 'P(w/x)'), Text(0.5, 0, 'Interval')]"
            ]
          },
          "metadata": {
            "tags": []
          },
          "execution_count": 386
        },
        {
          "output_type": "display_data",
          "data": {
            "image/png": "[encoded data removed]",
            "text/plain": [
              "<Figure size 432x288 with 1 Axes>"
            ]
          },
          "metadata": {
            "tags": [],
            "needs_background": "light"
          }
        }
      ]
    },
    {
      "cell_type": "markdown",
      "metadata": {
        "id": "mCYW-UAFy-bl"
      },
      "source": [
        "# Plot the Posterior Probability for each class"
      ]
    },
    {
      "cell_type": "markdown",
      "metadata": {
        "id": "ioYI3x2nQs1S"
      },
      "source": [
        "# In the report please explain the plots that you are getting clearly explaining the reason ."
      ]
    },
    {
      "cell_type": "code",
      "metadata": {
        "id": "xPegHomJcaIg"
      },
      "source": [
        "import numpy as np\n",
        "import pandas as pd\n",
        "import matplotlib.pyplot as plt\n",
        "from sklearn.preprocessing import OrdinalEncoder\n",
        "import seaborn as sns\n",
        "import warnings\n",
        "warnings.filterwarnings('ignore')"
      ],
      "execution_count": 387,
      "outputs": []
    },
    {
      "cell_type": "code",
      "metadata": {
        "colab": {
          "base_uri": "https://localhost:8080/",
          "height": 194
        },
        "id": "VfqiXwRvGE_P",
        "outputId": "76a0888b-9107-4d06-eeed-0b90dbf0495a"
      },
      "source": [
        "iris = pd.read_csv('/content/Iris.csv')\n",
        "iris.drop([\"Id\"], axis=1, inplace=True)\n",
        "\n",
        "bins = [1,2,3,4,5,6,7,8,9,10]\n",
        "iris['SepalLengthCm_binned'] = pd.cut(iris['SepalLengthCm'], bins)\n",
        "\n",
        "ord_enc = OrdinalEncoder()\n",
        "iris[\"Species\"] = ord_enc.fit_transform(iris[[\"Species\"]])\n",
        "data_iris = iris.to_numpy()\n",
        "iris.head()"
      ],
      "execution_count": 388,
      "outputs": [
        {
          "output_type": "execute_result",
          "data": {
            "text/html": [
              "<div>\n",
              "<style scoped>\n",
              "    .dataframe tbody tr th:only-of-type {\n",
              "        vertical-align: middle;\n",
              "    }\n",
              "\n",
              "    .dataframe tbody tr th {\n",
              "        vertical-align: top;\n",
              "    }\n",
              "\n",
              "    .dataframe thead th {\n",
              "        text-align: right;\n",
              "    }\n",
              "</style>\n",
              "<table border=\"1\" class=\"dataframe\">\n",
              "  <thead>\n",
              "    <tr style=\"text-align: right;\">\n",
              "      <th></th>\n",
              "      <th>SepalLengthCm</th>\n",
              "      <th>SepalWidthCm</th>\n",
              "      <th>PetalLengthCm</th>\n",
              "      <th>PetalWidthCm</th>\n",
              "      <th>Species</th>\n",
              "      <th>SepalLengthCm_binned</th>\n",
              "    </tr>\n",
              "  </thead>\n",
              "  <tbody>\n",
              "    <tr>\n",
              "      <th>0</th>\n",
              "      <td>5.1</td>\n",
              "      <td>3.5</td>\n",
              "      <td>1.4</td>\n",
              "      <td>0.2</td>\n",
              "      <td>0.0</td>\n",
              "      <td>(5, 6]</td>\n",
              "    </tr>\n",
              "    <tr>\n",
              "      <th>1</th>\n",
              "      <td>4.9</td>\n",
              "      <td>3.0</td>\n",
              "      <td>1.4</td>\n",
              "      <td>0.2</td>\n",
              "      <td>0.0</td>\n",
              "      <td>(4, 5]</td>\n",
              "    </tr>\n",
              "    <tr>\n",
              "      <th>2</th>\n",
              "      <td>4.7</td>\n",
              "      <td>3.2</td>\n",
              "      <td>1.3</td>\n",
              "      <td>0.2</td>\n",
              "      <td>0.0</td>\n",
              "      <td>(4, 5]</td>\n",
              "    </tr>\n",
              "    <tr>\n",
              "      <th>3</th>\n",
              "      <td>4.6</td>\n",
              "      <td>3.1</td>\n",
              "      <td>1.5</td>\n",
              "      <td>0.2</td>\n",
              "      <td>0.0</td>\n",
              "      <td>(4, 5]</td>\n",
              "    </tr>\n",
              "    <tr>\n",
              "      <th>4</th>\n",
              "      <td>5.0</td>\n",
              "      <td>3.6</td>\n",
              "      <td>1.4</td>\n",
              "      <td>0.2</td>\n",
              "      <td>0.0</td>\n",
              "      <td>(4, 5]</td>\n",
              "    </tr>\n",
              "  </tbody>\n",
              "</table>\n",
              "</div>"
            ],
            "text/plain": [
              "   SepalLengthCm  SepalWidthCm  ...  Species  SepalLengthCm_binned\n",
              "0            5.1           3.5  ...      0.0                (5, 6]\n",
              "1            4.9           3.0  ...      0.0                (4, 5]\n",
              "2            4.7           3.2  ...      0.0                (4, 5]\n",
              "3            4.6           3.1  ...      0.0                (4, 5]\n",
              "4            5.0           3.6  ...      0.0                (4, 5]\n",
              "\n",
              "[5 rows x 6 columns]"
            ]
          },
          "metadata": {
            "tags": []
          },
          "execution_count": 388
        }
      ]
    },
    {
      "cell_type": "code",
      "metadata": {
        "id": "R0pE2P1_GH9m"
      },
      "source": [
        "df1_a = []\n",
        "df2_a = []\n",
        "df3_a = []\n",
        "\n",
        "label = []\n",
        "x_iris_c1 = []\n",
        "x_iris_c2 = []\n",
        "x_iris_c3= []\n",
        "c1_iris_count = 0\n",
        "c2_iris_count = 0\n",
        "c3_iris_count = 0\n",
        "for i in range(data_iris.shape[0]):\n",
        "  if(data_iris[i][4] == 0.0):\n",
        "    label.append(0)\n",
        "    x_iris_c1.append(data_iris[i][0])\n",
        "    #df1_a.append()\n",
        "    df1_a.append([data_iris[i][0],data_iris[i][1],data_iris[i][2],data_iris[i][3],data_iris[i][4],data_iris[i][5]])\n",
        "    c1_iris_count += 1\n",
        "  if(data_iris[i][4] == 1.0):\n",
        "    label.append(1)\n",
        "    x_iris_c2.append(data_iris[i][0])\n",
        "    df2_a.append([data_iris[i][0],data_iris[i][1],data_iris[i][2],data_iris[i][3],data_iris[i][4],data_iris[i][5]])\n",
        "    c2_iris_count += 1\n",
        "  if(data_iris[i][4] == 2.0):\n",
        "    label.append(2)\n",
        "    df3_a.append([data_iris[i][0],data_iris[i][1],data_iris[i][2],data_iris[i][3],data_iris[i][4],data_iris[i][5]])\n",
        "    x_iris_c3.append(data_iris[i][0])\n",
        "    c3_iris_count += 1"
      ],
      "execution_count": 389,
      "outputs": []
    },
    {
      "cell_type": "code",
      "metadata": {
        "id": "RPiP7IYqGMXl"
      },
      "source": [
        "class1_train = pd.DataFrame(df1_a,columns=['SepalLengthCm','SepalWidthCm','SepalWidthCm','PetalWidthCm','Species','SepalLengthCm_binned'])\n",
        "class2_train = pd.DataFrame(df2_a,columns=['SepalLengthCm','SepalWidthCm','SepalWidthCm','PetalWidthCm','Species','SepalLengthCm_binned'])\n",
        "class3_train = pd.DataFrame(df3_a,columns=['SepalLengthCm','SepalWidthCm','SepalWidthCm','PetalWidthCm','Species','SepalLengthCm_binned'])"
      ],
      "execution_count": 390,
      "outputs": []
    },
    {
      "cell_type": "code",
      "metadata": {
        "id": "SOSmBI9pGPGt"
      },
      "source": [
        "no_of_samples = len(class1_train)+len(class2_train)+len(class3_train)"
      ],
      "execution_count": 391,
      "outputs": []
    },
    {
      "cell_type": "code",
      "metadata": {
        "colab": {
          "base_uri": "https://localhost:8080/"
        },
        "id": "4YKNyIazGRRG",
        "outputId": "25a64e4a-48d2-4cfc-c12f-31a105c6f6be"
      },
      "source": [
        "prob_c1 = len(class1_train)/no_of_samples\n",
        "prob_c1"
      ],
      "execution_count": 392,
      "outputs": [
        {
          "output_type": "execute_result",
          "data": {
            "text/plain": [
              "0.3333333333333333"
            ]
          },
          "metadata": {
            "tags": []
          },
          "execution_count": 392
        }
      ]
    },
    {
      "cell_type": "code",
      "metadata": {
        "colab": {
          "base_uri": "https://localhost:8080/"
        },
        "id": "vq5C67pWGUFK",
        "outputId": "0190e40e-e4da-4fe8-8967-5d4a815f8a74"
      },
      "source": [
        "prob_c2 = len(class2_train)/no_of_samples\n",
        "prob_c2"
      ],
      "execution_count": 393,
      "outputs": [
        {
          "output_type": "execute_result",
          "data": {
            "text/plain": [
              "0.3333333333333333"
            ]
          },
          "metadata": {
            "tags": []
          },
          "execution_count": 393
        }
      ]
    },
    {
      "cell_type": "code",
      "metadata": {
        "colab": {
          "base_uri": "https://localhost:8080/"
        },
        "id": "WVpaCHL7GVAO",
        "outputId": "ce3907e8-cb99-4712-bc87-02d2b436b92e"
      },
      "source": [
        "prob_c3 = len(class3_train)/no_of_samples\n",
        "prob_c3"
      ],
      "execution_count": 394,
      "outputs": [
        {
          "output_type": "execute_result",
          "data": {
            "text/plain": [
              "0.3333333333333333"
            ]
          },
          "metadata": {
            "tags": []
          },
          "execution_count": 394
        }
      ]
    },
    {
      "cell_type": "code",
      "metadata": {
        "colab": {
          "base_uri": "https://localhost:8080/"
        },
        "id": "dFBUshvXOwHM",
        "outputId": "5da05177-a14d-4ae7-d6d8-e6e18228c58d"
      },
      "source": [
        "from collections import Counter\n",
        "x = class1_train['SepalLengthCm_binned']\n",
        "print(x)\n",
        "unique_c1 = Counter(x).keys() \n",
        "count_unique_c1 = list(Counter(x).values()) \n",
        "x = class2_train['SepalLengthCm_binned']\n",
        "unique_c2 = Counter(x).keys() \n",
        "count_unique_c2 = list(Counter(x).values()) \n",
        "x = class3_train['SepalLengthCm_binned']\n",
        "unique_c3 = Counter(x).keys() \n",
        "count_unique_c3 = list(Counter(x).values()) "
      ],
      "execution_count": 395,
      "outputs": [
        {
          "output_type": "stream",
          "text": [
            "0     (5, 6]\n",
            "1     (4, 5]\n",
            "2     (4, 5]\n",
            "3     (4, 5]\n",
            "4     (4, 5]\n",
            "5     (5, 6]\n",
            "6     (4, 5]\n",
            "7     (4, 5]\n",
            "8     (4, 5]\n",
            "9     (4, 5]\n",
            "10    (5, 6]\n",
            "11    (4, 5]\n",
            "12    (4, 5]\n",
            "13    (4, 5]\n",
            "14    (5, 6]\n",
            "15    (5, 6]\n",
            "16    (5, 6]\n",
            "17    (5, 6]\n",
            "18    (5, 6]\n",
            "19    (5, 6]\n",
            "20    (5, 6]\n",
            "21    (5, 6]\n",
            "22    (4, 5]\n",
            "23    (5, 6]\n",
            "24    (4, 5]\n",
            "25    (4, 5]\n",
            "26    (4, 5]\n",
            "27    (5, 6]\n",
            "28    (5, 6]\n",
            "29    (4, 5]\n",
            "30    (4, 5]\n",
            "31    (5, 6]\n",
            "32    (5, 6]\n",
            "33    (5, 6]\n",
            "34    (4, 5]\n",
            "35    (4, 5]\n",
            "36    (5, 6]\n",
            "37    (4, 5]\n",
            "38    (4, 5]\n",
            "39    (5, 6]\n",
            "40    (4, 5]\n",
            "41    (4, 5]\n",
            "42    (4, 5]\n",
            "43    (4, 5]\n",
            "44    (5, 6]\n",
            "45    (4, 5]\n",
            "46    (5, 6]\n",
            "47    (4, 5]\n",
            "48    (5, 6]\n",
            "49    (4, 5]\n",
            "Name: SepalLengthCm_binned, dtype: interval\n"
          ],
          "name": "stdout"
        }
      ]
    },
    {
      "cell_type": "code",
      "metadata": {
        "colab": {
          "base_uri": "https://localhost:8080/",
          "height": 592
        },
        "id": "oQPFP5zHGYB2",
        "outputId": "368f915e-1d96-48f0-ba35-01af71aa833a"
      },
      "source": [
        "f = plt.figure()\n",
        "f.set_figwidth(10)\n",
        "f.set_figheight(10)\n",
        "x1 = class1_train\n",
        "x2 = class2_train\n",
        "x3 = class3_train\n",
        "x1.drop([\"SepalLengthCm_binned\"], axis=1, inplace=True)\n",
        "x2.drop([\"SepalLengthCm_binned\"], axis=1, inplace=True)\n",
        "x3.drop([\"SepalLengthCm_binned\"], axis=1, inplace=True)\n",
        "sns.distplot(x1,label='C1')\n",
        "sns.distplot(x2,label='C2')\n",
        "sns.distplot(x3,label=\"C3\")\n",
        "plt.show()"
      ],
      "execution_count": 396,
      "outputs": [
        {
          "output_type": "display_data",
          "data": {
            "image/png": "[encoded data removed]",
            "text/plain": [
              "<Figure size 720x720 with 1 Axes>"
            ]
          },
          "metadata": {
            "tags": [],
            "needs_background": "light"
          }
        }
      ]
    },
    {
      "cell_type": "code",
      "metadata": {
        "colab": {
          "base_uri": "https://localhost:8080/",
          "height": 311
        },
        "id": "StddcMmnGsf0",
        "outputId": "3eb35a23-cb1e-46a7-9be9-50ce2adfdc63"
      },
      "source": [
        "y1 = np.array(count_unique_c1)/len(class1_train)\n",
        "sns.pointplot(list(unique_c1),y1, linestyles=\"--\",markers =['x'] )\n",
        "y2 = np.array(count_unique_c2)/len(class2_train)\n",
        "sns.pointplot(list(unique_c2),y2,linestyles='-',markers=['o'])\n",
        "y3 = np.array(count_unique_c3)/len(class3_train)\n",
        "sns.pointplot(list(unique_c3),y3,linestyles='-',markers=['+'])\n",
        "plt.xlabel(\"Class\")\n",
        "plt.ylabel(\"P(x|c)\")\n",
        "plt.xticks(rotation=33)\n",
        "plt.figure(figsize=(25,25))\n",
        "plt.show()"
      ],
      "execution_count": 397,
      "outputs": [
        {
          "output_type": "display_data",
          "data": {
            "image/png": "[encoded data removed]",
            "text/plain": [
              "<Figure size 432x288 with 1 Axes>"
            ]
          },
          "metadata": {
            "tags": [],
            "needs_background": "light"
          }
        },
        {
          "output_type": "display_data",
          "data": {
            "text/plain": [
              "<Figure size 1800x1800 with 0 Axes>"
            ]
          },
          "metadata": {
            "tags": []
          }
        }
      ]
    },
    {
      "cell_type": "code",
      "metadata": {
        "colab": {
          "base_uri": "https://localhost:8080/"
        },
        "id": "BVx_kqWpGvO3",
        "outputId": "ec4f1884-7966-41e7-f337-1bb071ae9168"
      },
      "source": [
        "\n",
        "count_x = Counter(iris['SepalLengthCm_binned'])\n",
        "print(count_x)\n",
        "Post_c1_cnt = np.array(y1)*prob_c1\n",
        "Post_c2_cnt = np.array(y2)*prob_c2\n",
        "Post_c3_cnt = np.array(y3)*prob_c3\n",
        "list_unique_c1 = list(unique_c1)\n",
        "list_unique_c2 = list(unique_c2)\n",
        "list_unique_c3 = list(unique_c3)\n",
        "for i in range(0,len(unique_c1)):\n",
        "  Post_c1_cnt[i] = Post_c1_cnt[i]/(count_x[list_unique_c1[i]]/len(iris))\n",
        "for i in range(0,len(unique_c2)):\n",
        "  Post_c2_cnt[i] = Post_c2_cnt[i]/(count_x[list_unique_c2[i]]/len(iris))\n",
        "for i in range(0,len(unique_c3)):\n",
        "  Post_c3_cnt[i] = Post_c3_cnt[i]/(count_x[list_unique_c3[i]]/len(iris))\n",
        "print(Post_c1_cnt)\n",
        "print(Post_c2_cnt)"
      ],
      "execution_count": 398,
      "outputs": [
        {
          "output_type": "stream",
          "text": [
            "Counter({Interval(5, 6, closed='right'): 57, Interval(6, 7, closed='right'): 49, Interval(4, 5, closed='right'): 32, Interval(7, 8, closed='right'): 12})\n",
            "[0.38596491 0.875     ]\n",
            "[0.40816327 0.47368421 0.09375   ]\n"
          ],
          "name": "stdout"
        }
      ]
    },
    {
      "cell_type": "code",
      "metadata": {
        "colab": {
          "base_uri": "https://localhost:8080/",
          "height": 297
        },
        "id": "cVS8kh99GwPh",
        "outputId": "05922811-cf17-4536-b069-d70562984c89"
      },
      "source": [
        "l1 = np.array(list_unique_c1,dtype='S')\n",
        "l2 = np.array(list_unique_c2,dtype='S')\n",
        "l3 = np.array(list_unique_c3,dtype='S')\n",
        "g1 = sns.scatterplot(x=l1,y=Post_c1_cnt,label='class1')\n",
        "g1 = sns.scatterplot(x=l2,y=Post_c2_cnt,label='class2')\n",
        "g1 = sns.scatterplot(x=l3,y=Post_c3_cnt,label='class3')\n",
        "g1.set(xlabel=\"Interval\",ylabel=\"P(w/x)\")"
      ],
      "execution_count": 400,
      "outputs": [
        {
          "output_type": "execute_result",
          "data": {
            "text/plain": [
              "[Text(0, 0.5, 'P(w/x)'), Text(0.5, 0, 'Interval')]"
            ]
          },
          "metadata": {
            "tags": []
          },
          "execution_count": 400
        },
        {
          "output_type": "display_data",
          "data": {
            "image/png": "[encoded data removed]",
            "text/plain": [
              "<Figure size 432x288 with 1 Axes>"
            ]
          },
          "metadata": {
            "tags": [],
            "needs_background": "light"
          }
        }
      ]
    }
  ]
}