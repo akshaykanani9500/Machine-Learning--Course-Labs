{
  "nbformat": 4,
  "nbformat_minor": 0,
  "metadata": {
    "colab": {
      "name": "B19EE008_Lab_6.ipynb",
      "provenance": [],
      "collapsed_sections": []
    },
    "kernelspec": {
      "name": "python3",
      "display_name": "Python 3"
    },
    "language_info": {
      "name": "python"
    }
  },
  "cells": [
    {
      "cell_type": "code",
      "metadata": {
        "id": "Jr2whhfdcfyd"
      },
      "source": [
        "import pandas  as pd #Data manipulation\n",
        "import numpy as np #Data manipulation\n",
        "import matplotlib.pyplot as plt # Visualization\n",
        "import seaborn as sns #Visualization\n",
        "plt.rcParams['figure.figsize'] = [8,5]\n",
        "plt.rcParams['font.size'] =14\n",
        "plt.rcParams['font.weight']= 'bold'\n",
        "plt.style.use('seaborn-whitegrid')"
      ],
      "execution_count": 471,
      "outputs": []
    },
    {
      "cell_type": "code",
      "metadata": {
        "id": "33XN2m1-covv",
        "colab": {
          "base_uri": "https://localhost:8080/"
        },
        "outputId": "e9bbf13d-1929-4b58-9753-dec41f04cb04"
      },
      "source": [
        "# Import dataset\n",
        "# path ='dataset/'\n",
        "path = '/content/'\n",
        "df = pd.read_csv(path+'insurance.csv')\n",
        "print('\\nNumber of rows and columns in the data set: ',df.shape)"
      ],
      "execution_count": 472,
      "outputs": [
        {
          "output_type": "stream",
          "text": [
            "\n",
            "Number of rows and columns in the data set:  (1338, 7)\n"
          ],
          "name": "stdout"
        }
      ]
    },
    {
      "cell_type": "code",
      "metadata": {
        "colab": {
          "base_uri": "https://localhost:8080/",
          "height": 194
        },
        "id": "k0WSvOljQ91y",
        "outputId": "cf6b0050-2ca4-40ae-f60e-4ed5589617c1"
      },
      "source": [
        "df.head()"
      ],
      "execution_count": 473,
      "outputs": [
        {
          "output_type": "execute_result",
          "data": {
            "text/html": [
              "<div>\n",
              "<style scoped>\n",
              "    .dataframe tbody tr th:only-of-type {\n",
              "        vertical-align: middle;\n",
              "    }\n",
              "\n",
              "    .dataframe tbody tr th {\n",
              "        vertical-align: top;\n",
              "    }\n",
              "\n",
              "    .dataframe thead th {\n",
              "        text-align: right;\n",
              "    }\n",
              "</style>\n",
              "<table border=\"1\" class=\"dataframe\">\n",
              "  <thead>\n",
              "    <tr style=\"text-align: right;\">\n",
              "      <th></th>\n",
              "      <th>age</th>\n",
              "      <th>sex</th>\n",
              "      <th>bmi</th>\n",
              "      <th>children</th>\n",
              "      <th>smoker</th>\n",
              "      <th>region</th>\n",
              "      <th>charges</th>\n",
              "    </tr>\n",
              "  </thead>\n",
              "  <tbody>\n",
              "    <tr>\n",
              "      <th>0</th>\n",
              "      <td>19</td>\n",
              "      <td>female</td>\n",
              "      <td>27.900</td>\n",
              "      <td>0</td>\n",
              "      <td>yes</td>\n",
              "      <td>southwest</td>\n",
              "      <td>16884.92400</td>\n",
              "    </tr>\n",
              "    <tr>\n",
              "      <th>1</th>\n",
              "      <td>18</td>\n",
              "      <td>male</td>\n",
              "      <td>33.770</td>\n",
              "      <td>1</td>\n",
              "      <td>no</td>\n",
              "      <td>southeast</td>\n",
              "      <td>1725.55230</td>\n",
              "    </tr>\n",
              "    <tr>\n",
              "      <th>2</th>\n",
              "      <td>28</td>\n",
              "      <td>male</td>\n",
              "      <td>33.000</td>\n",
              "      <td>3</td>\n",
              "      <td>no</td>\n",
              "      <td>southeast</td>\n",
              "      <td>4449.46200</td>\n",
              "    </tr>\n",
              "    <tr>\n",
              "      <th>3</th>\n",
              "      <td>33</td>\n",
              "      <td>male</td>\n",
              "      <td>22.705</td>\n",
              "      <td>0</td>\n",
              "      <td>no</td>\n",
              "      <td>northwest</td>\n",
              "      <td>21984.47061</td>\n",
              "    </tr>\n",
              "    <tr>\n",
              "      <th>4</th>\n",
              "      <td>32</td>\n",
              "      <td>male</td>\n",
              "      <td>28.880</td>\n",
              "      <td>0</td>\n",
              "      <td>no</td>\n",
              "      <td>northwest</td>\n",
              "      <td>3866.85520</td>\n",
              "    </tr>\n",
              "  </tbody>\n",
              "</table>\n",
              "</div>"
            ],
            "text/plain": [
              "   age     sex     bmi  children smoker     region      charges\n",
              "0   19  female  27.900         0    yes  southwest  16884.92400\n",
              "1   18    male  33.770         1     no  southeast   1725.55230\n",
              "2   28    male  33.000         3     no  southeast   4449.46200\n",
              "3   33    male  22.705         0     no  northwest  21984.47061\n",
              "4   32    male  28.880         0     no  northwest   3866.85520"
            ]
          },
          "metadata": {
            "tags": []
          },
          "execution_count": 473
        }
      ]
    },
    {
      "cell_type": "code",
      "metadata": {
        "id": "r4i6UT1bcvR2",
        "colab": {
          "base_uri": "https://localhost:8080/",
          "height": 282
        },
        "outputId": "5931cd71-3c83-4517-ea06-3ed86df85800"
      },
      "source": [
        "# desribe the dataset (Exploratory data analysis) \n",
        "df.describe()"
      ],
      "execution_count": 474,
      "outputs": [
        {
          "output_type": "execute_result",
          "data": {
            "text/html": [
              "<div>\n",
              "<style scoped>\n",
              "    .dataframe tbody tr th:only-of-type {\n",
              "        vertical-align: middle;\n",
              "    }\n",
              "\n",
              "    .dataframe tbody tr th {\n",
              "        vertical-align: top;\n",
              "    }\n",
              "\n",
              "    .dataframe thead th {\n",
              "        text-align: right;\n",
              "    }\n",
              "</style>\n",
              "<table border=\"1\" class=\"dataframe\">\n",
              "  <thead>\n",
              "    <tr style=\"text-align: right;\">\n",
              "      <th></th>\n",
              "      <th>age</th>\n",
              "      <th>bmi</th>\n",
              "      <th>children</th>\n",
              "      <th>charges</th>\n",
              "    </tr>\n",
              "  </thead>\n",
              "  <tbody>\n",
              "    <tr>\n",
              "      <th>count</th>\n",
              "      <td>1338.000000</td>\n",
              "      <td>1338.000000</td>\n",
              "      <td>1338.000000</td>\n",
              "      <td>1338.000000</td>\n",
              "    </tr>\n",
              "    <tr>\n",
              "      <th>mean</th>\n",
              "      <td>39.207025</td>\n",
              "      <td>30.663397</td>\n",
              "      <td>1.094918</td>\n",
              "      <td>13270.422265</td>\n",
              "    </tr>\n",
              "    <tr>\n",
              "      <th>std</th>\n",
              "      <td>14.049960</td>\n",
              "      <td>6.098187</td>\n",
              "      <td>1.205493</td>\n",
              "      <td>12110.011237</td>\n",
              "    </tr>\n",
              "    <tr>\n",
              "      <th>min</th>\n",
              "      <td>18.000000</td>\n",
              "      <td>15.960000</td>\n",
              "      <td>0.000000</td>\n",
              "      <td>1121.873900</td>\n",
              "    </tr>\n",
              "    <tr>\n",
              "      <th>25%</th>\n",
              "      <td>27.000000</td>\n",
              "      <td>26.296250</td>\n",
              "      <td>0.000000</td>\n",
              "      <td>4740.287150</td>\n",
              "    </tr>\n",
              "    <tr>\n",
              "      <th>50%</th>\n",
              "      <td>39.000000</td>\n",
              "      <td>30.400000</td>\n",
              "      <td>1.000000</td>\n",
              "      <td>9382.033000</td>\n",
              "    </tr>\n",
              "    <tr>\n",
              "      <th>75%</th>\n",
              "      <td>51.000000</td>\n",
              "      <td>34.693750</td>\n",
              "      <td>2.000000</td>\n",
              "      <td>16639.912515</td>\n",
              "    </tr>\n",
              "    <tr>\n",
              "      <th>max</th>\n",
              "      <td>64.000000</td>\n",
              "      <td>53.130000</td>\n",
              "      <td>5.000000</td>\n",
              "      <td>63770.428010</td>\n",
              "    </tr>\n",
              "  </tbody>\n",
              "</table>\n",
              "</div>"
            ],
            "text/plain": [
              "               age          bmi     children       charges\n",
              "count  1338.000000  1338.000000  1338.000000   1338.000000\n",
              "mean     39.207025    30.663397     1.094918  13270.422265\n",
              "std      14.049960     6.098187     1.205493  12110.011237\n",
              "min      18.000000    15.960000     0.000000   1121.873900\n",
              "25%      27.000000    26.296250     0.000000   4740.287150\n",
              "50%      39.000000    30.400000     1.000000   9382.033000\n",
              "75%      51.000000    34.693750     2.000000  16639.912515\n",
              "max      64.000000    53.130000     5.000000  63770.428010"
            ]
          },
          "metadata": {
            "tags": []
          },
          "execution_count": 474
        }
      ]
    },
    {
      "cell_type": "code",
      "metadata": {
        "colab": {
          "base_uri": "https://localhost:8080/"
        },
        "id": "FrQqDT5kr4PV",
        "outputId": "32869f3e-2643-4c38-9827-772fceb92b8d"
      },
      "source": [
        "df.info()"
      ],
      "execution_count": 475,
      "outputs": [
        {
          "output_type": "stream",
          "text": [
            "<class 'pandas.core.frame.DataFrame'>\n",
            "RangeIndex: 1338 entries, 0 to 1337\n",
            "Data columns (total 7 columns):\n",
            " #   Column    Non-Null Count  Dtype  \n",
            "---  ------    --------------  -----  \n",
            " 0   age       1338 non-null   int64  \n",
            " 1   sex       1338 non-null   object \n",
            " 2   bmi       1338 non-null   float64\n",
            " 3   children  1338 non-null   int64  \n",
            " 4   smoker    1338 non-null   object \n",
            " 5   region    1338 non-null   object \n",
            " 6   charges   1338 non-null   float64\n",
            "dtypes: float64(2), int64(2), object(3)\n",
            "memory usage: 73.3+ KB\n"
          ],
          "name": "stdout"
        }
      ]
    },
    {
      "cell_type": "code",
      "metadata": {
        "id": "sEHP1yM9c6Xq",
        "colab": {
          "base_uri": "https://localhost:8080/",
          "height": 338
        },
        "outputId": "f3149fa2-559f-43f0-b987-5eaa7d6bec02"
      },
      "source": [
        "#Check for missing value\n",
        "plt.figure(figsize=(15,5))\n",
        "sns.heatmap(df.isnull(),cbar=False,cmap='viridis',yticklabels=False)\n",
        "plt.title('Missing data value in the data');"
      ],
      "execution_count": 476,
      "outputs": [
        {
          "output_type": "display_data",
          "data": {
            "image/png": "[encoded data removed]",
            "text/plain": [
              "<Figure size 1080x360 with 1 Axes>"
            ]
          },
          "metadata": {
            "tags": []
          }
        }
      ]
    },
    {
      "cell_type": "code",
      "metadata": {
        "colab": {
          "base_uri": "https://localhost:8080/",
          "height": 164
        },
        "id": "IsExUg5GsPtJ",
        "outputId": "9a7aea3b-7fb2-45d4-e6ff-6c4c4cc6073b"
      },
      "source": [
        "# To find the correlation among the columns\n",
        "corr_p = df.corr(method ='pearson') #'pearson’, ‘kendall’, ‘spearman'\n",
        "corr_p"
      ],
      "execution_count": 477,
      "outputs": [
        {
          "output_type": "execute_result",
          "data": {
            "text/html": [
              "<div>\n",
              "<style scoped>\n",
              "    .dataframe tbody tr th:only-of-type {\n",
              "        vertical-align: middle;\n",
              "    }\n",
              "\n",
              "    .dataframe tbody tr th {\n",
              "        vertical-align: top;\n",
              "    }\n",
              "\n",
              "    .dataframe thead th {\n",
              "        text-align: right;\n",
              "    }\n",
              "</style>\n",
              "<table border=\"1\" class=\"dataframe\">\n",
              "  <thead>\n",
              "    <tr style=\"text-align: right;\">\n",
              "      <th></th>\n",
              "      <th>age</th>\n",
              "      <th>bmi</th>\n",
              "      <th>children</th>\n",
              "      <th>charges</th>\n",
              "    </tr>\n",
              "  </thead>\n",
              "  <tbody>\n",
              "    <tr>\n",
              "      <th>age</th>\n",
              "      <td>1.000000</td>\n",
              "      <td>0.109272</td>\n",
              "      <td>0.042469</td>\n",
              "      <td>0.299008</td>\n",
              "    </tr>\n",
              "    <tr>\n",
              "      <th>bmi</th>\n",
              "      <td>0.109272</td>\n",
              "      <td>1.000000</td>\n",
              "      <td>0.012759</td>\n",
              "      <td>0.198341</td>\n",
              "    </tr>\n",
              "    <tr>\n",
              "      <th>children</th>\n",
              "      <td>0.042469</td>\n",
              "      <td>0.012759</td>\n",
              "      <td>1.000000</td>\n",
              "      <td>0.067998</td>\n",
              "    </tr>\n",
              "    <tr>\n",
              "      <th>charges</th>\n",
              "      <td>0.299008</td>\n",
              "      <td>0.198341</td>\n",
              "      <td>0.067998</td>\n",
              "      <td>1.000000</td>\n",
              "    </tr>\n",
              "  </tbody>\n",
              "</table>\n",
              "</div>"
            ],
            "text/plain": [
              "               age       bmi  children   charges\n",
              "age       1.000000  0.109272  0.042469  0.299008\n",
              "bmi       0.109272  1.000000  0.012759  0.198341\n",
              "children  0.042469  0.012759  1.000000  0.067998\n",
              "charges   0.299008  0.198341  0.067998  1.000000"
            ]
          },
          "metadata": {
            "tags": []
          },
          "execution_count": 477
        }
      ]
    },
    {
      "cell_type": "code",
      "metadata": {
        "id": "ujkBs_gXdCb4",
        "colab": {
          "base_uri": "https://localhost:8080/",
          "height": 326
        },
        "outputId": "616d6499-3488-4a16-8570-af6f5ad38590"
      },
      "source": [
        "# correlation plot\n",
        "sns.heatmap(corr_p, cmap = 'Wistia', annot= True);"
      ],
      "execution_count": 478,
      "outputs": [
        {
          "output_type": "display_data",
          "data": {
            "image/png": "[encoded data removed]",
            "text/plain": [
              "<Figure size 576x360 with 2 Axes>"
            ]
          },
          "metadata": {
            "tags": []
          }
        }
      ]
    },
    {
      "cell_type": "markdown",
      "metadata": {
        "id": "50nANOVa4r3q"
      },
      "source": [
        "from Kendall method\n"
      ]
    },
    {
      "cell_type": "code",
      "metadata": {
        "colab": {
          "base_uri": "https://localhost:8080/",
          "height": 164
        },
        "id": "j35NfBG6saFz",
        "outputId": "7e608573-78c2-43c8-e06d-63a1f7362749"
      },
      "source": [
        "corr_k = df.corr(method ='kendall') #'pearson’, ‘kendall’, ‘spearman'\n",
        "corr_k"
      ],
      "execution_count": 479,
      "outputs": [
        {
          "output_type": "execute_result",
          "data": {
            "text/html": [
              "<div>\n",
              "<style scoped>\n",
              "    .dataframe tbody tr th:only-of-type {\n",
              "        vertical-align: middle;\n",
              "    }\n",
              "\n",
              "    .dataframe tbody tr th {\n",
              "        vertical-align: top;\n",
              "    }\n",
              "\n",
              "    .dataframe thead th {\n",
              "        text-align: right;\n",
              "    }\n",
              "</style>\n",
              "<table border=\"1\" class=\"dataframe\">\n",
              "  <thead>\n",
              "    <tr style=\"text-align: right;\">\n",
              "      <th></th>\n",
              "      <th>age</th>\n",
              "      <th>bmi</th>\n",
              "      <th>children</th>\n",
              "      <th>charges</th>\n",
              "    </tr>\n",
              "  </thead>\n",
              "  <tbody>\n",
              "    <tr>\n",
              "      <th>age</th>\n",
              "      <td>1.000000</td>\n",
              "      <td>0.073273</td>\n",
              "      <td>0.043253</td>\n",
              "      <td>0.475302</td>\n",
              "    </tr>\n",
              "    <tr>\n",
              "      <th>bmi</th>\n",
              "      <td>0.073273</td>\n",
              "      <td>1.000000</td>\n",
              "      <td>0.011562</td>\n",
              "      <td>0.082524</td>\n",
              "    </tr>\n",
              "    <tr>\n",
              "      <th>children</th>\n",
              "      <td>0.043253</td>\n",
              "      <td>0.011562</td>\n",
              "      <td>1.000000</td>\n",
              "      <td>0.103107</td>\n",
              "    </tr>\n",
              "    <tr>\n",
              "      <th>charges</th>\n",
              "      <td>0.475302</td>\n",
              "      <td>0.082524</td>\n",
              "      <td>0.103107</td>\n",
              "      <td>1.000000</td>\n",
              "    </tr>\n",
              "  </tbody>\n",
              "</table>\n",
              "</div>"
            ],
            "text/plain": [
              "               age       bmi  children   charges\n",
              "age       1.000000  0.073273  0.043253  0.475302\n",
              "bmi       0.073273  1.000000  0.011562  0.082524\n",
              "children  0.043253  0.011562  1.000000  0.103107\n",
              "charges   0.475302  0.082524  0.103107  1.000000"
            ]
          },
          "metadata": {
            "tags": []
          },
          "execution_count": 479
        }
      ]
    },
    {
      "cell_type": "code",
      "metadata": {
        "colab": {
          "base_uri": "https://localhost:8080/",
          "height": 326
        },
        "id": "CVHf54143qMl",
        "outputId": "6172b6b1-c495-4edf-ef52-83ad044a6632"
      },
      "source": [
        "# correlation plot for kendall method\n",
        "sns.heatmap(corr_k, cmap = 'Wistia', annot= True);"
      ],
      "execution_count": 480,
      "outputs": [
        {
          "output_type": "display_data",
          "data": {
            "image/png": "[encoded data removed]",
            "text/plain": [
              "<Figure size 576x360 with 2 Axes>"
            ]
          },
          "metadata": {
            "tags": []
          }
        }
      ]
    },
    {
      "cell_type": "code",
      "metadata": {
        "colab": {
          "base_uri": "https://localhost:8080/",
          "height": 452
        },
        "id": "XrDVrGasdGJW",
        "outputId": "73c45175-2d37-4de8-fd41-fc4907645823"
      },
      "source": [
        "f= plt.figure(figsize=(15,5))\n",
        "\n",
        "ax=f.add_subplot(121)\n",
        "sns.distplot(df['charges'],color='g',ax=ax)\n",
        "ax.set_title('Distribution of Insurance charges')\n",
        "ax=f.add_subplot(122)\n",
        "sns.distplot(np.log10(df['charges']),color='y',ax=ax)\n",
        "ax.set_title('Distribution of Insurance charges in log')\n",
        "ax.set_xscale('log');"
      ],
      "execution_count": 481,
      "outputs": [
        {
          "output_type": "stream",
          "text": [
            "/usr/local/lib/python3.7/dist-packages/seaborn/distributions.py:2557: FutureWarning: `distplot` is a deprecated function and will be removed in a future version. Please adapt your code to use either `displot` (a figure-level function with similar flexibility) or `histplot` (an axes-level function for histograms).\n",
            "  warnings.warn(msg, FutureWarning)\n",
            "/usr/local/lib/python3.7/dist-packages/seaborn/distributions.py:2557: FutureWarning: `distplot` is a deprecated function and will be removed in a future version. Please adapt your code to use either `displot` (a figure-level function with similar flexibility) or `histplot` (an axes-level function for histograms).\n",
            "  warnings.warn(msg, FutureWarning)\n"
          ],
          "name": "stderr"
        },
        {
          "output_type": "display_data",
          "data": {
            "image/png": "[encoded data removed]",
            "text/plain": [
              "<Figure size 1080x360 with 2 Axes>"
            ]
          },
          "metadata": {
            "tags": []
          }
        }
      ]
    },
    {
      "cell_type": "markdown",
      "metadata": {
        "id": "lTs39ChfehGj"
      },
      "source": [
        "#Convert categorical data into numbers\n",
        "\n",
        "\n",
        "*   Label Enocding\n",
        "*   One hot Encoding\n",
        "\n",
        "\n",
        "#Lable Encoding\n",
        "Label encoding refers to transforming the word labels into numerical form so that the algorithms can understand how to operate on them.\n",
        "\n",
        "#One hot Encoding\n",
        "A One hot encoding is a representation of categorical variable as binary vectors.It allows the representation of categorical data to be \n",
        "more expresive. This first requires that the categorical values be mapped to integer values, that is label encoding. Then, each integer \n",
        "value is represented as a binary vector that is all zero values except the index of the integer, which is marked with a 1.\n",
        "\n",
        "You may take help of pandas get_dummies function for this. "
      ]
    },
    {
      "cell_type": "markdown",
      "metadata": {
        "id": "ywNN2gxhrn7a"
      },
      "source": [
        "lable encoding "
      ]
    },
    {
      "cell_type": "code",
      "metadata": {
        "id": "t7_WAPnxoiio"
      },
      "source": [
        "df[\"sex\"] = df[\"sex\"].astype('category')\n",
        "df[\"smoker\"] = df[\"smoker\"].astype('category')\n",
        "df[\"region\"] = df[\"region\"].astype('category')\n"
      ],
      "execution_count": 482,
      "outputs": []
    },
    {
      "cell_type": "code",
      "metadata": {
        "colab": {
          "base_uri": "https://localhost:8080/",
          "height": 194
        },
        "id": "4Tb2nrMgoo84",
        "outputId": "5262ece4-2c4d-4fe4-e8dd-135db1dcc687"
      },
      "source": [
        "df[\"sex\"] = df[\"sex\"].cat.codes\n",
        "df[\"smoker\"] = df[\"smoker\"].cat.codes\n",
        "df[\"region\"] = df[\"region\"].cat.codes\n",
        "\n",
        "df.head()"
      ],
      "execution_count": 483,
      "outputs": [
        {
          "output_type": "execute_result",
          "data": {
            "text/html": [
              "<div>\n",
              "<style scoped>\n",
              "    .dataframe tbody tr th:only-of-type {\n",
              "        vertical-align: middle;\n",
              "    }\n",
              "\n",
              "    .dataframe tbody tr th {\n",
              "        vertical-align: top;\n",
              "    }\n",
              "\n",
              "    .dataframe thead th {\n",
              "        text-align: right;\n",
              "    }\n",
              "</style>\n",
              "<table border=\"1\" class=\"dataframe\">\n",
              "  <thead>\n",
              "    <tr style=\"text-align: right;\">\n",
              "      <th></th>\n",
              "      <th>age</th>\n",
              "      <th>sex</th>\n",
              "      <th>bmi</th>\n",
              "      <th>children</th>\n",
              "      <th>smoker</th>\n",
              "      <th>region</th>\n",
              "      <th>charges</th>\n",
              "    </tr>\n",
              "  </thead>\n",
              "  <tbody>\n",
              "    <tr>\n",
              "      <th>0</th>\n",
              "      <td>19</td>\n",
              "      <td>0</td>\n",
              "      <td>27.900</td>\n",
              "      <td>0</td>\n",
              "      <td>1</td>\n",
              "      <td>3</td>\n",
              "      <td>16884.92400</td>\n",
              "    </tr>\n",
              "    <tr>\n",
              "      <th>1</th>\n",
              "      <td>18</td>\n",
              "      <td>1</td>\n",
              "      <td>33.770</td>\n",
              "      <td>1</td>\n",
              "      <td>0</td>\n",
              "      <td>2</td>\n",
              "      <td>1725.55230</td>\n",
              "    </tr>\n",
              "    <tr>\n",
              "      <th>2</th>\n",
              "      <td>28</td>\n",
              "      <td>1</td>\n",
              "      <td>33.000</td>\n",
              "      <td>3</td>\n",
              "      <td>0</td>\n",
              "      <td>2</td>\n",
              "      <td>4449.46200</td>\n",
              "    </tr>\n",
              "    <tr>\n",
              "      <th>3</th>\n",
              "      <td>33</td>\n",
              "      <td>1</td>\n",
              "      <td>22.705</td>\n",
              "      <td>0</td>\n",
              "      <td>0</td>\n",
              "      <td>1</td>\n",
              "      <td>21984.47061</td>\n",
              "    </tr>\n",
              "    <tr>\n",
              "      <th>4</th>\n",
              "      <td>32</td>\n",
              "      <td>1</td>\n",
              "      <td>28.880</td>\n",
              "      <td>0</td>\n",
              "      <td>0</td>\n",
              "      <td>1</td>\n",
              "      <td>3866.85520</td>\n",
              "    </tr>\n",
              "  </tbody>\n",
              "</table>\n",
              "</div>"
            ],
            "text/plain": [
              "   age  sex     bmi  children  smoker  region      charges\n",
              "0   19    0  27.900         0       1       3  16884.92400\n",
              "1   18    1  33.770         1       0       2   1725.55230\n",
              "2   28    1  33.000         3       0       2   4449.46200\n",
              "3   33    1  22.705         0       0       1  21984.47061\n",
              "4   32    1  28.880         0       0       1   3866.85520"
            ]
          },
          "metadata": {
            "tags": []
          },
          "execution_count": 483
        }
      ]
    },
    {
      "cell_type": "code",
      "metadata": {
        "id": "v3oZy7QGe6G_"
      },
      "source": [
        "# Log transform of dependent variable\n",
        "df['charges'] = np.log(df['charges'])"
      ],
      "execution_count": 484,
      "outputs": []
    },
    {
      "cell_type": "code",
      "metadata": {
        "id": "inaAwUhWhIrX"
      },
      "source": [
        "#Train Test split\n",
        "from sklearn.model_selection import train_test_split\n",
        "X = df.drop('charges',axis=1)\n",
        "y = df['charges'] \n",
        "\n",
        "X_train, X_test, y_train, y_test = train_test_split(X,y,test_size=0.3,random_state=35)"
      ],
      "execution_count": 485,
      "outputs": []
    },
    {
      "cell_type": "markdown",
      "metadata": {
        "id": "DDDSKwyShSHB"
      },
      "source": [
        "#Model building"
      ]
    },
    {
      "cell_type": "code",
      "metadata": {
        "id": "XP2h4IYdhTZn",
        "colab": {
          "base_uri": "https://localhost:8080/",
          "height": 252
        },
        "outputId": "71495ede-bec7-4671-c72d-4d49d406739e"
      },
      "source": [
        "# Step 1: add x0 =1 to dataset\n",
        "X_train_theta = np.c_[np.ones((X_train.shape[0],1)),X_train]\n",
        "X_test_theta = np.c_[np.ones((X_test.shape[0],1)),X_test]\n",
        "# Step2: build model\n",
        "theta = np.matmul(np.linalg.inv( np.matmul(X_train_theta.T,X_train_theta) ), np.matmul(X_train_theta.T,y_train)) \n",
        "# The parameters for linear regression model\n",
        "all_theta = []\n",
        "for i in range(X_train_theta.shape[1]):\n",
        "  all_theta.append('theta-'+str(i))\n",
        "feachers = ['intersect:x_0=1'] + list(X.columns.values)\n",
        "df_feachers = pd.DataFrame({'All_thetas':all_theta,'feachers':feachers,'theta':theta})\n",
        "df_feachers"
      ],
      "execution_count": 486,
      "outputs": [
        {
          "output_type": "execute_result",
          "data": {
            "text/html": [
              "<div>\n",
              "<style scoped>\n",
              "    .dataframe tbody tr th:only-of-type {\n",
              "        vertical-align: middle;\n",
              "    }\n",
              "\n",
              "    .dataframe tbody tr th {\n",
              "        vertical-align: top;\n",
              "    }\n",
              "\n",
              "    .dataframe thead th {\n",
              "        text-align: right;\n",
              "    }\n",
              "</style>\n",
              "<table border=\"1\" class=\"dataframe\">\n",
              "  <thead>\n",
              "    <tr style=\"text-align: right;\">\n",
              "      <th></th>\n",
              "      <th>All_thetas</th>\n",
              "      <th>feachers</th>\n",
              "      <th>theta</th>\n",
              "    </tr>\n",
              "  </thead>\n",
              "  <tbody>\n",
              "    <tr>\n",
              "      <th>0</th>\n",
              "      <td>theta-0</td>\n",
              "      <td>intersect:x_0=1</td>\n",
              "      <td>7.057936</td>\n",
              "    </tr>\n",
              "    <tr>\n",
              "      <th>1</th>\n",
              "      <td>theta-1</td>\n",
              "      <td>age</td>\n",
              "      <td>0.034390</td>\n",
              "    </tr>\n",
              "    <tr>\n",
              "      <th>2</th>\n",
              "      <td>theta-2</td>\n",
              "      <td>sex</td>\n",
              "      <td>-0.087236</td>\n",
              "    </tr>\n",
              "    <tr>\n",
              "      <th>3</th>\n",
              "      <td>theta-3</td>\n",
              "      <td>bmi</td>\n",
              "      <td>0.011996</td>\n",
              "    </tr>\n",
              "    <tr>\n",
              "      <th>4</th>\n",
              "      <td>theta-4</td>\n",
              "      <td>children</td>\n",
              "      <td>0.108142</td>\n",
              "    </tr>\n",
              "    <tr>\n",
              "      <th>5</th>\n",
              "      <td>theta-5</td>\n",
              "      <td>smoker</td>\n",
              "      <td>1.551346</td>\n",
              "    </tr>\n",
              "    <tr>\n",
              "      <th>6</th>\n",
              "      <td>theta-6</td>\n",
              "      <td>region</td>\n",
              "      <td>-0.047787</td>\n",
              "    </tr>\n",
              "  </tbody>\n",
              "</table>\n",
              "</div>"
            ],
            "text/plain": [
              "  All_thetas         feachers     theta\n",
              "0    theta-0  intersect:x_0=1  7.057936\n",
              "1    theta-1              age  0.034390\n",
              "2    theta-2              sex -0.087236\n",
              "3    theta-3              bmi  0.011996\n",
              "4    theta-4         children  0.108142\n",
              "5    theta-5           smoker  1.551346\n",
              "6    theta-6           region -0.047787"
            ]
          },
          "metadata": {
            "tags": []
          },
          "execution_count": 486
        }
      ]
    },
    {
      "cell_type": "code",
      "metadata": {
        "id": "LpcoN-RRha2l",
        "colab": {
          "base_uri": "https://localhost:8080/",
          "height": 252
        },
        "outputId": "35bf51ae-4e49-4b55-f4e0-d9fa509f6244"
      },
      "source": [
        "# Scikit Learn module\n",
        "from sklearn.linear_model import LinearRegression\n",
        "lr = LinearRegression()\n",
        "lr.fit(X_train,y_train)\n",
        "\n",
        "#Parameter\n",
        "sk_theta = [lr.intercept_]+list(lr.coef_)\n",
        "df_feachers = df_feachers.join(pd.Series(sk_theta, name='sk_theta'))\n",
        "df_feachers\n"
      ],
      "execution_count": 487,
      "outputs": [
        {
          "output_type": "execute_result",
          "data": {
            "text/html": [
              "<div>\n",
              "<style scoped>\n",
              "    .dataframe tbody tr th:only-of-type {\n",
              "        vertical-align: middle;\n",
              "    }\n",
              "\n",
              "    .dataframe tbody tr th {\n",
              "        vertical-align: top;\n",
              "    }\n",
              "\n",
              "    .dataframe thead th {\n",
              "        text-align: right;\n",
              "    }\n",
              "</style>\n",
              "<table border=\"1\" class=\"dataframe\">\n",
              "  <thead>\n",
              "    <tr style=\"text-align: right;\">\n",
              "      <th></th>\n",
              "      <th>All_thetas</th>\n",
              "      <th>feachers</th>\n",
              "      <th>theta</th>\n",
              "      <th>sk_theta</th>\n",
              "    </tr>\n",
              "  </thead>\n",
              "  <tbody>\n",
              "    <tr>\n",
              "      <th>0</th>\n",
              "      <td>theta-0</td>\n",
              "      <td>intersect:x_0=1</td>\n",
              "      <td>7.057936</td>\n",
              "      <td>7.057936</td>\n",
              "    </tr>\n",
              "    <tr>\n",
              "      <th>1</th>\n",
              "      <td>theta-1</td>\n",
              "      <td>age</td>\n",
              "      <td>0.034390</td>\n",
              "      <td>0.034390</td>\n",
              "    </tr>\n",
              "    <tr>\n",
              "      <th>2</th>\n",
              "      <td>theta-2</td>\n",
              "      <td>sex</td>\n",
              "      <td>-0.087236</td>\n",
              "      <td>-0.087236</td>\n",
              "    </tr>\n",
              "    <tr>\n",
              "      <th>3</th>\n",
              "      <td>theta-3</td>\n",
              "      <td>bmi</td>\n",
              "      <td>0.011996</td>\n",
              "      <td>0.011996</td>\n",
              "    </tr>\n",
              "    <tr>\n",
              "      <th>4</th>\n",
              "      <td>theta-4</td>\n",
              "      <td>children</td>\n",
              "      <td>0.108142</td>\n",
              "      <td>0.108142</td>\n",
              "    </tr>\n",
              "    <tr>\n",
              "      <th>5</th>\n",
              "      <td>theta-5</td>\n",
              "      <td>smoker</td>\n",
              "      <td>1.551346</td>\n",
              "      <td>1.551346</td>\n",
              "    </tr>\n",
              "    <tr>\n",
              "      <th>6</th>\n",
              "      <td>theta-6</td>\n",
              "      <td>region</td>\n",
              "      <td>-0.047787</td>\n",
              "      <td>-0.047787</td>\n",
              "    </tr>\n",
              "  </tbody>\n",
              "</table>\n",
              "</div>"
            ],
            "text/plain": [
              "  All_thetas         feachers     theta  sk_theta\n",
              "0    theta-0  intersect:x_0=1  7.057936  7.057936\n",
              "1    theta-1              age  0.034390  0.034390\n",
              "2    theta-2              sex -0.087236 -0.087236\n",
              "3    theta-3              bmi  0.011996  0.011996\n",
              "4    theta-4         children  0.108142  0.108142\n",
              "5    theta-5           smoker  1.551346  1.551346\n",
              "6    theta-6           region -0.047787 -0.047787"
            ]
          },
          "metadata": {
            "tags": []
          },
          "execution_count": 487
        }
      ]
    },
    {
      "cell_type": "markdown",
      "metadata": {
        "id": "dBMAQ_Pjhr-f"
      },
      "source": [
        "#Model evaluation"
      ]
    },
    {
      "cell_type": "code",
      "metadata": {
        "id": "N5uc1Oj4h4dr"
      },
      "source": [
        "# prediction\n",
        "y_pred =  np.matmul(X_test_theta,theta) \n",
        "\n",
        "#Evaluvation: MSE (Write your MSE equation from scratch)\n",
        "J_mse = np.sum((y_pred - y_test)**2)/ (X_test_theta.shape[0])"
      ],
      "execution_count": 488,
      "outputs": []
    },
    {
      "cell_type": "code",
      "metadata": {
        "colab": {
          "base_uri": "https://localhost:8080/"
        },
        "id": "cjTXi6Skshvl",
        "outputId": "be954871-bdce-4982-c68e-c31ce99f9d48"
      },
      "source": [
        "y_pred"
      ],
      "execution_count": 493,
      "outputs": [
        {
          "output_type": "execute_result",
          "data": {
            "text/plain": [
              "array([ 8.94475364, 10.93948545,  9.07386417,  8.47539114,  8.74547324,\n",
              "        9.57074278,  9.36186953,  8.27881449,  8.55089703,  9.16963447,\n",
              "        9.83657064,  9.01828823,  9.24362257,  9.04907803,  9.248443  ,\n",
              "       10.10282615,  9.62126293,  8.02680987,  9.36100817,  9.39094375,\n",
              "        9.01486293,  8.63204278,  8.98589041,  9.52016114,  8.72232384,\n",
              "       10.24665347,  9.91741398,  9.98213078,  8.84530351, 10.27730738,\n",
              "        8.11966958,  8.05667601,  9.05683797,  9.27695383,  9.59630468,\n",
              "        9.18052771,  9.97570144,  9.22751379, 10.80351737,  8.40825465,\n",
              "        9.19904378,  8.98179134,  8.45043585,  8.43525173,  9.49283646,\n",
              "       10.96637175, 11.2381535 ,  9.73913245,  9.36187366,  9.76941641,\n",
              "        9.75186492,  8.11255678,  8.65512676,  9.20752497,  8.32974079,\n",
              "        7.83077293,  8.186985  ,  9.9096339 ,  9.30701784,  8.65154362,\n",
              "        9.22942543,  9.52168897,  8.08085109,  8.75972343,  9.78439621,\n",
              "        9.08736125,  9.48806542,  8.46923821,  8.4098785 ,  8.61453574,\n",
              "        9.27347048,  9.46972979,  8.93927447,  9.01153641,  9.57750266,\n",
              "       10.64714395,  8.75004931,  8.42073401,  9.3719655 ,  8.46544446,\n",
              "        8.40754792,  9.51104448,  7.95367105,  9.0708939 , 10.47786638,\n",
              "        8.98732635,  9.16623136,  9.50176663,  9.45972394,  7.81183055,\n",
              "        7.92545657,  9.61824756, 11.18745834,  8.5764007 ,  8.02754624,\n",
              "        9.48629733,  8.34064166,  9.4937205 ,  8.47543398,  8.00183129,\n",
              "        8.77920409,  8.19555591, 10.82846975,  9.14745067,  9.27946524,\n",
              "        8.24812479,  8.75879048,  8.60892493,  9.06078039,  8.37286711,\n",
              "        9.14598751,  9.25707379,  9.56429496,  8.19415373,  8.76687129,\n",
              "        7.96265102,  8.52179962,  9.13122737, 10.58375079,  8.88331134,\n",
              "        9.40224896,  9.37963822,  8.14869945,  8.70336423, 10.56160771,\n",
              "        9.85015491,  9.44501572,  8.46421618,  8.68077418,  7.98764784,\n",
              "       10.34462694,  9.47740395,  8.24778861,  8.55931453,  7.96251856,\n",
              "       11.00063896,  9.028737  ,  8.34642375,  7.97850034,  7.95363315,\n",
              "        9.0718713 ,  8.48320844,  9.05433291,  9.29111973, 11.13204015,\n",
              "        8.52168924,  9.79576686,  8.76604883,  9.3817908 , 10.3596285 ,\n",
              "       10.92649049,  9.398753  ,  9.53435174, 11.28708045, 10.31287184,\n",
              "        8.70363075,  8.95619131, 10.49273741,  8.74303088,  8.06571546,\n",
              "        9.16297087, 10.58266514,  9.62445145,  8.44216391,  8.42467643,\n",
              "        9.83383383, 10.62464715,  8.83756019, 10.86126665,  9.41347997,\n",
              "        8.99374965, 10.18293825,  8.48558791,  9.68274401,  8.48004877,\n",
              "       11.30123577,  8.38884889,  9.48133629,  8.00513824,  8.65452699,\n",
              "        8.15093326,  8.73419535,  9.02291148,  9.30798415, 10.62569106,\n",
              "        9.20972853,  9.12530759,  8.19622766,  9.6506058 ,  9.31962493,\n",
              "        9.42878042,  9.48679219,  8.17095423,  8.99075316,  9.44574513,\n",
              "        8.49820104,  9.96947985,  9.84401598,  8.82358691,  8.77601123,\n",
              "        8.19545551,  8.04770803,  8.95298575,  9.88639072, 10.47342952,\n",
              "        9.15918166,  9.52651327,  9.23660827,  9.23565508,  8.06467476,\n",
              "        9.37800564,  9.68928373, 10.10132568,  7.94146475,  9.25106792,\n",
              "        9.12376378,  9.0250723 , 10.0913643 ,  8.64524945,  7.87831494,\n",
              "        8.77208736,  8.4664771 ,  9.08484269,  8.81697513,  9.42209613,\n",
              "       10.90485798, 10.2964055 ,  9.42011526,  8.04601948,  9.51057137,\n",
              "       10.32496261,  7.88287327,  8.33798751,  8.03745985,  8.55247804,\n",
              "        8.60216566,  8.4572426 , 10.36277145,  9.12768665, 10.20440887,\n",
              "        8.58441217,  7.98410259,  7.92956895,  9.04885828,  9.88376781,\n",
              "        9.6297789 ,  9.95435087,  8.79110403,  8.8845362 ,  9.47638389,\n",
              "        8.46524528,  9.74466715, 10.45575767,  8.96333868,  9.95432053,\n",
              "        8.57497484,  8.99040398,  8.00252945,  9.26055362,  9.18960606,\n",
              "        9.44918596,  8.88214414,  9.072462  ,  9.07392365,  7.8666409 ,\n",
              "        8.57121901,  8.99707556,  9.42908535,  8.88170202,  9.1519076 ,\n",
              "        9.2604628 ,  7.86550131,  8.86364872,  9.08302459,  9.25020867,\n",
              "       10.92071647,  8.93545201,  8.23550521,  7.90319877,  8.15437308,\n",
              "       10.43034452,  9.24729949,  9.36850098,  8.97666085,  8.6131622 ,\n",
              "        9.24131579,  9.92192592,  8.08053003,  8.98453964,  9.05255786,\n",
              "        9.21866213,  8.17918482,  9.35774062,  8.22708319, 10.98073885,\n",
              "        8.44307811,  7.9383837 ,  9.07329252,  8.59823473,  9.88437968,\n",
              "        8.74745162, 10.56692772,  8.8036973 ,  8.95054671,  9.54017817,\n",
              "        8.26070304, 10.52832907,  8.0320321 ,  8.81426099,  7.87461797,\n",
              "        9.45825684,  9.13062094,  8.41340711,  9.60638048,  8.18949259,\n",
              "        8.45468361, 10.16751735,  9.64584485,  8.02901858,  8.42276722,\n",
              "        8.51632902,  8.99746415,  8.82054458,  9.02919919,  9.10210022,\n",
              "        8.15263583,  9.089036  , 11.0847321 ,  9.38986676,  8.08446852,\n",
              "        8.98926531,  9.32907515,  8.74036312,  8.8640977 ,  8.95255572,\n",
              "        9.36820552, 10.09833091,  8.46732183,  8.49319968,  8.74446017,\n",
              "        9.47090002, 10.51823361,  7.84541825,  8.98651035,  7.82133581,\n",
              "       10.47331954,  9.29153303,  8.59440581,  8.22257466, 10.49985615,\n",
              "        9.21658558,  9.68381348,  8.98108571, 10.74643592,  8.56647409,\n",
              "       10.57349243,  8.91613706,  8.13814333,  9.00747504,  7.89513046,\n",
              "        9.34128144,  9.23012803,  8.22206217,  8.44016297,  8.86355648,\n",
              "        8.2920035 , 10.13408386,  7.94327115,  9.05143239,  8.76806389,\n",
              "        8.62718153,  9.40489545, 10.20138014,  8.19448023,  9.453457  ,\n",
              "        9.43164919,  8.98132603,  8.82839726, 10.26958725,  8.03925657,\n",
              "       10.16642867,  8.02342237,  8.32245975,  9.30722046,  8.44397989,\n",
              "        8.55158049,  9.91702488, 10.49932732,  8.90218929, 10.75383186,\n",
              "       10.33821382,  9.00817653,  8.08075795,  9.07475316, 11.19013931,\n",
              "        8.68757337,  9.57793375,  8.50643911,  8.41382656,  8.04565104,\n",
              "        8.72759978,  7.7815093 ])"
            ]
          },
          "metadata": {
            "tags": []
          },
          "execution_count": 493
        }
      ]
    },
    {
      "cell_type": "code",
      "metadata": {
        "id": "E69D8N25h-S7",
        "colab": {
          "base_uri": "https://localhost:8080/"
        },
        "outputId": "e26e9db2-acc7-4a15-ef8c-fa7c4e27bad5"
      },
      "source": [
        "print('The Mean Square Error(MSE) or J(theta) is: ',J_mse)"
      ],
      "execution_count": 489,
      "outputs": [
        {
          "output_type": "stream",
          "text": [
            "The Mean Square Error(MSE) or J(theta) is:  0.19924245957248024\n"
          ],
          "name": "stdout"
        }
      ]
    },
    {
      "cell_type": "code",
      "metadata": {
        "id": "0ozQ7YGYiC2W"
      },
      "source": [
        "# sklearn regression module\n",
        "y_pred_sk = lr.predict(X_test)\n",
        "\n",
        "#Evaluvation: MSE\n",
        "from sklearn.metrics import mean_squared_error as mse\n",
        "J_mse_sk = mse(y_pred_sk, y_test)"
      ],
      "execution_count": 490,
      "outputs": []
    },
    {
      "cell_type": "code",
      "metadata": {
        "colab": {
          "base_uri": "https://localhost:8080/"
        },
        "id": "6X5Jh-jdsmGP",
        "outputId": "6ecf2ba3-0124-4812-99db-26af4289e1e1"
      },
      "source": [
        "y_pred_sk"
      ],
      "execution_count": 494,
      "outputs": [
        {
          "output_type": "execute_result",
          "data": {
            "text/plain": [
              "array([ 8.94475364, 10.93948545,  9.07386417,  8.47539114,  8.74547324,\n",
              "        9.57074278,  9.36186953,  8.27881449,  8.55089703,  9.16963447,\n",
              "        9.83657064,  9.01828823,  9.24362257,  9.04907803,  9.248443  ,\n",
              "       10.10282615,  9.62126293,  8.02680987,  9.36100817,  9.39094375,\n",
              "        9.01486293,  8.63204278,  8.98589041,  9.52016114,  8.72232384,\n",
              "       10.24665347,  9.91741398,  9.98213078,  8.84530351, 10.27730738,\n",
              "        8.11966958,  8.05667601,  9.05683797,  9.27695383,  9.59630468,\n",
              "        9.18052771,  9.97570144,  9.22751379, 10.80351737,  8.40825465,\n",
              "        9.19904378,  8.98179134,  8.45043585,  8.43525173,  9.49283646,\n",
              "       10.96637175, 11.2381535 ,  9.73913245,  9.36187366,  9.76941641,\n",
              "        9.75186492,  8.11255678,  8.65512676,  9.20752497,  8.32974079,\n",
              "        7.83077293,  8.186985  ,  9.9096339 ,  9.30701784,  8.65154362,\n",
              "        9.22942543,  9.52168897,  8.08085109,  8.75972343,  9.78439621,\n",
              "        9.08736125,  9.48806542,  8.46923821,  8.4098785 ,  8.61453574,\n",
              "        9.27347048,  9.46972979,  8.93927447,  9.01153641,  9.57750266,\n",
              "       10.64714395,  8.75004931,  8.42073401,  9.3719655 ,  8.46544446,\n",
              "        8.40754792,  9.51104448,  7.95367105,  9.0708939 , 10.47786638,\n",
              "        8.98732635,  9.16623136,  9.50176663,  9.45972394,  7.81183055,\n",
              "        7.92545657,  9.61824756, 11.18745834,  8.5764007 ,  8.02754624,\n",
              "        9.48629733,  8.34064166,  9.4937205 ,  8.47543398,  8.00183129,\n",
              "        8.77920409,  8.19555591, 10.82846975,  9.14745067,  9.27946524,\n",
              "        8.24812479,  8.75879048,  8.60892493,  9.06078039,  8.37286711,\n",
              "        9.14598751,  9.25707379,  9.56429496,  8.19415373,  8.76687129,\n",
              "        7.96265102,  8.52179962,  9.13122737, 10.58375079,  8.88331134,\n",
              "        9.40224896,  9.37963822,  8.14869945,  8.70336423, 10.56160771,\n",
              "        9.85015491,  9.44501572,  8.46421618,  8.68077418,  7.98764784,\n",
              "       10.34462694,  9.47740395,  8.24778861,  8.55931453,  7.96251856,\n",
              "       11.00063896,  9.028737  ,  8.34642375,  7.97850034,  7.95363315,\n",
              "        9.0718713 ,  8.48320844,  9.05433291,  9.29111973, 11.13204015,\n",
              "        8.52168924,  9.79576686,  8.76604883,  9.3817908 , 10.3596285 ,\n",
              "       10.92649049,  9.398753  ,  9.53435174, 11.28708045, 10.31287184,\n",
              "        8.70363075,  8.95619131, 10.49273741,  8.74303088,  8.06571546,\n",
              "        9.16297087, 10.58266514,  9.62445145,  8.44216391,  8.42467643,\n",
              "        9.83383383, 10.62464715,  8.83756019, 10.86126665,  9.41347997,\n",
              "        8.99374965, 10.18293825,  8.48558791,  9.68274401,  8.48004877,\n",
              "       11.30123577,  8.38884889,  9.48133629,  8.00513824,  8.65452699,\n",
              "        8.15093326,  8.73419535,  9.02291148,  9.30798415, 10.62569106,\n",
              "        9.20972853,  9.12530759,  8.19622766,  9.6506058 ,  9.31962493,\n",
              "        9.42878042,  9.48679219,  8.17095423,  8.99075316,  9.44574513,\n",
              "        8.49820104,  9.96947985,  9.84401598,  8.82358691,  8.77601123,\n",
              "        8.19545551,  8.04770803,  8.95298575,  9.88639072, 10.47342952,\n",
              "        9.15918166,  9.52651327,  9.23660827,  9.23565508,  8.06467476,\n",
              "        9.37800564,  9.68928373, 10.10132568,  7.94146475,  9.25106792,\n",
              "        9.12376378,  9.0250723 , 10.0913643 ,  8.64524945,  7.87831494,\n",
              "        8.77208736,  8.4664771 ,  9.08484269,  8.81697513,  9.42209613,\n",
              "       10.90485798, 10.2964055 ,  9.42011526,  8.04601948,  9.51057137,\n",
              "       10.32496261,  7.88287327,  8.33798751,  8.03745985,  8.55247804,\n",
              "        8.60216566,  8.4572426 , 10.36277145,  9.12768665, 10.20440887,\n",
              "        8.58441217,  7.98410259,  7.92956895,  9.04885828,  9.88376781,\n",
              "        9.6297789 ,  9.95435087,  8.79110403,  8.8845362 ,  9.47638389,\n",
              "        8.46524528,  9.74466715, 10.45575767,  8.96333868,  9.95432053,\n",
              "        8.57497484,  8.99040398,  8.00252945,  9.26055362,  9.18960606,\n",
              "        9.44918596,  8.88214414,  9.072462  ,  9.07392365,  7.8666409 ,\n",
              "        8.57121901,  8.99707556,  9.42908535,  8.88170202,  9.1519076 ,\n",
              "        9.2604628 ,  7.86550131,  8.86364872,  9.08302459,  9.25020867,\n",
              "       10.92071647,  8.93545201,  8.23550521,  7.90319877,  8.15437308,\n",
              "       10.43034452,  9.24729949,  9.36850098,  8.97666085,  8.6131622 ,\n",
              "        9.24131579,  9.92192592,  8.08053003,  8.98453964,  9.05255786,\n",
              "        9.21866213,  8.17918482,  9.35774062,  8.22708319, 10.98073885,\n",
              "        8.44307811,  7.9383837 ,  9.07329252,  8.59823473,  9.88437968,\n",
              "        8.74745162, 10.56692772,  8.8036973 ,  8.95054671,  9.54017817,\n",
              "        8.26070304, 10.52832907,  8.0320321 ,  8.81426099,  7.87461797,\n",
              "        9.45825684,  9.13062094,  8.41340711,  9.60638048,  8.18949259,\n",
              "        8.45468361, 10.16751735,  9.64584485,  8.02901858,  8.42276722,\n",
              "        8.51632902,  8.99746415,  8.82054458,  9.02919919,  9.10210022,\n",
              "        8.15263583,  9.089036  , 11.0847321 ,  9.38986676,  8.08446852,\n",
              "        8.98926531,  9.32907515,  8.74036312,  8.8640977 ,  8.95255572,\n",
              "        9.36820552, 10.09833091,  8.46732183,  8.49319968,  8.74446017,\n",
              "        9.47090002, 10.51823361,  7.84541825,  8.98651035,  7.82133581,\n",
              "       10.47331954,  9.29153303,  8.59440581,  8.22257466, 10.49985615,\n",
              "        9.21658558,  9.68381348,  8.98108571, 10.74643592,  8.56647409,\n",
              "       10.57349243,  8.91613706,  8.13814333,  9.00747504,  7.89513046,\n",
              "        9.34128144,  9.23012803,  8.22206217,  8.44016297,  8.86355648,\n",
              "        8.2920035 , 10.13408386,  7.94327115,  9.05143239,  8.76806389,\n",
              "        8.62718153,  9.40489545, 10.20138014,  8.19448023,  9.453457  ,\n",
              "        9.43164919,  8.98132603,  8.82839726, 10.26958725,  8.03925657,\n",
              "       10.16642867,  8.02342237,  8.32245975,  9.30722046,  8.44397989,\n",
              "        8.55158049,  9.91702488, 10.49932732,  8.90218929, 10.75383186,\n",
              "       10.33821382,  9.00817653,  8.08075795,  9.07475316, 11.19013931,\n",
              "        8.68757337,  9.57793375,  8.50643911,  8.41382656,  8.04565104,\n",
              "        8.72759978,  7.7815093 ])"
            ]
          },
          "metadata": {
            "tags": []
          },
          "execution_count": 494
        }
      ]
    },
    {
      "cell_type": "code",
      "metadata": {
        "id": "sAJspQREiLWU",
        "colab": {
          "base_uri": "https://localhost:8080/"
        },
        "outputId": "29762332-6f05-4b01-ee86-f05ac2fcc644"
      },
      "source": [
        "print('The Mean Square Error(MSE) or J(theta) is: ',J_mse_sk)"
      ],
      "execution_count": 491,
      "outputs": [
        {
          "output_type": "stream",
          "text": [
            "The Mean Square Error(MSE) or J(theta) is:  0.1992424595724774\n"
          ],
          "name": "stdout"
        }
      ]
    },
    {
      "cell_type": "code",
      "metadata": {
        "id": "UGnILMgriMNi",
        "colab": {
          "base_uri": "https://localhost:8080/",
          "height": 465
        },
        "outputId": "8de85a0c-3446-4334-e696-ca9ee8184c0b"
      },
      "source": [
        "# Check for Linearity\n",
        "f = plt.figure(figsize=(15,5))\n",
        "# from normal prediction\n",
        "ax = f.add_subplot(121)\n",
        "sns.scatterplot(y_test,y_pred,ax=ax,color='g')\n",
        "ax.set_title(' Actual Vs Predicted value from normal model')\n",
        "# from sklearn prediction\n",
        "ax = f.add_subplot(122)\n",
        "sns.scatterplot(y_test,y_pred_sk,ax=ax,color='y')\n",
        "ax.set_title(' Actual Vs Predicted value from sklearn')\n"
      ],
      "execution_count": 492,
      "outputs": [
        {
          "output_type": "stream",
          "text": [
            "/usr/local/lib/python3.7/dist-packages/seaborn/_decorators.py:43: FutureWarning: Pass the following variables as keyword args: x, y. From version 0.12, the only valid positional argument will be `data`, and passing other arguments without an explicit keyword will result in an error or misinterpretation.\n",
            "  FutureWarning\n",
            "/usr/local/lib/python3.7/dist-packages/seaborn/_decorators.py:43: FutureWarning: Pass the following variables as keyword args: x, y. From version 0.12, the only valid positional argument will be `data`, and passing other arguments without an explicit keyword will result in an error or misinterpretation.\n",
            "  FutureWarning\n"
          ],
          "name": "stderr"
        },
        {
          "output_type": "execute_result",
          "data": {
            "text/plain": [
              "Text(0.5, 1.0, ' Actual Vs Predicted value from sklearn')"
            ]
          },
          "metadata": {
            "tags": []
          },
          "execution_count": 492
        },
        {
          "output_type": "display_data",
          "data": {
            "image/png": "[encoded data removed]",
            "text/plain": [
              "<Figure size 1080x360 with 2 Axes>"
            ]
          },
          "metadata": {
            "tags": []
          }
        }
      ]
    }
  ]
}