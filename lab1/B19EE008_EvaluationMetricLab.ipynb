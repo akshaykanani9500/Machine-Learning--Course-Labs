{
  "nbformat": 4,
  "nbformat_minor": 0,
  "metadata": {
    "colab": {
      "name": "B19EE008_EvaluationMetricLab.ipynb",
      "provenance": [],
      "collapsed_sections": []
    },
    "kernelspec": {
      "name": "python3",
      "display_name": "Python 3"
    }
  },
  "cells": [
    {
      "cell_type": "code",
      "metadata": {
        "id": "9l7HD94rODqX"
      },
      "source": [
        "import pandas as pd\n",
        "import numpy as np\n",
        "import matplotlib.pyplot as plt\n",
        "\n",
        "# from google.colab import drive"
      ],
      "execution_count": 305,
      "outputs": []
    },
    {
      "cell_type": "code",
      "metadata": {
        "id": "30qfWl1uOGVv"
      },
      "source": [
        "# drive.mount('/content/drive')"
      ],
      "execution_count": 306,
      "outputs": []
    },
    {
      "cell_type": "code",
      "metadata": {
        "id": "uXcnDs55OhzG"
      },
      "source": [
        "# give path to the data.csv \r\n",
        "file_path = '/content/data.csv' "
      ],
      "execution_count": 307,
      "outputs": []
    },
    {
      "cell_type": "markdown",
      "metadata": {
        "id": "P2izkRL5GOiV"
      },
      "source": [
        "As one may see, the csv file contains actual labels and the predicted probabilities from two ML model (random forest and logistic regression)."
      ]
    },
    {
      "cell_type": "code",
      "metadata": {
        "id": "Ps5StOSZOzc3",
        "colab": {
          "base_uri": "https://localhost:8080/",
          "height": 194
        },
        "outputId": "c6ae4cee-dc03-4912-84dd-ebfede5bedb2"
      },
      "source": [
        "df = pd.read_csv(file_path)\n",
        "df.head()\n"
      ],
      "execution_count": 308,
      "outputs": [
        {
          "output_type": "execute_result",
          "data": {
            "text/html": [
              "<div>\n",
              "<style scoped>\n",
              "    .dataframe tbody tr th:only-of-type {\n",
              "        vertical-align: middle;\n",
              "    }\n",
              "\n",
              "    .dataframe tbody tr th {\n",
              "        vertical-align: top;\n",
              "    }\n",
              "\n",
              "    .dataframe thead th {\n",
              "        text-align: right;\n",
              "    }\n",
              "</style>\n",
              "<table border=\"1\" class=\"dataframe\">\n",
              "  <thead>\n",
              "    <tr style=\"text-align: right;\">\n",
              "      <th></th>\n",
              "      <th>y_act</th>\n",
              "      <th>y_pred_random_forest</th>\n",
              "      <th>y_pred_logistic</th>\n",
              "    </tr>\n",
              "  </thead>\n",
              "  <tbody>\n",
              "    <tr>\n",
              "      <th>0</th>\n",
              "      <td>1</td>\n",
              "      <td>0.639816</td>\n",
              "      <td>0.531904</td>\n",
              "    </tr>\n",
              "    <tr>\n",
              "      <th>1</th>\n",
              "      <td>0</td>\n",
              "      <td>0.490993</td>\n",
              "      <td>0.414496</td>\n",
              "    </tr>\n",
              "    <tr>\n",
              "      <th>2</th>\n",
              "      <td>1</td>\n",
              "      <td>0.623815</td>\n",
              "      <td>0.569883</td>\n",
              "    </tr>\n",
              "    <tr>\n",
              "      <th>3</th>\n",
              "      <td>1</td>\n",
              "      <td>0.506616</td>\n",
              "      <td>0.443674</td>\n",
              "    </tr>\n",
              "    <tr>\n",
              "      <th>4</th>\n",
              "      <td>0</td>\n",
              "      <td>0.418302</td>\n",
              "      <td>0.369532</td>\n",
              "    </tr>\n",
              "  </tbody>\n",
              "</table>\n",
              "</div>"
            ],
            "text/plain": [
              "   y_act  y_pred_random_forest  y_pred_logistic\n",
              "0      1              0.639816         0.531904\n",
              "1      0              0.490993         0.414496\n",
              "2      1              0.623815         0.569883\n",
              "3      1              0.506616         0.443674\n",
              "4      0              0.418302         0.369532"
            ]
          },
          "metadata": {
            "tags": []
          },
          "execution_count": 308
        }
      ]
    },
    {
      "cell_type": "code",
      "metadata": {
        "id": "BNs5583pTs67"
      },
      "source": [
        "lr_accur = []\r\n",
        "lr_prec =[]\r\n",
        "lr_rec = []\r\n",
        "lr_f1score = []\r\n",
        "rf_accur = []\r\n",
        "rf_prec =[]\r\n",
        "rf_rec = []\r\n",
        "rf_f1score = []\r\n",
        "thresold_value = [0.5,0.6,0.4]\r\n"
      ],
      "execution_count": 309,
      "outputs": []
    },
    {
      "cell_type": "markdown",
      "metadata": {
        "id": "ya4LrEfQGlJ6"
      },
      "source": [
        "You have to take a threshold value and will have to predict final label. \r\n",
        "So add two new columns named as 'y_pred_rf'and 'y_pred_lr' in the df dataframe. These new columns will have final label predicted by the two models based on the threshold set."
      ]
    },
    {
      "cell_type": "code",
      "metadata": {
        "id": "djBcS1sPO2hP",
        "colab": {
          "base_uri": "https://localhost:8080/",
          "height": 194
        },
        "outputId": "ebd88959-293e-45c8-ba9b-27ed02964a4c"
      },
      "source": [
        "thresh = 0.5\n",
        "df['y_pred_rf'] = (df.y_pred_random_forest >= thresh).astype('int')\n",
        "df['y_pred_lr'] = (df.y_pred_logistic >= thresh).astype('int')\n",
        "df.head()"
      ],
      "execution_count": 310,
      "outputs": [
        {
          "output_type": "execute_result",
          "data": {
            "text/html": [
              "<div>\n",
              "<style scoped>\n",
              "    .dataframe tbody tr th:only-of-type {\n",
              "        vertical-align: middle;\n",
              "    }\n",
              "\n",
              "    .dataframe tbody tr th {\n",
              "        vertical-align: top;\n",
              "    }\n",
              "\n",
              "    .dataframe thead th {\n",
              "        text-align: right;\n",
              "    }\n",
              "</style>\n",
              "<table border=\"1\" class=\"dataframe\">\n",
              "  <thead>\n",
              "    <tr style=\"text-align: right;\">\n",
              "      <th></th>\n",
              "      <th>y_act</th>\n",
              "      <th>y_pred_random_forest</th>\n",
              "      <th>y_pred_logistic</th>\n",
              "      <th>y_pred_rf</th>\n",
              "      <th>y_pred_lr</th>\n",
              "    </tr>\n",
              "  </thead>\n",
              "  <tbody>\n",
              "    <tr>\n",
              "      <th>0</th>\n",
              "      <td>1</td>\n",
              "      <td>0.639816</td>\n",
              "      <td>0.531904</td>\n",
              "      <td>1</td>\n",
              "      <td>1</td>\n",
              "    </tr>\n",
              "    <tr>\n",
              "      <th>1</th>\n",
              "      <td>0</td>\n",
              "      <td>0.490993</td>\n",
              "      <td>0.414496</td>\n",
              "      <td>0</td>\n",
              "      <td>0</td>\n",
              "    </tr>\n",
              "    <tr>\n",
              "      <th>2</th>\n",
              "      <td>1</td>\n",
              "      <td>0.623815</td>\n",
              "      <td>0.569883</td>\n",
              "      <td>1</td>\n",
              "      <td>1</td>\n",
              "    </tr>\n",
              "    <tr>\n",
              "      <th>3</th>\n",
              "      <td>1</td>\n",
              "      <td>0.506616</td>\n",
              "      <td>0.443674</td>\n",
              "      <td>1</td>\n",
              "      <td>0</td>\n",
              "    </tr>\n",
              "    <tr>\n",
              "      <th>4</th>\n",
              "      <td>0</td>\n",
              "      <td>0.418302</td>\n",
              "      <td>0.369532</td>\n",
              "      <td>0</td>\n",
              "      <td>0</td>\n",
              "    </tr>\n",
              "  </tbody>\n",
              "</table>\n",
              "</div>"
            ],
            "text/plain": [
              "   y_act  y_pred_random_forest  y_pred_logistic  y_pred_rf  y_pred_lr\n",
              "0      1              0.639816         0.531904          1          1\n",
              "1      0              0.490993         0.414496          0          0\n",
              "2      1              0.623815         0.569883          1          1\n",
              "3      1              0.506616         0.443674          1          0\n",
              "4      0              0.418302         0.369532          0          0"
            ]
          },
          "metadata": {
            "tags": []
          },
          "execution_count": 310
        }
      ]
    },
    {
      "cell_type": "code",
      "metadata": {
        "id": "MyCUFrItPlPO",
        "colab": {
          "base_uri": "https://localhost:8080/"
        },
        "outputId": "cb288352-861a-41e0-9a4e-784d205a6e67"
      },
      "source": [
        "df.shape"
      ],
      "execution_count": 311,
      "outputs": [
        {
          "output_type": "execute_result",
          "data": {
            "text/plain": [
              "(15758, 5)"
            ]
          },
          "metadata": {
            "tags": []
          },
          "execution_count": 311
        }
      ]
    },
    {
      "cell_type": "markdown",
      "metadata": {
        "id": "--7qeK98HW0i"
      },
      "source": [
        "Complete below function to compute true positive (tp), tn, fn, fp"
      ]
    },
    {
      "cell_type": "code",
      "metadata": {
        "id": "odU7dUxRPJ0l"
      },
      "source": [
        "def compute_tp_tn_fn_fp(y_act, y_pred):\n",
        "  tp=0\n",
        "  tn=0\n",
        "  fn=0\n",
        "  fp=0\n",
        "  for i in range(len(y_act)):\n",
        "    if(y_act[i]==y_pred[i]):\n",
        "      if(y_act[i]==0):\n",
        "        tn=tn+1\n",
        "      else:\n",
        "        tp=tp+1\n",
        "    elif(y_act[i]==0 and y_pred[i]==1):\n",
        "      fp=fp+1\n",
        "    else:\n",
        "      fn=fn+1\n",
        "  \n",
        "  \n",
        "  return tp, tn, fp, fn"
      ],
      "execution_count": 312,
      "outputs": []
    },
    {
      "cell_type": "code",
      "metadata": {
        "id": "NUr_BhRdPScf",
        "colab": {
          "base_uri": "https://localhost:8080/"
        },
        "outputId": "5b6c4599-0f78-47a2-f2b1-901425be70a4"
      },
      "source": [
        "tp_lr, tn_lr, fp_lr, fn_lr = compute_tp_tn_fn_fp(df.y_act, df.y_pred_lr)\n",
        "print('TP for Logistic Reg :', tp_lr)\n",
        "print('TN for Logistic Reg :', tn_lr)\n",
        "print('FP for Logistic Reg :', fp_lr)\n",
        "print('FN for Logistic Reg :', fn_lr)"
      ],
      "execution_count": 313,
      "outputs": [
        {
          "output_type": "stream",
          "text": [
            "TP for Logistic Reg : 4279\n",
            "TN for Logistic Reg : 5425\n",
            "FP for Logistic Reg : 2454\n",
            "FN for Logistic Reg : 3600\n"
          ],
          "name": "stdout"
        }
      ]
    },
    {
      "cell_type": "code",
      "metadata": {
        "id": "I_g7lSw0QXSW",
        "colab": {
          "base_uri": "https://localhost:8080/"
        },
        "outputId": "7836cc0e-3577-4cb4-eecb-9993bc8a0402"
      },
      "source": [
        "tp_rf, tn_rf, fp_rf, fn_rf = compute_tp_tn_fn_fp(df.y_act, df.y_pred_rf)\n",
        "print('TP for Random Forest :', tp_rf)\n",
        "print('TN for Random Forest :', tn_rf)\n",
        "print('FP for Random Forest :', fp_rf)\n",
        "print('FN for Random Forest :', fn_rf)"
      ],
      "execution_count": 314,
      "outputs": [
        {
          "output_type": "stream",
          "text": [
            "TP for Random Forest : 5047\n",
            "TN for Random Forest : 5519\n",
            "FP for Random Forest : 2360\n",
            "FN for Random Forest : 2832\n"
          ],
          "name": "stdout"
        }
      ]
    },
    {
      "cell_type": "markdown",
      "metadata": {
        "id": "GvCtMtH1H26J"
      },
      "source": [
        "Let's verify result from sklearn"
      ]
    },
    {
      "cell_type": "code",
      "metadata": {
        "id": "bgZP9T4CZ1Li"
      },
      "source": [
        "from sklearn.metrics import confusion_matrix\n",
        "tn_rf1, fp_rf1, fn_rf1, tp_rf1 = confusion_matrix(df.y_act, df.y_pred_rf).ravel()"
      ],
      "execution_count": 315,
      "outputs": []
    },
    {
      "cell_type": "code",
      "metadata": {
        "id": "_rtIci_rZ9J7",
        "colab": {
          "base_uri": "https://localhost:8080/"
        },
        "outputId": "a86c08d5-e18e-41c3-cbe3-b949c2b7fbf5"
      },
      "source": [
        "print('TP for Random Forest :', tp_rf1)\n",
        "print('TN for Random Forest :', tn_rf1)\n",
        "print('FP for Random Forest :', fp_rf1)\n",
        "print('FN for Random Forest :', fn_rf1)"
      ],
      "execution_count": 316,
      "outputs": [
        {
          "output_type": "stream",
          "text": [
            "TP for Random Forest : 5047\n",
            "TN for Random Forest : 5519\n",
            "FP for Random Forest : 2360\n",
            "FN for Random Forest : 2832\n"
          ],
          "name": "stdout"
        }
      ]
    },
    {
      "cell_type": "markdown",
      "metadata": {
        "id": "jhjYqqR2H8xU"
      },
      "source": [
        "In a similar way complete all the functions below"
      ]
    },
    {
      "cell_type": "code",
      "metadata": {
        "id": "G8RHrb5kQ_I_"
      },
      "source": [
        "def compute_accuracy(tp, tn, fn, fp):\n",
        "\tacc = (tn+tp)/(tn+tp+fp+fn)\n",
        "\treturn acc"
      ],
      "execution_count": 317,
      "outputs": []
    },
    {
      "cell_type": "code",
      "metadata": {
        "id": "NR5DT6tHRvc5",
        "colab": {
          "base_uri": "https://localhost:8080/"
        },
        "outputId": "bb17d74a-3171-4d97-f080-c8ac86911be2"
      },
      "source": [
        "print('Accuracy for Logistic Regression :', 100*compute_accuracy(tp_lr, tn_lr, fn_lr, fp_lr))\n",
        "print('Accuracy for Random Forest :', 100*compute_accuracy(tp_rf, tn_rf, fn_rf, fp_rf))\n",
        "lr_accur.append(100*compute_accuracy(tp_lr, tn_lr, fn_lr, fp_lr))\n",
        "rf_accur.append(100*compute_accuracy(tp_rf, tn_rf, fn_rf, fp_rf))"
      ],
      "execution_count": 318,
      "outputs": [
        {
          "output_type": "stream",
          "text": [
            "Accuracy for Logistic Regression : 61.58141896179718\n",
            "Accuracy for Random Forest : 67.05165630156111\n"
          ],
          "name": "stdout"
        }
      ]
    },
    {
      "cell_type": "code",
      "metadata": {
        "id": "Oa_Yf9boSN3M"
      },
      "source": [
        "from sklearn.metrics import accuracy_score"
      ],
      "execution_count": 319,
      "outputs": []
    },
    {
      "cell_type": "code",
      "metadata": {
        "id": "SUiyyqq-SWer",
        "colab": {
          "base_uri": "https://localhost:8080/"
        },
        "outputId": "c780ef4d-ba85-41ac-e255-25ea030c14fa"
      },
      "source": [
        "print('Accuracy for Logistic Regression :', 100* accuracy_score(df.y_act, \n",
        "                                                           df.y_pred_lr))\n",
        "print('Accuracy for Random Forest :', 100*accuracy_score(df.y_act, \n",
        "                                                           df.y_pred_rf))"
      ],
      "execution_count": 320,
      "outputs": [
        {
          "output_type": "stream",
          "text": [
            "Accuracy for Logistic Regression : 61.58141896179718\n",
            "Accuracy for Random Forest : 67.05165630156111\n"
          ],
          "name": "stdout"
        }
      ]
    },
    {
      "cell_type": "code",
      "metadata": {
        "id": "Lirv9_L0SZ85"
      },
      "source": [
        "def compute_precision(tp, tn, fn, fp):\n",
        "\tprec = tp/(tp+fp)\n",
        "\treturn prec"
      ],
      "execution_count": 321,
      "outputs": []
    },
    {
      "cell_type": "code",
      "metadata": {
        "id": "fXBCPFF9XVqR",
        "colab": {
          "base_uri": "https://localhost:8080/"
        },
        "outputId": "f07a6935-a001-48b7-8097-76b2366e3b2f"
      },
      "source": [
        "print('Precision for Logistic Regression :', 100*compute_precision(tp_lr, tn_lr, fn_lr, fp_lr))\n",
        "print('Precision for Random Forest :', 100*compute_precision(tp_rf, tn_rf, fn_rf, fp_rf))\n",
        "lr_prec.append(100*compute_precision(tp_lr, tn_lr, fn_lr, fp_lr))\n",
        "rf_prec.append(100*compute_precision(tp_rf, tn_rf, fn_rf, fp_rf))"
      ],
      "execution_count": 322,
      "outputs": [
        {
          "output_type": "stream",
          "text": [
            "Precision for Logistic Regression : 63.55265112134264\n",
            "Precision for Random Forest : 68.1382476036182\n"
          ],
          "name": "stdout"
        }
      ]
    },
    {
      "cell_type": "code",
      "metadata": {
        "id": "bKvrMNKSYpWW",
        "colab": {
          "base_uri": "https://localhost:8080/"
        },
        "outputId": "47479bf4-1d89-438d-f467-4d6bef79863e"
      },
      "source": [
        "from sklearn.metrics import precision_score\n",
        "print('Precision for Logistic Regression :', 100* precision_score(df.y_act, \n",
        "                                                           df.y_pred_lr))\n",
        "print('Precision for Random Forest :', 100* precision_score(df.y_act, \n",
        "                                                           df.y_pred_rf))"
      ],
      "execution_count": 323,
      "outputs": [
        {
          "output_type": "stream",
          "text": [
            "Precision for Logistic Regression : 63.55265112134264\n",
            "Precision for Random Forest : 68.1382476036182\n"
          ],
          "name": "stdout"
        }
      ]
    },
    {
      "cell_type": "code",
      "metadata": {
        "id": "ZsrGqhaMY2j9"
      },
      "source": [
        "def compute_recall(tp, tn, fn, fp):\n",
        "\trec = tp/(tp+fn)\n",
        "\treturn rec"
      ],
      "execution_count": 324,
      "outputs": []
    },
    {
      "cell_type": "code",
      "metadata": {
        "id": "t9nsMZwBbFqF",
        "colab": {
          "base_uri": "https://localhost:8080/"
        },
        "outputId": "8973cdb1-54f6-41be-f5d1-28a29d3503f9"
      },
      "source": [
        "print('Recall for Logistic Regression :', 100*compute_recall(tp_lr, tn_lr, fn_lr, fp_lr))\n",
        "print('Recall for Random Forest :', 100*compute_recall(tp_rf, tn_rf, fn_rf, fp_rf))\n",
        "lr_rec.append(100*compute_recall(tp_lr, tn_lr, fn_lr, fp_lr))\n",
        "rf_rec.append(100*compute_recall(tp_rf, tn_rf, fn_rf, fp_rf))"
      ],
      "execution_count": 325,
      "outputs": [
        {
          "output_type": "stream",
          "text": [
            "Recall for Logistic Regression : 54.30892245208783\n",
            "Recall for Random Forest : 64.05635232897576\n"
          ],
          "name": "stdout"
        }
      ]
    },
    {
      "cell_type": "code",
      "metadata": {
        "id": "hctMfFOCa-OX",
        "colab": {
          "base_uri": "https://localhost:8080/"
        },
        "outputId": "bc08c4e3-e012-46a3-ed7a-9c1aca928372"
      },
      "source": [
        "from sklearn.metrics import recall_score\n",
        "\n",
        "print('Recall for Logistic Regression :', 100* recall_score(df.y_act, \n",
        "                                                           df.y_pred_lr))\n",
        "print('Recall for Random Forest :', 100* recall_score(df.y_act, \n",
        "                                                           df.y_pred_rf))"
      ],
      "execution_count": 326,
      "outputs": [
        {
          "output_type": "stream",
          "text": [
            "Recall for Logistic Regression : 54.30892245208783\n",
            "Recall for Random Forest : 64.05635232897576\n"
          ],
          "name": "stdout"
        }
      ]
    },
    {
      "cell_type": "code",
      "metadata": {
        "id": "oYF1hlSGbiN4"
      },
      "source": [
        "def compute_f1_score(y_act, y_pred):\n",
        "    # calculates the F1 score. Complete function\n",
        "    tp=0\n",
        "    tn=0\n",
        "    fn=0\n",
        "    fp=0\n",
        "    for i in range(len(y_act)):\n",
        "      if(y_act[i]==y_pred[i]):\n",
        "        if(y_act[i]==0):\n",
        "          tn=tn+1\n",
        "        else:\n",
        "          tp=tp+1\n",
        "      elif(y_act[i]==0 and y_pred[i]==1):\n",
        "        fp=fp+1\n",
        "      else:\n",
        "        fn=fn+1\n",
        "      \n",
        "    \n",
        "    rec = compute_recall(tp, tn, fn, fp)\n",
        "    prec = compute_precision(tp,tn,fn,fp)\n",
        "    f1_score = 2*rec*prec/(prec+rec)\n",
        "\n",
        "\n",
        "  \n",
        "    return f1_score"
      ],
      "execution_count": 327,
      "outputs": []
    },
    {
      "cell_type": "code",
      "metadata": {
        "id": "6BQl8guud5c8",
        "colab": {
          "base_uri": "https://localhost:8080/"
        },
        "outputId": "360be55b-8b16-4976-cb03-2549495bdace"
      },
      "source": [
        "print('F1 score for Logistic Regression :', compute_f1_score(df.y_act, \n",
        "                                                             df.y_pred_lr))\n",
        "print('F1 score for Random Forest :', compute_f1_score(df.y_act, \n",
        "                                                             df.y_pred_rf))\n",
        "lr_f1score.append(compute_f1_score(df.y_act, df.y_pred_lr))\n",
        "rf_f1score.append(compute_f1_score(df.y_act, df.y_pred_rf))"
      ],
      "execution_count": 328,
      "outputs": [
        {
          "output_type": "stream",
          "text": [
            "F1 score for Logistic Regression : 0.5856830002737475\n",
            "F1 score for Random Forest : 0.660342797330891\n"
          ],
          "name": "stdout"
        }
      ]
    },
    {
      "cell_type": "code",
      "metadata": {
        "id": "qBrixsxLeFHq",
        "colab": {
          "base_uri": "https://localhost:8080/"
        },
        "outputId": "6fad0bf3-dc01-46ee-9d25-22054a99903a"
      },
      "source": [
        "from sklearn.metrics import f1_score\n",
        "print('F1 score for Logistic Regression :', f1_score(df.y_act, df.y_pred_lr))\n",
        "print('F1 score for Random Forest :', f1_score(df.y_act, df.y_pred_rf))"
      ],
      "execution_count": 329,
      "outputs": [
        {
          "output_type": "stream",
          "text": [
            "F1 score for Logistic Regression : 0.5856830002737475\n",
            "F1 score for Random Forest : 0.660342797330891\n"
          ],
          "name": "stdout"
        }
      ]
    },
    {
      "cell_type": "markdown",
      "metadata": {
        "id": "m8ccQRaahq5Z"
      },
      "source": [
        "**FOR THRESOLD = 0.6**\r\n"
      ]
    },
    {
      "cell_type": "code",
      "metadata": {
        "id": "_ehAwBc4ecS_",
        "colab": {
          "base_uri": "https://localhost:8080/",
          "height": 194
        },
        "outputId": "444d5e1a-c21b-44d7-b11e-3fe921015b88"
      },
      "source": [
        "thresh = 0.6\r\n",
        "df['y_pred_rf'] = (df.y_pred_random_forest >= thresh).astype('int')\r\n",
        "df['y_pred_lr'] = (df.y_pred_logistic >= thresh).astype('int')\r\n",
        "df.head()"
      ],
      "execution_count": 330,
      "outputs": [
        {
          "output_type": "execute_result",
          "data": {
            "text/html": [
              "<div>\n",
              "<style scoped>\n",
              "    .dataframe tbody tr th:only-of-type {\n",
              "        vertical-align: middle;\n",
              "    }\n",
              "\n",
              "    .dataframe tbody tr th {\n",
              "        vertical-align: top;\n",
              "    }\n",
              "\n",
              "    .dataframe thead th {\n",
              "        text-align: right;\n",
              "    }\n",
              "</style>\n",
              "<table border=\"1\" class=\"dataframe\">\n",
              "  <thead>\n",
              "    <tr style=\"text-align: right;\">\n",
              "      <th></th>\n",
              "      <th>y_act</th>\n",
              "      <th>y_pred_random_forest</th>\n",
              "      <th>y_pred_logistic</th>\n",
              "      <th>y_pred_rf</th>\n",
              "      <th>y_pred_lr</th>\n",
              "    </tr>\n",
              "  </thead>\n",
              "  <tbody>\n",
              "    <tr>\n",
              "      <th>0</th>\n",
              "      <td>1</td>\n",
              "      <td>0.639816</td>\n",
              "      <td>0.531904</td>\n",
              "      <td>1</td>\n",
              "      <td>0</td>\n",
              "    </tr>\n",
              "    <tr>\n",
              "      <th>1</th>\n",
              "      <td>0</td>\n",
              "      <td>0.490993</td>\n",
              "      <td>0.414496</td>\n",
              "      <td>0</td>\n",
              "      <td>0</td>\n",
              "    </tr>\n",
              "    <tr>\n",
              "      <th>2</th>\n",
              "      <td>1</td>\n",
              "      <td>0.623815</td>\n",
              "      <td>0.569883</td>\n",
              "      <td>1</td>\n",
              "      <td>0</td>\n",
              "    </tr>\n",
              "    <tr>\n",
              "      <th>3</th>\n",
              "      <td>1</td>\n",
              "      <td>0.506616</td>\n",
              "      <td>0.443674</td>\n",
              "      <td>0</td>\n",
              "      <td>0</td>\n",
              "    </tr>\n",
              "    <tr>\n",
              "      <th>4</th>\n",
              "      <td>0</td>\n",
              "      <td>0.418302</td>\n",
              "      <td>0.369532</td>\n",
              "      <td>0</td>\n",
              "      <td>0</td>\n",
              "    </tr>\n",
              "  </tbody>\n",
              "</table>\n",
              "</div>"
            ],
            "text/plain": [
              "   y_act  y_pred_random_forest  y_pred_logistic  y_pred_rf  y_pred_lr\n",
              "0      1              0.639816         0.531904          1          0\n",
              "1      0              0.490993         0.414496          0          0\n",
              "2      1              0.623815         0.569883          1          0\n",
              "3      1              0.506616         0.443674          0          0\n",
              "4      0              0.418302         0.369532          0          0"
            ]
          },
          "metadata": {
            "tags": []
          },
          "execution_count": 330
        }
      ]
    },
    {
      "cell_type": "code",
      "metadata": {
        "colab": {
          "base_uri": "https://localhost:8080/"
        },
        "id": "vEiFOVEDlItI",
        "outputId": "52a78f32-368f-428b-d2d5-fa06f62e314b"
      },
      "source": [
        "df.shape"
      ],
      "execution_count": 331,
      "outputs": [
        {
          "output_type": "execute_result",
          "data": {
            "text/plain": [
              "(15758, 5)"
            ]
          },
          "metadata": {
            "tags": []
          },
          "execution_count": 331
        }
      ]
    },
    {
      "cell_type": "code",
      "metadata": {
        "colab": {
          "base_uri": "https://localhost:8080/"
        },
        "id": "psap_Rn0mxxC",
        "outputId": "ee9e2b93-45bb-4262-fa48-8b3ed289b8f5"
      },
      "source": [
        "tp_lr, tn_lr, fp_lr, fn_lr = compute_tp_tn_fn_fp(df.y_act, df.y_pred_lr)\r\n",
        "print('TP for Logistic Reg :', tp_lr)\r\n",
        "print('TN for Logistic Reg :', tn_lr)\r\n",
        "print('FP for Logistic Reg :', fp_lr)\r\n",
        "print('FN for Logistic Reg :', fn_lr)"
      ],
      "execution_count": 332,
      "outputs": [
        {
          "output_type": "stream",
          "text": [
            "TP for Logistic Reg : 2406\n",
            "TN for Logistic Reg : 6858\n",
            "FP for Logistic Reg : 1021\n",
            "FN for Logistic Reg : 5473\n"
          ],
          "name": "stdout"
        }
      ]
    },
    {
      "cell_type": "code",
      "metadata": {
        "colab": {
          "base_uri": "https://localhost:8080/"
        },
        "id": "BEk806VYm1y5",
        "outputId": "f0667978-f274-4fb6-aa62-9576f7b687b9"
      },
      "source": [
        "tp_rf, tn_rf, fp_rf, fn_rf = compute_tp_tn_fn_fp(df.y_act, df.y_pred_rf)\r\n",
        "print('TP for Random Forest :', tp_rf)\r\n",
        "print('TN for Random Forest :', tn_rf)\r\n",
        "print('FP for Random Forest :', fp_rf)\r\n",
        "print('FN for Random Forest :', fn_rf)"
      ],
      "execution_count": 333,
      "outputs": [
        {
          "output_type": "stream",
          "text": [
            "TP for Random Forest : 2239\n",
            "TN for Random Forest : 7417\n",
            "FP for Random Forest : 462\n",
            "FN for Random Forest : 5640\n"
          ],
          "name": "stdout"
        }
      ]
    },
    {
      "cell_type": "code",
      "metadata": {
        "id": "PDCyLmCXiJ4v"
      },
      "source": [
        "from sklearn.metrics import confusion_matrix\r\n",
        "tn_rf1, fp_rf1, fn_rf1, tp_rf1 = confusion_matrix(df.y_act, df.y_pred_rf).ravel()"
      ],
      "execution_count": 334,
      "outputs": []
    },
    {
      "cell_type": "code",
      "metadata": {
        "colab": {
          "base_uri": "https://localhost:8080/"
        },
        "id": "mmcjD4h8iRSJ",
        "outputId": "3891811c-7e5b-4a89-d5dd-93dc6fd91190"
      },
      "source": [
        "print('TP for Random Forest :', tp_rf1)\r\n",
        "print('TN for Random Forest :', tn_rf1)\r\n",
        "print('FP for Random Forest :', fp_rf1)\r\n",
        "print('FN for Random Forest :', fn_rf1)"
      ],
      "execution_count": 335,
      "outputs": [
        {
          "output_type": "stream",
          "text": [
            "TP for Random Forest : 2239\n",
            "TN for Random Forest : 7417\n",
            "FP for Random Forest : 462\n",
            "FN for Random Forest : 5640\n"
          ],
          "name": "stdout"
        }
      ]
    },
    {
      "cell_type": "code",
      "metadata": {
        "colab": {
          "base_uri": "https://localhost:8080/"
        },
        "id": "RxeG1HexnKTx",
        "outputId": "e4712bd3-2c81-43bc-a993-b1c042ba16cf"
      },
      "source": [
        "print('Accuracy for Logistic Regression :', 100*compute_accuracy(tp_lr, tn_lr, fn_lr, fp_lr))\r\n",
        "print('Accuracy for Random Forest :', 100*compute_accuracy(tp_rf, tn_rf, fn_rf, fp_rf))\r\n",
        "lr_accur.append(100*compute_accuracy(tp_lr, tn_lr, fn_lr, fp_lr))\r\n",
        "rf_accur.append(100*compute_accuracy(tp_rf, tn_rf, fn_rf, fp_rf))"
      ],
      "execution_count": 336,
      "outputs": [
        {
          "output_type": "stream",
          "text": [
            "Accuracy for Logistic Regression : 58.789186444980324\n",
            "Accuracy for Random Forest : 61.276811778144435\n"
          ],
          "name": "stdout"
        }
      ]
    },
    {
      "cell_type": "code",
      "metadata": {
        "id": "JzKDazIcigU7"
      },
      "source": [
        "from sklearn.metrics import accuracy_score"
      ],
      "execution_count": 337,
      "outputs": []
    },
    {
      "cell_type": "code",
      "metadata": {
        "colab": {
          "base_uri": "https://localhost:8080/"
        },
        "id": "3YnjESgiiq4G",
        "outputId": "1204cbb1-4a2f-4c78-a3dc-10b18a115d37"
      },
      "source": [
        "print('Accuracy for Logistic Regression :', 100* accuracy_score(df.y_act, \r\n",
        "                                                           df.y_pred_lr))\r\n",
        "print('Accuracy for Random Forest :', 100*accuracy_score(df.y_act, \r\n",
        "                                                           df.y_pred_rf))"
      ],
      "execution_count": 338,
      "outputs": [
        {
          "output_type": "stream",
          "text": [
            "Accuracy for Logistic Regression : 58.789186444980324\n",
            "Accuracy for Random Forest : 61.276811778144435\n"
          ],
          "name": "stdout"
        }
      ]
    },
    {
      "cell_type": "code",
      "metadata": {
        "colab": {
          "base_uri": "https://localhost:8080/"
        },
        "id": "zEt9NaHLnkvf",
        "outputId": "71973c25-0ee2-4d2c-a222-f6ece30f8573"
      },
      "source": [
        "print('Precision for Logistic Regression :', 100*compute_precision(tp_lr, tn_lr, fn_lr, fp_lr))\r\n",
        "print('Precision for Random Forest :', 100*compute_precision(tp_rf, tn_rf, fn_rf, fp_rf))\r\n",
        "lr_prec.append(100*compute_precision(tp_lr, tn_lr, fn_lr, fp_lr))\r\n",
        "rf_prec.append(100*compute_precision(tp_rf, tn_rf, fn_rf, fp_rf))"
      ],
      "execution_count": 339,
      "outputs": [
        {
          "output_type": "stream",
          "text": [
            "Precision for Logistic Regression : 70.20717829004961\n",
            "Precision for Random Forest : 82.89522399111439\n"
          ],
          "name": "stdout"
        }
      ]
    },
    {
      "cell_type": "code",
      "metadata": {
        "colab": {
          "base_uri": "https://localhost:8080/"
        },
        "id": "sufzruzvi1-t",
        "outputId": "77ddf04b-1ed1-4b56-bf6f-6c2f789d2200"
      },
      "source": [
        "from sklearn.metrics import precision_score\r\n",
        "print('Precision for Logistic Regression :', 100* precision_score(df.y_act, \r\n",
        "                                                           df.y_pred_lr))\r\n",
        "print('Precision for Random Forest :', 100* precision_score(df.y_act, \r\n",
        "                                                           df.y_pred_rf))"
      ],
      "execution_count": 340,
      "outputs": [
        {
          "output_type": "stream",
          "text": [
            "Precision for Logistic Regression : 70.20717829004961\n",
            "Precision for Random Forest : 82.89522399111439\n"
          ],
          "name": "stdout"
        }
      ]
    },
    {
      "cell_type": "code",
      "metadata": {
        "colab": {
          "base_uri": "https://localhost:8080/"
        },
        "id": "F_VtBVFFnpJN",
        "outputId": "228cbf75-ad51-49e8-bfbb-d27d7d955074"
      },
      "source": [
        "print('Recall for Logistic Regression :', 100*compute_recall(tp_lr, tn_lr, fn_lr, fp_lr))\r\n",
        "print('Recall for Random Forest :', 100*compute_recall(tp_rf, tn_rf, fn_rf, fp_rf))\r\n",
        "lr_rec.append(100*compute_recall(tp_lr, tn_lr, fn_lr, fp_lr))\r\n",
        "rf_rec.append(100*compute_recall(tp_rf, tn_rf, fn_rf, fp_rf))"
      ],
      "execution_count": 341,
      "outputs": [
        {
          "output_type": "stream",
          "text": [
            "Recall for Logistic Regression : 30.536870161187966\n",
            "Recall for Random Forest : 28.417311841604263\n"
          ],
          "name": "stdout"
        }
      ]
    },
    {
      "cell_type": "code",
      "metadata": {
        "colab": {
          "base_uri": "https://localhost:8080/"
        },
        "id": "7B5cvQ8VjA9A",
        "outputId": "d392f012-0f95-46e7-a49a-0b0149b18697"
      },
      "source": [
        "from sklearn.metrics import recall_score\r\n",
        "\r\n",
        "print('Recall for Logistic Regression :', 100* recall_score(df.y_act, \r\n",
        "                                                           df.y_pred_lr))\r\n",
        "print('Recall for Random Forest :', 100* recall_score(df.y_act, \r\n",
        "                                                           df.y_pred_rf))"
      ],
      "execution_count": 342,
      "outputs": [
        {
          "output_type": "stream",
          "text": [
            "Recall for Logistic Regression : 30.536870161187966\n",
            "Recall for Random Forest : 28.417311841604263\n"
          ],
          "name": "stdout"
        }
      ]
    },
    {
      "cell_type": "code",
      "metadata": {
        "colab": {
          "base_uri": "https://localhost:8080/"
        },
        "id": "LAycycdpnqM9",
        "outputId": "7b14db90-4d73-4ee1-8535-580cdd02d91b"
      },
      "source": [
        "print('F1 score for Logistic Regression :', compute_f1_score(df.y_act, \r\n",
        "                                                             df.y_pred_lr))\r\n",
        "print('F1 score for Random Forest :', compute_f1_score(df.y_act, \r\n",
        "                                                             df.y_pred_rf))\r\n",
        "lr_f1score.append(compute_f1_score(df.y_act, df.y_pred_lr))\r\n",
        "rf_f1score.append(compute_f1_score(df.y_act, df.y_pred_rf))"
      ],
      "execution_count": 343,
      "outputs": [
        {
          "output_type": "stream",
          "text": [
            "F1 score for Logistic Regression : 0.42561471784892974\n",
            "F1 score for Random Forest : 0.42325141776937614\n"
          ],
          "name": "stdout"
        }
      ]
    },
    {
      "cell_type": "code",
      "metadata": {
        "colab": {
          "base_uri": "https://localhost:8080/"
        },
        "id": "-6Oh_YoojMQZ",
        "outputId": "cebdfcb6-92fe-40ea-c0b3-c52c7ffc247b"
      },
      "source": [
        "from sklearn.metrics import f1_score\r\n",
        "print('F1 score for Logistic Regression :', f1_score(df.y_act, df.y_pred_lr))\r\n",
        "print('F1 score for Random Forest :', f1_score(df.y_act, df.y_pred_rf))"
      ],
      "execution_count": 344,
      "outputs": [
        {
          "output_type": "stream",
          "text": [
            "F1 score for Logistic Regression : 0.42561471784892974\n",
            "F1 score for Random Forest : 0.42325141776937614\n"
          ],
          "name": "stdout"
        }
      ]
    },
    {
      "cell_type": "markdown",
      "metadata": {
        "id": "T0VMbmsvh2WW"
      },
      "source": [
        "**FOR THRESOLD = 0.4**"
      ]
    },
    {
      "cell_type": "code",
      "metadata": {
        "colab": {
          "base_uri": "https://localhost:8080/",
          "height": 194
        },
        "id": "iXr0qd1soSZP",
        "outputId": "0659e4d9-79e5-4d7f-8fd3-be2bf865b237"
      },
      "source": [
        "thresh = 0.4\r\n",
        "df['y_pred_rf'] = (df.y_pred_random_forest >= thresh).astype('int')\r\n",
        "df['y_pred_lr'] = (df.y_pred_logistic >= thresh).astype('int')\r\n",
        "df.head()"
      ],
      "execution_count": 345,
      "outputs": [
        {
          "output_type": "execute_result",
          "data": {
            "text/html": [
              "<div>\n",
              "<style scoped>\n",
              "    .dataframe tbody tr th:only-of-type {\n",
              "        vertical-align: middle;\n",
              "    }\n",
              "\n",
              "    .dataframe tbody tr th {\n",
              "        vertical-align: top;\n",
              "    }\n",
              "\n",
              "    .dataframe thead th {\n",
              "        text-align: right;\n",
              "    }\n",
              "</style>\n",
              "<table border=\"1\" class=\"dataframe\">\n",
              "  <thead>\n",
              "    <tr style=\"text-align: right;\">\n",
              "      <th></th>\n",
              "      <th>y_act</th>\n",
              "      <th>y_pred_random_forest</th>\n",
              "      <th>y_pred_logistic</th>\n",
              "      <th>y_pred_rf</th>\n",
              "      <th>y_pred_lr</th>\n",
              "    </tr>\n",
              "  </thead>\n",
              "  <tbody>\n",
              "    <tr>\n",
              "      <th>0</th>\n",
              "      <td>1</td>\n",
              "      <td>0.639816</td>\n",
              "      <td>0.531904</td>\n",
              "      <td>1</td>\n",
              "      <td>1</td>\n",
              "    </tr>\n",
              "    <tr>\n",
              "      <th>1</th>\n",
              "      <td>0</td>\n",
              "      <td>0.490993</td>\n",
              "      <td>0.414496</td>\n",
              "      <td>1</td>\n",
              "      <td>1</td>\n",
              "    </tr>\n",
              "    <tr>\n",
              "      <th>2</th>\n",
              "      <td>1</td>\n",
              "      <td>0.623815</td>\n",
              "      <td>0.569883</td>\n",
              "      <td>1</td>\n",
              "      <td>1</td>\n",
              "    </tr>\n",
              "    <tr>\n",
              "      <th>3</th>\n",
              "      <td>1</td>\n",
              "      <td>0.506616</td>\n",
              "      <td>0.443674</td>\n",
              "      <td>1</td>\n",
              "      <td>1</td>\n",
              "    </tr>\n",
              "    <tr>\n",
              "      <th>4</th>\n",
              "      <td>0</td>\n",
              "      <td>0.418302</td>\n",
              "      <td>0.369532</td>\n",
              "      <td>1</td>\n",
              "      <td>0</td>\n",
              "    </tr>\n",
              "  </tbody>\n",
              "</table>\n",
              "</div>"
            ],
            "text/plain": [
              "   y_act  y_pred_random_forest  y_pred_logistic  y_pred_rf  y_pred_lr\n",
              "0      1              0.639816         0.531904          1          1\n",
              "1      0              0.490993         0.414496          1          1\n",
              "2      1              0.623815         0.569883          1          1\n",
              "3      1              0.506616         0.443674          1          1\n",
              "4      0              0.418302         0.369532          1          0"
            ]
          },
          "metadata": {
            "tags": []
          },
          "execution_count": 345
        }
      ]
    },
    {
      "cell_type": "code",
      "metadata": {
        "colab": {
          "base_uri": "https://localhost:8080/"
        },
        "id": "n6dwQZ7loWCH",
        "outputId": "9c21ef68-bee0-4677-fcc8-6a3e0376d244"
      },
      "source": [
        "df.shape"
      ],
      "execution_count": 346,
      "outputs": [
        {
          "output_type": "execute_result",
          "data": {
            "text/plain": [
              "(15758, 5)"
            ]
          },
          "metadata": {
            "tags": []
          },
          "execution_count": 346
        }
      ]
    },
    {
      "cell_type": "code",
      "metadata": {
        "colab": {
          "base_uri": "https://localhost:8080/"
        },
        "id": "IoX1fEXxoYbN",
        "outputId": "7cd07d66-a13d-409f-f7fa-41ef4bb88a54"
      },
      "source": [
        "tp_lr, tn_lr, fp_lr, fn_lr = compute_tp_tn_fn_fp(df.y_act, df.y_pred_lr)\r\n",
        "print('TP for Logistic Reg :', tp_lr)\r\n",
        "print('TN for Logistic Reg :', tn_lr)\r\n",
        "print('FP for Logistic Reg :', fp_lr)\r\n",
        "print('FN for Logistic Reg :', fn_lr)"
      ],
      "execution_count": 347,
      "outputs": [
        {
          "output_type": "stream",
          "text": [
            "TP for Logistic Reg : 6535\n",
            "TN for Logistic Reg : 2862\n",
            "FP for Logistic Reg : 5017\n",
            "FN for Logistic Reg : 1344\n"
          ],
          "name": "stdout"
        }
      ]
    },
    {
      "cell_type": "code",
      "metadata": {
        "colab": {
          "base_uri": "https://localhost:8080/"
        },
        "id": "wINJyCrPoZqN",
        "outputId": "6f2d4c9f-c9a1-409f-bb86-745cb56f2de8"
      },
      "source": [
        "tp_rf, tn_rf, fp_rf, fn_rf = compute_tp_tn_fn_fp(df.y_act, df.y_pred_rf)\r\n",
        "print('TP for Random Forest :', tp_rf)\r\n",
        "print('TN for Random Forest :', tn_rf)\r\n",
        "print('FP for Random Forest :', fp_rf)\r\n",
        "print('FN for Random Forest :', fn_rf)"
      ],
      "execution_count": 348,
      "outputs": [
        {
          "output_type": "stream",
          "text": [
            "TP for Random Forest : 7411\n",
            "TN for Random Forest : 1930\n",
            "FP for Random Forest : 5949\n",
            "FN for Random Forest : 468\n"
          ],
          "name": "stdout"
        }
      ]
    },
    {
      "cell_type": "code",
      "metadata": {
        "id": "3bskH-54iMVL"
      },
      "source": [
        "from sklearn.metrics import confusion_matrix\r\n",
        "tn_rf1, fp_rf1, fn_rf1, tp_rf1 = confusion_matrix(df.y_act, df.y_pred_rf).ravel()"
      ],
      "execution_count": 349,
      "outputs": []
    },
    {
      "cell_type": "code",
      "metadata": {
        "colab": {
          "base_uri": "https://localhost:8080/"
        },
        "id": "KvY8hCUgiTe-",
        "outputId": "34b65ac0-2585-4098-bda8-d99a2679ba27"
      },
      "source": [
        "print('TP for Random Forest :', tp_rf1)\r\n",
        "print('TN for Random Forest :', tn_rf1)\r\n",
        "print('FP for Random Forest :', fp_rf1)\r\n",
        "print('FN for Random Forest :', fn_rf1)"
      ],
      "execution_count": 350,
      "outputs": [
        {
          "output_type": "stream",
          "text": [
            "TP for Random Forest : 7411\n",
            "TN for Random Forest : 1930\n",
            "FP for Random Forest : 5949\n",
            "FN for Random Forest : 468\n"
          ],
          "name": "stdout"
        }
      ]
    },
    {
      "cell_type": "code",
      "metadata": {
        "colab": {
          "base_uri": "https://localhost:8080/"
        },
        "id": "pZpBDhzGoaGs",
        "outputId": "5e874fce-19fe-4c34-f080-2cbdd08a60d9"
      },
      "source": [
        "print('Accuracy for Logistic Regression :', 100*compute_accuracy(tp_lr, tn_lr, fn_lr, fp_lr))\r\n",
        "print('Accuracy for Random Forest :', 100*compute_accuracy(tp_rf, tn_rf, fn_rf, fp_rf))\r\n",
        "lr_accur.append(100*compute_accuracy(tp_lr, tn_lr, fn_lr, fp_lr))\r\n",
        "rf_accur.append(100*compute_accuracy(tp_rf, tn_rf, fn_rf, fp_rf))"
      ],
      "execution_count": 351,
      "outputs": [
        {
          "output_type": "stream",
          "text": [
            "Accuracy for Logistic Regression : 59.633202183018156\n",
            "Accuracy for Random Forest : 59.27782713542328\n"
          ],
          "name": "stdout"
        }
      ]
    },
    {
      "cell_type": "code",
      "metadata": {
        "id": "6FuzqsJqijY0"
      },
      "source": [
        "from sklearn.metrics import accuracy_score"
      ],
      "execution_count": 352,
      "outputs": []
    },
    {
      "cell_type": "code",
      "metadata": {
        "colab": {
          "base_uri": "https://localhost:8080/"
        },
        "id": "4h1xNxDlitP1",
        "outputId": "629b3a0e-d8ad-4151-8b33-57c75562a7ef"
      },
      "source": [
        "print('Accuracy for Logistic Regression :', 100* accuracy_score(df.y_act, \r\n",
        "                                                           df.y_pred_lr))\r\n",
        "print('Accuracy for Random Forest :', 100*accuracy_score(df.y_act, \r\n",
        "                                                           df.y_pred_rf))"
      ],
      "execution_count": 353,
      "outputs": [
        {
          "output_type": "stream",
          "text": [
            "Accuracy for Logistic Regression : 59.633202183018156\n",
            "Accuracy for Random Forest : 59.27782713542328\n"
          ],
          "name": "stdout"
        }
      ]
    },
    {
      "cell_type": "code",
      "metadata": {
        "colab": {
          "base_uri": "https://localhost:8080/"
        },
        "id": "9PRyYl6sofQ4",
        "outputId": "019e39ff-a2c6-47ca-aa57-c2e09350f7d5"
      },
      "source": [
        "print('Precision for Logistic Regression :', 100*compute_precision(tp_lr, tn_lr, fn_lr, fp_lr))\r\n",
        "print('Precision for Random Forest :', 100*compute_precision(tp_rf, tn_rf, fn_rf, fp_rf))\r\n",
        "lr_prec.append(100*compute_precision(tp_lr, tn_lr, fn_lr, fp_lr))\r\n",
        "rf_prec.append(100*compute_precision(tp_rf, tn_rf, fn_rf, fp_rf))"
      ],
      "execution_count": 354,
      "outputs": [
        {
          "output_type": "stream",
          "text": [
            "Precision for Logistic Regression : 56.570290858725755\n",
            "Precision for Random Forest : 55.471556886227546\n"
          ],
          "name": "stdout"
        }
      ]
    },
    {
      "cell_type": "code",
      "metadata": {
        "colab": {
          "base_uri": "https://localhost:8080/"
        },
        "id": "fs8qNjlXi4ev",
        "outputId": "6dbfc6c9-1256-4079-bfa1-1c6267ad5a9b"
      },
      "source": [
        "from sklearn.metrics import precision_score\r\n",
        "print('Precision for Logistic Regression :', 100* precision_score(df.y_act, \r\n",
        "                                                           df.y_pred_lr))\r\n",
        "print('Precision for Random Forest :', 100* precision_score(df.y_act, \r\n",
        "                                                           df.y_pred_rf))"
      ],
      "execution_count": 355,
      "outputs": [
        {
          "output_type": "stream",
          "text": [
            "Precision for Logistic Regression : 56.570290858725755\n",
            "Precision for Random Forest : 55.471556886227546\n"
          ],
          "name": "stdout"
        }
      ]
    },
    {
      "cell_type": "code",
      "metadata": {
        "colab": {
          "base_uri": "https://localhost:8080/"
        },
        "id": "Y1EJq_uBoflB",
        "outputId": "1d3bf4a2-0875-49dd-ae73-159d84eae2e0"
      },
      "source": [
        "print('Recall for Logistic Regression :', 100*compute_recall(tp_lr, tn_lr, fn_lr, fp_lr))\r\n",
        "print('Recall for Random Forest :', 100*compute_recall(tp_rf, tn_rf, fn_rf, fp_rf))\r\n",
        "lr_rec.append(100*compute_recall(tp_lr, tn_lr, fn_lr, fp_lr))\r\n",
        "rf_rec.append(100*compute_recall(tp_rf, tn_rf, fn_rf, fp_rf))"
      ],
      "execution_count": 356,
      "outputs": [
        {
          "output_type": "stream",
          "text": [
            "Recall for Logistic Regression : 82.94199771544612\n",
            "Recall for Random Forest : 94.06015991877142\n"
          ],
          "name": "stdout"
        }
      ]
    },
    {
      "cell_type": "code",
      "metadata": {
        "colab": {
          "base_uri": "https://localhost:8080/"
        },
        "id": "bWA4s6GgjDOm",
        "outputId": "51cc1df8-de4b-4776-9898-3199af6ca5cb"
      },
      "source": [
        "from sklearn.metrics import recall_score\r\n",
        "\r\n",
        "print('Recall for Logistic Regression :', 100* recall_score(df.y_act, \r\n",
        "                                                           df.y_pred_lr))\r\n",
        "print('Recall for Random Forest :', 100* recall_score(df.y_act, \r\n",
        "                                                           df.y_pred_rf))"
      ],
      "execution_count": 357,
      "outputs": [
        {
          "output_type": "stream",
          "text": [
            "Recall for Logistic Regression : 82.94199771544612\n",
            "Recall for Random Forest : 94.06015991877142\n"
          ],
          "name": "stdout"
        }
      ]
    },
    {
      "cell_type": "code",
      "metadata": {
        "colab": {
          "base_uri": "https://localhost:8080/"
        },
        "id": "jis6Mj1gof-y",
        "outputId": "0426fbb8-8b6d-4075-fca6-1011c1c4f1c1"
      },
      "source": [
        "print('F1 score for Logistic Regression :', compute_f1_score(df.y_act, \r\n",
        "                                                             df.y_pred_lr))\r\n",
        "print('F1 score for Random Forest :', compute_f1_score(df.y_act, \r\n",
        "                                                             df.y_pred_rf))\r\n",
        "lr_f1score.append(compute_f1_score(df.y_act, df.y_pred_lr))\r\n",
        "rf_f1score.append(compute_f1_score(df.y_act, df.y_pred_rf))"
      ],
      "execution_count": 358,
      "outputs": [
        {
          "output_type": "stream",
          "text": [
            "F1 score for Logistic Regression : 0.6726365086717101\n",
            "F1 score for Random Forest : 0.6978671312208673\n"
          ],
          "name": "stdout"
        }
      ]
    },
    {
      "cell_type": "code",
      "metadata": {
        "colab": {
          "base_uri": "https://localhost:8080/"
        },
        "id": "ByAzdraqjOM6",
        "outputId": "58ca0954-5d8f-4b4c-a476-39fd0b827343"
      },
      "source": [
        "from sklearn.metrics import f1_score\r\n",
        "print('F1 score for Logistic Regression :', f1_score(df.y_act, df.y_pred_lr))\r\n",
        "print('F1 score for Random Forest :', f1_score(df.y_act, df.y_pred_rf))"
      ],
      "execution_count": 359,
      "outputs": [
        {
          "output_type": "stream",
          "text": [
            "F1 score for Logistic Regression : 0.6726365086717101\n",
            "F1 score for Random Forest : 0.6978671312208673\n"
          ],
          "name": "stdout"
        }
      ]
    },
    {
      "cell_type": "markdown",
      "metadata": {
        "id": "qUZZeSZyZtTo"
      },
      "source": [
        "**Graphs for Better Understanding**"
      ]
    },
    {
      "cell_type": "code",
      "metadata": {
        "colab": {
          "base_uri": "https://localhost:8080/",
          "height": 295
        },
        "id": "GjpzrkbgNSWG",
        "outputId": "b2fa3918-652a-433a-e548-d80c0a19a0d2"
      },
      "source": [
        "x = thresold_value\r\n",
        "y = lr_accur\r\n",
        "z = rf_accur\r\n",
        "# red color for lr system and Blue color for rf system\r\n",
        "plt.title(\"Accuracy vs Thresold\")\r\n",
        "plt.xlabel(\"Thresold value\")\r\n",
        "plt.ylabel(\"Accuracy\")\r\n",
        "plt.scatter(x,y, color = 'red')\r\n",
        "plt.scatter(x,z, color = 'blue')\r\n",
        "plt.grid()\r\n",
        "plt.show()"
      ],
      "execution_count": 360,
      "outputs": [
        {
          "output_type": "display_data",
          "data": {
            "image/png": "[encoded data removed]",
            "text/plain": [
              "<Figure size 432x288 with 1 Axes>"
            ]
          },
          "metadata": {
            "tags": [],
            "needs_background": "light"
          }
        }
      ]
    },
    {
      "cell_type": "code",
      "metadata": {
        "colab": {
          "base_uri": "https://localhost:8080/",
          "height": 295
        },
        "id": "pTGKTBr7PhLI",
        "outputId": "a0f1857c-1f34-40b5-d294-39a1cd5e8878"
      },
      "source": [
        "x = thresold_value\r\n",
        "y = lr_prec\r\n",
        "z = rf_prec\r\n",
        "# red color for lr system and Blue color for rf system\r\n",
        "plt.title(\"precision vs Thresold\")\r\n",
        "plt.xlabel(\"Thresold value\")\r\n",
        "plt.ylabel(\"precision\")\r\n",
        "plt.scatter(x,y, color = 'red')\r\n",
        "plt.scatter(x,z, color = 'blue')\r\n",
        "plt.grid()\r\n",
        "plt.show()"
      ],
      "execution_count": 361,
      "outputs": [
        {
          "output_type": "display_data",
          "data": {
            "image/png": "[encoded data removed]",
            "text/plain": [
              "<Figure size 432x288 with 1 Axes>"
            ]
          },
          "metadata": {
            "tags": [],
            "needs_background": "light"
          }
        }
      ]
    },
    {
      "cell_type": "code",
      "metadata": {
        "colab": {
          "base_uri": "https://localhost:8080/",
          "height": 295
        },
        "id": "dd7W3RQHPhCc",
        "outputId": "a4b84dff-85b2-4047-9816-5ac3987cde1c"
      },
      "source": [
        "x = thresold_value\r\n",
        "y = lr_rec\r\n",
        "z = rf_rec\r\n",
        "# red color for lr system and Blue color for rf system\r\n",
        "plt.title(\"Recall vs Thresold\")\r\n",
        "plt.xlabel(\"Thresold value\")\r\n",
        "plt.ylabel(\"Recall\")\r\n",
        "plt.scatter(x,y, color = 'red')\r\n",
        "plt.scatter(x,z, color = 'blue')\r\n",
        "plt.grid()\r\n",
        "plt.show()"
      ],
      "execution_count": 362,
      "outputs": [
        {
          "output_type": "display_data",
          "data": {
            "image/png": "[encoded data removed]",
            "text/plain": [
              "<Figure size 432x288 with 1 Axes>"
            ]
          },
          "metadata": {
            "tags": [],
            "needs_background": "light"
          }
        }
      ]
    },
    {
      "cell_type": "code",
      "metadata": {
        "colab": {
          "base_uri": "https://localhost:8080/",
          "height": 295
        },
        "id": "DVVRNOGtPg4i",
        "outputId": "8b62ae29-307e-4e99-98be-3b00c2bbf313"
      },
      "source": [
        "x = thresold_value\r\n",
        "y = lr_f1score\r\n",
        "z = rf_f1score\r\n",
        "# red color for lr system and Blue color for rf system\r\n",
        "plt.title(\"f1-score vs Thresold\")\r\n",
        "plt.xlabel(\"Thresold value\")\r\n",
        "plt.ylabel(\"f1-score\")\r\n",
        "plt.scatter(x,y, color = 'red')\r\n",
        "plt.scatter(x,z, color = 'blue')\r\n",
        "plt.grid()\r\n",
        "plt.show()"
      ],
      "execution_count": 363,
      "outputs": [
        {
          "output_type": "display_data",
          "data": {
            "image/png": "[encoded data removed]",
            "text/plain": [
              "<Figure size 432x288 with 1 Axes>"
            ]
          },
          "metadata": {
            "tags": [],
            "needs_background": "light"
          }
        }
      ]
    },
    {
      "cell_type": "code",
      "metadata": {
        "colab": {
          "base_uri": "https://localhost:8080/",
          "height": 331
        },
        "id": "3IGOZxmcCaaL",
        "outputId": "4b5dc9bb-b70f-453a-b51a-ca8e12c8efdb"
      },
      "source": [
        "import sklearn.metrics as metrics\r\n",
        "import matplotlib.pyplot as plt\r\n",
        "FPR1, TPR1, _ = metrics.roc_curve(df.y_act,df.y_pred_logistic)\r\n",
        "FPR2,TPR2,_=metrics.roc_curve(df.y_act,df.y_pred_random_forest)\r\n",
        "roc_aucl = metrics.auc(FPR1, TPR1)\r\n",
        "roc_aucr = metrics.auc(FPR2,TPR2)\r\n",
        "\r\n",
        "# Plot the ROC curve\r\n",
        "plt.plot(FPR1, TPR1, color='red',lw=2, label='Logistic Regression')\r\n",
        "plt.plot(FPR2, TPR2, color='blue',lw=2, label='Random Rainforest')\r\n",
        "plt.plot([0, 1], [0, 1], color='y', lw=2, linestyle='--', label=\"Mean\")\r\n",
        "plt.xlim([0.0, 1.0])\r\n",
        "plt.ylim([0.0, 1.0])\r\n",
        "plt.title(\"ROC curve\")\r\n",
        "plt.xlabel('False Positive Rate')\r\n",
        "plt.ylabel('True Positive Rate')\r\n",
        "plt.legend(loc=\"lower right\")\r\n",
        "plt.show()\r\n",
        "print('ROC-AUC of Logistic Regression: %0.6f'%roc_aucl)\r\n",
        "print('ROC-AUC of Random Rainforest: %0.6f'%roc_aucr)"
      ],
      "execution_count": 369,
      "outputs": [
        {
          "output_type": "display_data",
          "data": {
            "image/png": "[encoded data removed]",
            "text/plain": [
              "<Figure size 432x288 with 1 Axes>"
            ]
          },
          "metadata": {
            "tags": [],
            "needs_background": "light"
          }
        },
        {
          "output_type": "stream",
          "text": [
            "ROC-AUC of Logistic Regression: 0.665744\n",
            "ROC-AUC of Random Rainforest: 0.738295\n"
          ],
          "name": "stdout"
        }
      ]
    }
  ]
}